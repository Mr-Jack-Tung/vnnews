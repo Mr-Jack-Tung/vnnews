{
  "cells": [
    {
      "cell_type": "markdown",
      "metadata": {
        "colab_type": "text",
        "id": "view-in-github"
      },
      "source": [
        "<a href=\"https://colab.research.google.com/github/thinh-vu/vnnews/blob/main/vnnews_Demo_workbook_2022_11_20.ipynb\" target=\"_parent\"><img src=\"https://colab.research.google.com/assets/colab-badge.svg\" alt=\"Open In Colab\"/></a>"
      ]
    },
    {
      "cell_type": "markdown",
      "metadata": {
        "id": "HkSZu2vF6LtF"
      },
      "source": [
        "# I. Config"
      ]
    },
    {
      "cell_type": "code",
      "execution_count": 1,
      "metadata": {
        "colab": {
          "base_uri": "https://localhost:8080/"
        },
        "id": "Poipu-FSr49W",
        "outputId": "7a5106cd-f00b-48a6-dc5f-df12dfaccaea"
      },
      "outputs": [
        {
          "name": "stdout",
          "output_type": "stream",
          "text": [
            "Looking in indexes: https://pypi.org/simple, https://us-python.pkg.dev/colab-wheels/public/simple/\n",
            "Collecting git+https://github.com/thinh-vu/vnnews.git@main\n",
            "  Cloning https://github.com/thinh-vu/vnnews.git (to revision main) to /tmp/pip-req-build-avn9wyd3\n",
            "  Running command git clone -q https://github.com/thinh-vu/vnnews.git /tmp/pip-req-build-avn9wyd3\n",
            "  Installing build dependencies ... \u001b[?25l\u001b[?25hdone\n",
            "  Getting requirements to build wheel ... \u001b[?25l\u001b[?25hdone\n",
            "    Preparing wheel metadata ... \u001b[?25l\u001b[?25hdone\n",
            "Building wheels for collected packages: vnnews\n",
            "  Building wheel for vnnews (PEP 517) ... \u001b[?25l\u001b[?25hdone\n",
            "  Created wheel for vnnews: filename=vnnews-0.0.1-py3-none-any.whl size=7784 sha256=6ed45456141f26e8ae6a9ed381b85de850886cb0548ca876313d4ca5551b6c18\n",
            "  Stored in directory: /tmp/pip-ephem-wheel-cache-hkb51rfw/wheels/a6/8e/65/49b240c67e72d765e966ead999095176c44cf5f3c406ab4fac\n",
            "Successfully built vnnews\n",
            "Installing collected packages: vnnews\n",
            "Successfully installed vnnews-0.0.1\n"
          ]
        }
      ],
      "source": [
        "pip install git+https://github.com/thinh-vu/vnnews.git@main"
      ]
    },
    {
      "cell_type": "code",
      "execution_count": 2,
      "metadata": {
        "id": "k6Dqew2LsHox"
      },
      "outputs": [],
      "source": [
        "from vnnews import *"
      ]
    },
    {
      "cell_type": "code",
      "execution_count": 3,
      "metadata": {
        "id": "fWHyYXpLsLLD"
      },
      "outputs": [],
      "source": [
        "url_ls = url_extract('https://vietstock.vn/', key='h4', type='link', bs_on='')[0]"
      ]
    },
    {
      "cell_type": "markdown",
      "metadata": {
        "id": "FUAv4LNxNchp"
      },
      "source": [
        "# II. Functions Testing"
      ]
    },
    {
      "cell_type": "markdown",
      "metadata": {
        "id": "KxdZOMkY-hPT"
      },
      "source": [
        "## VN Express"
      ]
    },
    {
      "cell_type": "code",
      "execution_count": 5,
      "metadata": {
        "colab": {
          "base_uri": "https://localhost:8080/"
        },
        "id": "GBFiJkF-mco3",
        "outputId": "757ef442-b7f2-44f6-aac3-0cf03b56ed14"
      },
      "outputs": [
        {
          "data": {
            "text/plain": [
              "(['https://vnexpress.net/tong-giam-doc-imf-kinh-te-viet-nam-la-diem-sang-ve-tang-truong-4538090.html',\n",
              "  'https://vnexpress.net/thuong-mai-va-dau-tu-ben-vung-se-giup-apec-ung-pho-nguy-co-suy-thoai-4538015.html',\n",
              "  'https://vnexpress.net/viet-nam-hong-kong-dat-muc-tieu-nang-kim-ngach-thuong-mai-len-50-ty-usd-4538007.html',\n",
              "  'https://vnexpress.net/doanh-nghiep-chau-a-dua-hien-dien-tai-world-cup-2022-4537609.html',\n",
              "  'https://vnexpress.net/nganh-ban-le-an-uong-o-at-tuyen-lao-dong-thoi-vu-4536767.html',\n",
              "  'https://vnexpress.net/fed-co-the-chi-tang-lai-suat-50-diem-co-ban-thang-toi-4537860.html',\n",
              "  'https://vnexpress.net/vo-chong-nguoi-my-nghi-huu-som-voi-19-can-ho-cho-thue-4536360.html',\n",
              "  'https://vnexpress.net/pho-chu-tich-tp-hcm-luon-xem-doanh-nghiep-la-doi-tuong-phuc-vu-4537699.html',\n",
              "  'https://vnexpress.net/chu-tich-nuoc-neu-ba-de-xuat-thuc-day-hop-tac-apec-voi-eu-va-vung-vinh-4537744.html',\n",
              "  'https://vnexpress.net/elon-musk-tuyen-bo-twitter-dat-ky-luc-nguoi-dung-4537776.html',\n",
              "  'https://vnexpress.net/lam-phat-nhat-ban-cao-nhat-40-nam-4537748.html',\n",
              "  'https://vnexpress.net/hoa-phat-khop-lenh-gan-100-trieu-co-phieu-4537728.html',\n",
              "  'https://vnexpress.net/bo-cong-thuong-de-nghi-hai-quan-cho-5-doanh-nghiep-tiep-tuc-nhap-xang-dau-4537632.html',\n",
              "  'https://vnexpress.net/world-cup-canh-bac-300-ty-usd-thay-doi-hinh-anh-qatar-4537390.html',\n",
              "  'https://vnexpress.net/vingroup-xay-them-nha-may-san-xuat-pin-hon-6-000-ty-dong-4537384.html',\n",
              "  'https://vnexpress.net/chu-tich-nuoc-apec-can-vuot-qua-su-khac-biet-de-thuc-day-tang-truong-4537642.html',\n",
              "  'https://vnexpress.net/the-economist-kinh-te-the-gioi-suy-thoai-van-chua-ngan-duoc-lam-phat-4536934.html',\n",
              "  'https://vnexpress.net/co-hoi-nao-cho-nong-san-viet-tham-nhap-thi-truong-thai-4537152.html',\n",
              "  'https://vnexpress.net/petrolimex-bo-muc-tieu-lai-nghin-ty-4537256.html',\n",
              "  'https://vnexpress.net/khanh-thanh-nha-may-nuoc-sach-cong-suat-15-000-m3-tai-sa-pa-4536734.html',\n",
              "  'https://vnexpress.net/gelex-electric-doi-ten-thanh-cong-ty-co-phan-dien-luc-gelex-4537601.html',\n",
              "  'https://vnexpress.net/canam-giai-ngan-khoan-vay-eb-5-dau-tien-theo-luat-cai-cach-4536732.html',\n",
              "  'https://vnexpress.net/vietnam-airlines-vao-top-10-thuong-hieu-tot-nhat-viet-nam-4537352.html',\n",
              "  'https://vnexpress.net/nha-sang-lap-hang-thoi-trang-tom-ford-thanh-ty-phu-4537315.html',\n",
              "  'https://vnexpress.net/doanh-nghiep-viet-thai-nen-hop-tac-lam-nhieu-du-an-quy-mo-lon-4537331.html',\n",
              "  'https://vnexpress.net/bon-de-xuat-thuc-day-tang-truong-tai-21-nen-kinh-te-apec-4537382.html',\n",
              "  'https://vnexpress.net/chinh-phu-lap-to-cong-tac-go-kho-cho-bat-dong-san-4537375.html',\n",
              "  'https://vnexpress.net/chung-khoan-phuc-hoi-manh-hai-phien-lien-tiep-4537296.html',\n",
              "  'https://vnexpress.net/chu-tich-nuoc-thuong-mai-cong-bang-la-cot-yeu-trong-san-choi-toan-cau-4537187.html',\n",
              "  'https://vnexpress.net/vi-sao-hon-750-can-biet-thu-bi-huy-cong-nhan-du-dieu-kien-ban-4537087.html',\n",
              "  'https://vnexpress.net/kho-khan-bua-vay-doanh-nghiep-4536908.html',\n",
              "  'https://vnexpress.net/rot-tien-ty-do-day-co-phieu-4536952.html',\n",
              "  'https://vnexpress.net/khoi-dong-tuan-hang-viet-nam-tai-thai-lan-4537288.html',\n",
              "  'https://vnexpress.net/chu-tich-nuoc-de-nghi-doanh-nghiep-my-mo-rong-chuoi-cung-ung-4537172.html',\n",
              "  'https://vnexpress.net/to-yen-viet-nam-xuat-chinh-ngach-sang-trung-quoc-4537063.html',\n",
              "  'https://vnexpress.net/kido-khong-con-so-huu-dau-an-neptune-simply-4536839.html',\n",
              "  'https://vnexpress.net/chien-luoc-mang-ve-doanh-thu-28-000-ty-cho-dai-gia-phan-phoi-oto-4536603.html',\n",
              "  'https://vnexpress.net/vib-co-the-noi-room-ngoai-len-30-4536702.html',\n",
              "  'https://vnexpress.net/chung-khoan-tang-manh-nhat-tu-dau-thang-4536814.html',\n",
              "  'https://vnexpress.net/gia-usd-tu-do-xuong-duoi-25-000-dong-4536801.html',\n",
              "  'https://vnexpress.net/cuc-thue-tp-hcm-co-nguoi-dieu-hanh-moi-4536715.html',\n",
              "  'https://vnexpress.net/thu-truong-cong-thuong-neu-ly-do-thi-truong-van-thieu-xang-4536476.html',\n",
              "  'https://vnexpress.net/lam-phat-o-anh-len-cao-nhat-41-nam-4536911.html',\n",
              "  'https://vnexpress.net/nha-dau-tu-tesla-lo-ngai-khi-elon-musk-lam-viec-xuyen-dem-o-twitter-4536704.html',\n",
              "  'https://vnexpress.net/ba-ty-dong-nen-mua-nha-dat-dang-giam-gia-hay-cho-bat-day-4535529.html',\n",
              "  'https://vnexpress.net/trung-quoc-tang-nhap-tom-hum-viet-nam-4536169.html',\n",
              "  'https://vnexpress.net/nhieu-nguoi-new-zealand-rat-vui-vi-duoc-viet-nam-cung-cap-chanh-quanh-nam-4536439.html',\n",
              "  'https://vnexpress.net/de-bai-kinh-te-kho-giai-cua-g20-nam-nay-4536228.html',\n",
              "  'https://vnexpress.net/quoc-hoi-de-nghi-som-co-hanh-lang-phap-ly-ve-tien-so-tai-san-ao-4536376.html',\n",
              "  'https://vnexpress.net/380-co-phieu-giam-san-4536357.html'],\n",
              " ['Tổng giám đốc IMF: Kinh tế Việt Nam là điểm sáng về tăng trưởng',\n",
              "  \"'Thương mại và đầu tư bền vững sẽ giúp APEC ứng phó nguy cơ suy thoái'\",\n",
              "  'Việt Nam - Hong Kong đặt mục tiêu nâng kim ngạch thương mại lên 50 tỷ USD',\n",
              "  'Doanh nghiệp châu Á đua hiện diện tại World Cup 2022',\n",
              "  'Ngành bán lẻ, ăn uống ồ ạt tuyển lao động thời vụ',\n",
              "  'Fed có thể chỉ tăng lãi suất 50 điểm cơ bản tháng tới',\n",
              "  'Vợ chồng người Mỹ nghỉ hưu sớm với 19 căn hộ cho thuê',\n",
              "  \"Phó chủ tịch TP HCM: 'Luôn xem doanh nghiệp là đối tượng phục vụ'\",\n",
              "  'Chủ tịch nước nêu ba đề xuất thúc đẩy hợp tác APEC với EU và vùng Vịnh',\n",
              "  'Elon Musk tuyên bố Twitter đạt kỷ lục người dùng',\n",
              "  'Lạm phát Nhật Bản cao nhất 40 năm',\n",
              "  'Hòa Phát khớp lệnh gần 100 triệu cổ phiếu',\n",
              "  'Bộ Công Thương đề nghị hải quan cho 5 doanh nghiệp tiếp tục nhập xăng dầu',\n",
              "  'World Cup - canh bạc 300 tỷ USD thay đổi hình ảnh Qatar',\n",
              "  'Vingroup xây thêm nhà máy sản xuất pin hơn 6.000 tỷ đồng',\n",
              "  'Chủ tịch nước: APEC cần vượt qua sự khác biệt để thúc đẩy tăng trưởng',\n",
              "  'The Economist: Kinh tế thế giới suy thoái vẫn chưa ngăn được lạm phát',\n",
              "  'Cơ hội nào cho nông sản Việt thâm nhập thị trường Thái?',\n",
              "  'Petrolimex bỏ mục tiêu lãi nghìn tỷ',\n",
              "  'Khánh thành nhà máy nước sạch công suất 15.000 m3 tại Sa Pa',\n",
              "  'Gelex Electric đổi tên thành Công ty cổ phần Điện lực Gelex',\n",
              "  'CanAm giải ngân khoản vay EB-5 đầu tiên theo luật cải cách',\n",
              "  'Vietnam Airlines vào top 10 thương hiệu tốt nhất Việt Nam',\n",
              "  'Nhà sáng lập hãng thời trang Tom Ford thành tỷ phú',\n",
              "  \"'Doanh nghiệp Việt - Thái nên hợp tác làm nhiều dự án quy mô lớn'\",\n",
              "  'Bốn đề xuất thúc đẩy tăng trưởng tại 21 nền kinh tế APEC',\n",
              "  'Chính phủ lập Tổ công tác gỡ khó cho bất động sản',\n",
              "  'Chứng khoán phục hồi mạnh hai phiên liên tiếp',\n",
              "  'Chủ tịch nước: Thương mại công bằng là cốt yếu trong sân chơi toàn cầu',\n",
              "  \"Vì sao hơn 750 căn biệt thự bị hủy công nhận 'đủ điều kiện bán'?\",\n",
              "  'Khó khăn bủa vây doanh nghiệp',\n",
              "  'Rót tiền tỷ dò đáy cổ phiếu',\n",
              "  'Khởi động Tuần hàng Việt Nam tại Thái Lan',\n",
              "  'Chủ tịch nước đề nghị doanh nghiệp Mỹ mở rộng chuỗi cung ứng',\n",
              "  'Tổ yến Việt Nam xuất chính ngạch sang Trung Quốc',\n",
              "  'Kido không còn sở hữu dầu ăn Neptune, Simply',\n",
              "  \"Chiến lược mang về doanh thu 28.000 tỷ cho 'đại gia' phân phối ôtô\",\n",
              "  'VIB có thể nới room ngoại lên 30%',\n",
              "  'Chứng khoán tăng mạnh nhất từ đầu tháng',\n",
              "  'Giá USD tự do xuống dưới 25.000 đồng',\n",
              "  'Cục thuế TP HCM có người điều hành mới',\n",
              "  'Thứ trưởng Công Thương nêu lý do thị trường vẫn thiếu xăng',\n",
              "  'Lạm phát ở Anh lên cao nhất 41 năm',\n",
              "  'Nhà đầu tư Tesla lo ngại khi Elon Musk làm việc xuyên đêm ở Twitter',\n",
              "  'Ba tỷ đồng nên mua nhà đất đang giảm giá hay chờ bắt đáy?',\n",
              "  'Trung Quốc tăng nhập tôm hùm Việt Nam',\n",
              "  \"'Nhiều người New Zealand rất vui vì được Việt Nam cung cấp chanh quanh năm'\",\n",
              "  'Đề bài kinh tế khó giải của G20 năm nay',\n",
              "  'Quốc hội đề nghị sớm có hành lang pháp lý về tiền số, tài sản ảo',\n",
              "  '380 cổ phiếu giảm sàn'],\n",
              " 'https://vnexpress.net',\n",
              " 'vnexpress.net',\n",
              " 'fail',\n",
              " 'first')"
            ]
          },
          "execution_count": 5,
          "metadata": {},
          "output_type": "execute_result"
        }
      ],
      "source": [
        "url_extract('https://vnexpress.net/kinh-doanh', key='h3')"
      ]
    },
    {
      "cell_type": "code",
      "execution_count": 7,
      "metadata": {
        "colab": {
          "base_uri": "https://localhost:8080/"
        },
        "id": "uphkg2jUmQfw",
        "outputId": "26c0c819-67bf-4069-b5b1-814beb1b3f2b"
      },
      "outputs": [
        {
          "data": {
            "text/plain": [
              "(['Thứ bảy, 19/11/2022, 15:05 (GMT+7)'],\n",
              " \"'Thương mại và đầu tư bền vững sẽ giúp APEC ứng phó nguy cơ suy thoái' - VnExpress Kinh doanh\",\n",
              " 'https://vnexpress.net',\n",
              " 'vnexpress.net',\n",
              " 'try',\n",
              " 'last')"
            ]
          },
          "execution_count": 7,
          "metadata": {},
          "output_type": "execute_result"
        }
      ],
      "source": [
        "url_extract('https://vnexpress.net/thuong-mai-va-dau-tu-ben-vung-se-giup-apec-ung-pho-nguy-co-suy-thoai-4538015.html', key='span', tag_class='date', type='')"
      ]
    },
    {
      "cell_type": "markdown",
      "metadata": {
        "id": "1hys_Rga-ktX"
      },
      "source": [
        "## Tuoitre.vn"
      ]
    },
    {
      "cell_type": "code",
      "execution_count": 8,
      "metadata": {
        "colab": {
          "base_uri": "https://localhost:8080/"
        },
        "id": "9yrNiRJEqUg7",
        "outputId": "7e345021-115c-44a5-f05b-9c71b739a890"
      },
      "outputs": [
        {
          "data": {
            "text/plain": [
              "(['/nghi-pham-giet-me-vo-bi-bat-sau-7-ngay-tron-trong-rung-20210712204816715.htm',\n",
              "  '/hon-300-canh-sat-bao-vay-khu-vuc-ho-thuy-loi-truy-bat-nghi-can-giet-me-vo-20210708183458157.htm',\n",
              "  '/bat-cuu-ke-toan-truong-cdc-binh-phuoc-lien-quan-viet-a-20221118155303051.htm',\n",
              "  '/3-thang-cuoi-nam-kiem-tra-ket-luan-xu-ly-dut-diem-dang-vien-vi-pham-lien-quan-vu-viet-a-20221012165433583.htm',\n",
              "  '/khien-trach-pho-giam-doc-so-y-te-tinh-bac-lieu-lien-quan-cong-ty-viet-a-2022092917392063.htm',\n",
              "  '/khoi-to-trung-uy-cong-an-phuong-thu-tien-cua-nguoi-vi-pham-roi-chiem-doat-20221119223853638.htm',\n",
              "  '/bat-nguoi-dan-ong-chan-danh-hoc-sinh-lop-7-o-sam-son-20221119153232907.htm',\n",
              "  '/dang-cho-thi-hanh-an-nu-quai-lap-tai-khoan-ao-lua-nguoi-mua-hoa-200-trieu-dong-2022111914005924.htm',\n",
              "  '/khoi-to-vu-an-vi-pham-dat-dai-o-du-an-khu-dan-cu-binh-da-20221119111657083.htm',\n",
              "  '/bat-tam-giam-giam-doc-doanh-nghiep-pha-rung-phong-ho-tren-deo-pha-din-20221119100635883.htm',\n",
              "  '/vu-dam-chet-ban-nhau-o-thu-duc-do-cai-nhau-chuyen-o-chung-phong-tro-nhung-khong-giu-ve-sinh-20221119083749169.htm',\n",
              "  '/vu-ba-con-gai-do-xang-dot-nha-me-ruot-nguoi-con-gai-ca-chet-20221118215942709.htm',\n",
              "  '/khoi-to-vu-hanh-ha-da-man-hai-ngu-dan-tren-bien-yeu-cau-tau-vao-dat-lien-20221118212318973.htm',\n",
              "  '/phat-11-trieu-dong-tai-xe-xe-khach-xach-kiem-de-doa-tai-xe-xe-7-cho-20221118182552655.htm',\n",
              "  '/giao-vien-bo-mon-dam-bao-380-gio-chuan-nam-khong-duoc-nghi-he-dung-hay-sai-20221113225722504.htm',\n",
              "  '/to-171-cong-an-binh-duong-xuat-hien-toi-pham-duong-pho-giam-20221118162831708.htm',\n",
              "  '/khoi-to-nu-pho-phong-tu-phap-huyen-dieu-tra-hanh-vi-nhan-hoi-lo-20221118164117307.htm',\n",
              "  '/1-nguoi-chet-chay-trong-can-nha-co-dan-chu-tranh-chap-20221118162740413.htm',\n",
              "  '/pho-ban-noi-chinh-trung-uong-noi-ve-viec-de-nghi-truy-to-xet-xu-ba-nhan-aic-20221118154523636.htm',\n",
              "  '/bat-cuu-ke-toan-truong-cdc-binh-phuoc-lien-quan-viet-a-20221118155303051.htm',\n",
              "  'https://tv.tuoitre.vn/video/video-tai-xe-xe-khach-xach-kiem-nhat-doa-tai-xe-khac-sau-va-cham-thanh-kiem-bang-go-135872.htm',\n",
              "  'https://tv.tuoitre.vn/video/video-mau-thuan-vi-phan-chia-tai-san-trong-luc-nhau-anh-trai-lay-dao-dam-em-tu-vong-135855.htm',\n",
              "  'https://tv.tuoitre.vn/video/video-lien-quan-viet-a-bat-them-cuu-ke-toan-truong-cdc-binh-phuoc-135867.htm',\n",
              "  '/tay-dua-bi-mike-tyson-nhap-dam-doi-thu-toi-tap-20220926055221115.htm',\n",
              "  '/cuoc-dua-xe-de-thuong-nhat-trai-dat-gay-can-khong-kem-f1-du-chi-dien-ra-trong-1-phut-20220918171207022.htm',\n",
              "  '/dai-truyen-hinh-tp-hcm-to-chuc-dua-oto-dia-hinh-tai-tp-hcm-20220906105023985.htm',\n",
              "  '/cong-an-tp-hcm-ra-quan-tran-ap-toi-pham-thoi-gian-dien-ra-world-cup-tet-nguyen-dan-20221115070741422.htm',\n",
              "  '/dinh-thu-cua-dai-gia-phat-dau-tiep-tuc-bi-ke-bien-de-dam-bao-thi-hanh-an-20221111145934946.htm',\n",
              "  '/ba-nguoi-con-gai-mang-xang-dot-nha-me-de-xin-chia-dat-mat-tinh-than-20221031184538129.htm',\n",
              "  '/xu-vu-an-di-doi-ao-cho-cha-sau-khi-tranh-chap-dat-co-gai-bi-sat-hai-20220916150348393.htm',\n",
              "  '/cuong-ghen-chem-vo-lanh-13-nam-tu-20220908175603283.htm',\n",
              "  '/vu-ba-con-gai-do-xang-dot-nha-me-ruot-nguoi-con-gai-ca-chet-20221118215942709.htm',\n",
              "  '/chu-tich-hoi-dong-quan-tri-xi-mang-vicem-hoang-thach-bi-bat-20221118124343517.htm',\n",
              "  '/pho-ban-noi-chinh-trung-uong-noi-ve-viec-de-nghi-truy-to-xet-xu-ba-nhan-aic-20221118154523636.htm',\n",
              "  '/khoi-to-nu-pho-phong-tu-phap-huyen-dieu-tra-hanh-vi-nhan-hoi-lo-20221118164117307.htm',\n",
              "  '/bat-khan-cap-nghi-pham-dung-gay-danh-chet-me-ruot-vi-bi-trach-mang-2022111919112903.htm',\n",
              "  '/bat-nguoi-dan-ong-chan-danh-hoc-sinh-lop-7-o-sam-son-20221119153232907.htm',\n",
              "  '/bat-cuu-ke-toan-truong-cdc-binh-phuoc-lien-quan-viet-a-20221118155303051.htm',\n",
              "  '/khoi-to-vu-an-vi-pham-dat-dai-o-du-an-khu-dan-cu-binh-da-20221119111657083.htm',\n",
              "  '/1-nguoi-chet-chay-trong-can-nha-co-dan-chu-tranh-chap-20221118162740413.htm',\n",
              "  '/bat-giang-ho-com-can-dat-thai-binh-pham-quang-hung-20221118132904348.htm',\n",
              "  '/mau-thuan-trong-luc-nhau-anh-dam-em-trai-chet-tai-cho-20221118120610987.htm',\n",
              "  '/khoi-to-vu-hanh-ha-da-man-hai-ngu-dan-tren-bien-yeu-cau-tau-vao-dat-lien-20221118212318973.htm',\n",
              "  '/phat-11-trieu-dong-tai-xe-xe-khach-xach-kiem-de-doa-tai-xe-xe-7-cho-20221118182552655.htm',\n",
              "  '/ky-luat-nhieu-can-bo-phong-canh-sat-giao-thong-cong-an-tinh-hoa-binh-2022111915215433.htm',\n",
              "  '/dai-an-xang-dau-cuu-doi-truong-chong-buon-lau-nhan-hoi-lo-bi-de-nghi-muc-an-15-16-nam-tu-20221118122845976.htm',\n",
              "  '/giao-vien-bo-mon-dam-bao-380-gio-chuan-nam-khong-duoc-nghi-he-dung-hay-sai-20221113225722504.htm',\n",
              "  '/khong-hai-long-chat-luong-chup-hinh-cuoi-co-lay-lai-duoc-tien-coc-20221113104450863.htm',\n",
              "  '/can-than-truoc-goi-y-thanh-ly-trai-phieu-de-chuyen-sang-hop-tac-kinh-doanh-20221113104814281.htm',\n",
              "  '/dan-kien-phuong-vi-3-nam-van-khong-xu-ly-dut-diem-cong-trinh-vi-pham-20221115145111113.htm',\n",
              "  '/chay-i-thi-hanh-an-lam-kho-dan-20221111084415678.htm',\n",
              "  '/duong-day-mua-ban-tre-so-sinh-can-than-voi-chieu-gia-mao-ket-qua-adn-20221104220253812.htm',\n",
              "  '/vu-ba-con-gai-do-xang-dot-nha-me-ruot-nguoi-con-gai-ca-chet-20221118215942709.htm',\n",
              "  '/chu-tich-hoi-dong-quan-tri-xi-mang-vicem-hoang-thach-bi-bat-20221118124343517.htm',\n",
              "  '/pho-ban-noi-chinh-trung-uong-noi-ve-viec-de-nghi-truy-to-xet-xu-ba-nhan-aic-20221118154523636.htm',\n",
              "  '/khoi-to-nu-pho-phong-tu-phap-huyen-dieu-tra-hanh-vi-nhan-hoi-lo-20221118164117307.htm',\n",
              "  '/bat-khan-cap-nghi-pham-dung-gay-danh-chet-me-ruot-vi-bi-trach-mang-2022111919112903.htm',\n",
              "  '/vu-ba-con-gai-do-xang-dot-nha-me-ruot-nguoi-con-gai-ca-chet-20221118215942709.htm',\n",
              "  '/chu-tich-hoi-dong-quan-tri-xi-mang-vicem-hoang-thach-bi-bat-20221118124343517.htm',\n",
              "  '/pho-ban-noi-chinh-trung-uong-noi-ve-viec-de-nghi-truy-to-xet-xu-ba-nhan-aic-20221118154523636.htm',\n",
              "  '/khoi-to-nu-pho-phong-tu-phap-huyen-dieu-tra-hanh-vi-nhan-hoi-lo-20221118164117307.htm'],\n",
              " ['Nghi phạm giết mẹ vợ bị bắt sau 7 ngày trốn trong rừng',\n",
              "  'Hơn 300 cảnh sát bao vây khu vực hồ thủy lợi truy bắt nghi can giết mẹ vợ',\n",
              "  'Bắt cựu kế toán trưởng CDC Bình Phước liên quan Việt Á',\n",
              "  '3 tháng cuối năm, kiểm tra, kết luận, xử lý dứt điểm đảng viên vi phạm liên quan vụ Việt Á',\n",
              "  'Khiển trách phó giám đốc Sở Y tế tỉnh Bạc Liêu liên quan Công ty Việt Á',\n",
              "  'Khởi tố trung úy công an phường thu tiền của người vi phạm rồi chiếm đoạt',\n",
              "  'Bắt người đàn ông chặn đánh học sinh lớp 7 ở Sầm Sơn',\n",
              "  \"Đang chờ thi hành án, 'nữ quái' lập tài khoản ảo lừa người mua hoa 200 triệu đồng\",\n",
              "  'Khởi tố vụ án vi phạm đất đai ở dự án khu dân cư Bình Đa',\n",
              "  'Bắt tạm giam giám đốc doanh nghiệp phá rừng phòng hộ trên đèo Pha Đin',\n",
              "  \"Vụ đâm chết 'bạn nhậu' ở Thủ Đức: Do cãi nhau chuyện ở chung phòng trọ nhưng không giữ vệ sinh\",\n",
              "  'Vụ ba con gái đổ xăng đốt nhà mẹ ruột: Người con gái cả chết',\n",
              "  'Khởi tố vụ hành hạ dã man hai ngư dân trên biển, yêu cầu tàu vào đất liền',\n",
              "  'Phạt 11 triệu đồng tài xế xe khách xách kiếm đe dọa tài xế xe 7 chỗ',\n",
              "  'Giáo viên bộ môn đảm bảo 380 giờ chuẩn/năm, không được nghỉ hè, đúng hay sai?',\n",
              "  \"Tổ 171 Công an Bình Dương 'xuất hiện', tội phạm đường phố giảm\",\n",
              "  'Khởi tố nữ phó phòng tư pháp huyện, điều tra hành vi nhận hối lộ',\n",
              "  \"Một người chết cháy trong căn nhà có dán chữ 'tranh chấp'\",\n",
              "  'Phó Ban Nội chính Trung ương nói về việc đề nghị truy tố, xét xử bà Nhàn AIC',\n",
              "  'Bắt cựu kế toán trưởng CDC Bình Phước liên quan Việt Á',\n",
              "  'Video: CSGT ra mức phạt với tài xế Hợi lái xe khách Duy Quý, ‘thủ’ kiếm gỗ dọa tài xế khác trên cao tốc',\n",
              "  'Video: Gây gổ về chuyện phân chia tài sản trong lúc nhậu, anh đâm em trai chết tại chỗ',\n",
              "  'Video: Tạm giam cựu kế toán trưởng CDC Bình Phước do liên quan vụ lập hồ sơ hợp thức việc đấu thầu',\n",
              "  \"Tay đua bị 'Mike Tyson nhập' đấm đối thủ tới tấp\",\n",
              "  'Cuộc đua xe dễ thương nhất Trái đất: Gay cấn không kém F1 dù chỉ diễn ra trong 1 phút',\n",
              "  'Đài truyền hình TP.HCM tổ chức đua ô tô địa hình tại TP.HCM',\n",
              "  'Công an TP.HCM ra quân trấn áp tội phạm thời gian diễn ra World Cup, Tết Nguyên đán',\n",
              "  'Dinh thự của đại gia Phát ‘dầu’ tiếp tục bị kê biên để đảm bảo thi hành án',\n",
              "  'Ba người con gái mang xăng đốt nhà mẹ đẻ: Xin chia đất, mất tình thân',\n",
              "  \"Xử vụ án 'đi đòi áo cho cha sau khi tranh chấp đất, cô gái bị sát hại'\",\n",
              "  'Cuồng ghen chém vợ lãnh 13 năm tù',\n",
              "  'Vụ ba con gái đổ xăng đốt nhà mẹ ruột: Người con gái cả chết',\n",
              "  'Chủ tịch hội đồng quản trị Xi măng Vicem Hoàng Thạch bị bắt',\n",
              "  'Phó Ban Nội chính Trung ương nói về việc đề nghị truy tố, xét xử bà Nhàn AIC',\n",
              "  'Khởi tố nữ phó phòng tư pháp huyện, điều tra hành vi nhận hối lộ',\n",
              "  'Bắt khẩn cấp nghi phạm dùng gậy đánh chết mẹ ruột vì bị trách mắng',\n",
              "  'Bắt người đàn ông chặn đánh học sinh lớp 7 ở Sầm Sơn',\n",
              "  'Bắt cựu kế toán trưởng CDC Bình Phước liên quan Việt Á',\n",
              "  'Khởi tố vụ án vi phạm đất đai ở dự án khu dân cư Bình Đa',\n",
              "  \"Một người chết cháy trong căn nhà có dán chữ 'tranh chấp'\",\n",
              "  'Bắt giang hồ cộm cán đất Thái Bình Phạm Quang Hưng',\n",
              "  'Mâu thuẫn trong lúc nhậu, anh đâm em trai chết tại chỗ',\n",
              "  'Khởi tố vụ hành hạ dã man hai ngư dân trên biển, yêu cầu tàu vào đất liền',\n",
              "  'Phạt 11 triệu đồng tài xế xe khách xách kiếm đe dọa tài xế xe 7 chỗ',\n",
              "  'Kỷ luật nhiều cán bộ Phòng Cảnh sát giao thông Công an tỉnh Hòa Bình',\n",
              "  'Đại án xăng dầu: Cựu đội trưởng chống buôn lậu nhận hối lộ bị đề nghị mức án 15 - 16 năm tù',\n",
              "  'Giáo viên bộ môn đảm bảo 380 giờ chuẩn/năm, không được nghỉ hè, đúng hay sai?',\n",
              "  'Không hài lòng chất lượng chụp hình cưới, có lấy lại được tiền cọc?',\n",
              "  \"Cẩn thận trước gợi ý 'thanh lý trái phiếu' để chuyển sang 'hợp tác kinh doanh'\",\n",
              "  'Dân kiện phường vì 3 năm vẫn không xử lý dứt điểm công trình vi phạm',\n",
              "  'Chây ì thi hành án làm khổ dân',\n",
              "  'Đường dây mua bán trẻ sơ sinh: Cẩn thận với ‘chiêu’ giả mạo kết quả ADN',\n",
              "  'Vụ ba con gái đổ xăng đốt nhà mẹ ruột: Người con gái cả chết',\n",
              "  'Chủ tịch hội đồng quản trị Xi măng Vicem Hoàng Thạch bị bắt',\n",
              "  'Phó Ban Nội chính Trung ương nói về việc đề nghị truy tố, xét xử bà Nhàn AIC',\n",
              "  'Khởi tố nữ phó phòng tư pháp huyện, điều tra hành vi nhận hối lộ',\n",
              "  'Bắt khẩn cấp nghi phạm dùng gậy đánh chết mẹ ruột vì bị trách mắng',\n",
              "  'Vụ ba con gái đổ xăng đốt nhà mẹ ruột: Người con gái cả chết',\n",
              "  'Chủ tịch hội đồng quản trị Xi măng Vicem Hoàng Thạch bị bắt',\n",
              "  'Phó Ban Nội chính Trung ương nói về việc đề nghị truy tố, xét xử bà Nhàn AIC',\n",
              "  'Khởi tố nữ phó phòng tư pháp huyện, điều tra hành vi nhận hối lộ'],\n",
              " 'https://tuoitre.vn',\n",
              " 'tuoitre.vn',\n",
              " 'fail',\n",
              " 'first')"
            ]
          },
          "execution_count": 8,
          "metadata": {},
          "output_type": "execute_result"
        }
      ],
      "source": [
        "url_extract('https://tuoitre.vn/phap-luat.htm', key='h3', type='link')"
      ]
    },
    {
      "cell_type": "code",
      "execution_count": 9,
      "metadata": {
        "colab": {
          "base_uri": "https://localhost:8080/"
        },
        "id": "RWtZZW5CqhZh",
        "outputId": "f654aea0-93b4-4464-e6b2-de3983aa453a"
      },
      "outputs": [
        {
          "data": {
            "text/plain": [
              "(['19/11/2022 18:18 GMT+7'],\n",
              " 'Thủ tướng xúc động chuyện cô giáo mầm non miệt mài làm thiện nguyện cho vùng xa - Tuổi Trẻ Online',\n",
              " 'https://tuoitre.vn',\n",
              " 'tuoitre.vn',\n",
              " 'try',\n",
              " 'last')"
            ]
          },
          "execution_count": 9,
          "metadata": {},
          "output_type": "execute_result"
        }
      ],
      "source": [
        "url_extract('https://tuoitre.vn/gap-thu-tuong-xuc-dong-chuyen-co-giao-mam-non-miet-mai-lam-thien-nguyen-cho-vung-xa-20221119175021292.htm', key='div', tag_class='date-time', type='')"
      ]
    },
    {
      "cell_type": "markdown",
      "metadata": {
        "id": "HhXH3hAw_KQz"
      },
      "source": [
        "## CafeF"
      ]
    },
    {
      "cell_type": "code",
      "execution_count": 10,
      "metadata": {
        "colab": {
          "base_uri": "https://localhost:8080/"
        },
        "id": "tguEXTsd0UEd",
        "outputId": "20c1a9df-6d81-4b80-883c-1a7811fd11f0"
      },
      "outputs": [
        {
          "data": {
            "text/plain": [
              "(['/dau-se-la-phan-khuc-bds-giu-duoc-nhiet-trong-thoi-gian-toi-2022111913083069.chn',\n",
              "  '/den-giai-doan-thi-truong-bat-dong-san-cat-lo-toan-dien-2022111908410193.chn',\n",
              "  '/sun-red-carpet-trai-nghiem-dinh-thu-bay-dam-say-thien-duong-maldives-20221119175113994.chn',\n",
              "  '/binh-phuoc-phat-trien-vuot-troi-nho-luc-day-cua-nhieu-dong-von-dau-tu-20221118223601363.chn',\n",
              "  '/ts-nguyen-van-dinh-doanh-nghiep-bat-dong-san-co-nguy-co-khung-hoang-rat-cao-20221119084149533.chn',\n",
              "  '/rao-ban-nha-hua-tang-ca-oto-moi-de-ham-nong-thi-truong-o-new-zealand-20221119083528017.chn',\n",
              "  '/nha-dat-rao-ban-cat-lo-nha-dau-tu-co-nen-bat-day-luc-nay-20221119082345647.chn',\n",
              "  '/mua-nha-xay-san-trong-ngo-buc-xuc-nha-moi-xay-nhung-da-tham-dot-nut-noc-nha-2022111907483832.chn',\n",
              "  '/long-an-ra-van-ban-ngan-chan-tinh-trang-day-gia-dat-20221118200413644.chn',\n",
              "  '/2023-la-giai-doan-san-bat-dong-san-gia-tot-2022111817522241.chn',\n",
              "  '/mot-phan-khuc-bat-dong-san-van-dang-tang-gia-20221118170002246.chn',\n",
              "  '/quy-hoach-tp-nha-trang-se-khong-con-dat-trong-lua-vao-nam-2030-20221118173216007.chn',\n",
              "  '/bo-truong-gtvt-tram-nha-thau-hoang-long-vi-thi-cong-cham-tre-20221118135424377.chn',\n",
              "  '/de-xuat-mo-rong-cao-toc-tp-hcm-trung-luong-len-8-lan-xe-20221118162048528.chn'],\n",
              " ['Đâu sẽ là phân khúc BĐS giữ được nhiệt trong thời gian tới?',\n",
              "  'Đến giai đoạn thị trường bất động sản cắt lỗ toàn diện?',\n",
              "  'Sun Red Carpet: Trải nghiệm “dinh thự bay”, đắm say thiên đường Maldives',\n",
              "  'Bình Phước phát triển vượt trội nhờ lực đẩy của nhiều dòng vốn đầu tư',\n",
              "  'TS. Nguyễn Văn Đính: Doanh nghiệp bất động sản có nguy cơ khủng hoảng rất cao',\n",
              "  \"Rao bán nhà, hứa tặng cả ôtô mới để 'hâm nóng' thị trường ở New Zealand\",\n",
              "  'Nhà đất rao bán cắt lỗ, nhà đầu tư có nên ‘bắt đáy’ lúc này?',\n",
              "  'Mua nhà xây sẵn trong ngõ: Bức xúc nhà mới xây nhưng đã thấm dột, nứt nóc nhà',\n",
              "  'Long An ra văn bản ngăn chặn tình trạng đẩy giá đất',\n",
              "  '2023 là giai đoạn săn bất động sản giá tốt?',\n",
              "  'Một phân khúc bất động sản vẫn đang tăng giá',\n",
              "  'Quy hoạch TP. Nha Trang sẽ không còn đất trồng lúa vào năm 2030',\n",
              "  'Bộ trưởng GTVT “trảm” nhà thầu Hoàng Long vì thi công chậm trễ',\n",
              "  'Đề xuất mở rộng cao tốc TP HCM – Trung Lương lên 8 làn xe'],\n",
              " 'https://cafef.vn',\n",
              " 'cafef.vn',\n",
              " 'fail',\n",
              " 'first')"
            ]
          },
          "execution_count": 10,
          "metadata": {},
          "output_type": "execute_result"
        }
      ],
      "source": [
        "url_extract('https://cafef.vn/bat-dong-san.chn', key='h3', type='link')"
      ]
    },
    {
      "cell_type": "code",
      "execution_count": 11,
      "metadata": {
        "colab": {
          "base_uri": "https://localhost:8080/"
        },
        "id": "Pk9-3p9F_CXG",
        "outputId": "6749d141-4511-45e2-cc04-1b74b66661d6"
      },
      "outputs": [
        {
          "data": {
            "text/plain": [
              "(['19-11-2022 - 13:10 PM '],\n",
              " 'Đâu sẽ là phân khúc BĐS giữ được nhiệt trong thời gian tới?',\n",
              " 'https://cafef.vn',\n",
              " 'cafef.vn',\n",
              " 'try',\n",
              " 'last')"
            ]
          },
          "execution_count": 11,
          "metadata": {},
          "output_type": "execute_result"
        }
      ],
      "source": [
        "url_extract('https://cafef.vn/dau-se-la-phan-khuc-bds-giu-duoc-nhiet-trong-thoi-gian-toi-2022111913083069.chn', key='span', tag_class='pdate', type='')"
      ]
    },
    {
      "cell_type": "markdown",
      "metadata": {
        "id": "6zqT-qBJ_X0W"
      },
      "source": [
        "## Cafebiz"
      ]
    },
    {
      "cell_type": "code",
      "execution_count": 12,
      "metadata": {
        "colab": {
          "base_uri": "https://localhost:8080/"
        },
        "id": "K1hf-1thEdEf",
        "outputId": "b8c101a6-eb87-4219-d89f-4d8364d295db"
      },
      "outputs": [
        {
          "data": {
            "text/plain": [
              "(['/viet-nam-khong-con-nam-trong-danh-sach-giam-sat-ve-thao-tung-tien-te-cua-bo-tai-chinh-my-176221112082125106.chn',\n",
              "  '/thu-tuong-ra-cong-dien-nong-khac-phuc-ngay-thieu-hut-xang-dau-cuc-bo-tu-12-11-176221112075423722.chn',\n",
              "  '/tu-phep-mau-kinh-te-thanh-quoc-gia-can-imf-ho-tro-dieu-gi-da-xay-ra-voi-bangladesh-176221112103807895.chn',\n",
              "  '/chinh-thuc-tang-luong-co-so-len-18-trieu-dong-tu-1-7-2023-176221111161830582.chn',\n",
              "  '/gdp-binh-quan-tung-chi-bang-1-100-singapore-viet-nam-da-thay-doi-ty-le-nay-ra-sao-176221111143332277.chn',\n",
              "  '/luong-co-so-tang-tu-01-7-2023-muc-huong-mot-khoan-tro-cap-tang-manh-toi-da-len-den-108-trieu-dong-176221119103323393.chn',\n",
              "  '/nghich-canh-khi-nha-bang-di-ban-ga-thanh-ly-quan-ao-cu-176221119083534782.chn',\n",
              "  '/dau-tu-gan-2300-ti-dong-xay-de-bien-o-hai-phong-176221118112956007.chn',\n",
              "  '/thu-tuong-pham-minh-chinh-kiem-soat-lam-phat-tao-dong-luc-tang-truong-176221118084700336.chn',\n",
              "  '/mat-bao-nhieu-nam-gdp-binh-quan-viet-nam-moi-vuot-lao-va-campuchia-176221117192509118.chn',\n",
              "  '/ngan-hang-the-gioi-viet-nam-co-the-can-nhac-cho-phep-ty-gia-linh-hoat-hon-nua-17622111716032413.chn',\n",
              "  '/ngan-hang-nha-nuoc-hut-rong-hon-47500-ty-dong-ke-tu-dau-tuan-176221117133649576.chn',\n",
              "  '/cac-ong-lon-cong-nghe-do-hang-ti-usd-vao-nganh-chip-o-viet-nam-176221117101914855.chn',\n",
              "  '/1-3-cong-ty-thep-trung-quoc-dung-truoc-nguy-co-pha-san-ap-luc-de-nang-cac-ong-lon-nganh-thep-toan-cau-176221117095522074.chn',\n",
              "  '/ubcknn-hop-khan-ve-thi-truong-chung-khoan-17622111708324202.chn',\n",
              "  '/gia-usd-cho-den-giam-manh-176221116154405176.chn',\n",
              "  '/tinh-tung-xep-thu-45-63-ve-thu-hut-von-fdi-nhay-len-thu-11-sau-4-nam-nho-duoc-samsung-dau-tu-176221116140405899.chn',\n",
              "  '/tu-1-7-2023-lao-dong-nu-se-co-them-1-trieu-dong-khi-sinh-con-176221116144228145.chn',\n",
              "  '/bo-cong-thuong-yeu-cau-doanh-nghiep-dau-moi-phai-cap-du-xang-dau-cho-thi-truong-176221116140006026.chn',\n",
              "  '/bi-doi-no-do-thong-tin-cccd-cmnd-bi-danh-cap-nguoi-bi-hai-can-kiem-tra-nhung-thong-tin-sau-176221116133815691.chn',\n",
              "  '/moi-nhat-bang-luong-toi-thieu-vung-chi-tiet-tai-63-tinh-thanh-nam-2022-20220615084833591.chn',\n",
              "  '/nghi-che-do-thai-san-nam-2022-co-gi-moi-20220610190314377.chn',\n",
              "  '/chu-tich-quoc-hoi-can-bo-tri-ngan-sach-tang-luong-co-so-trong-nam-2023-20220604184025529.chn',\n",
              "  '/ong-tran-ba-duong-quang-nam-giai-bai-toan-logistics-se-thanh-vung-san-xuat-oto-20220604184329414.chn',\n",
              "  '/mat-bao-nhieu-nam-gdp-binh-quan-viet-nam-moi-vuot-lao-va-campuchia-176221117192509118.chn',\n",
              "  '/cac-ong-lon-cong-nghe-do-hang-ti-usd-vao-nganh-chip-o-viet-nam-176221117101914855.chn',\n",
              "  '/ubcknn-hop-khan-ve-thi-truong-chung-khoan-17622111708324202.chn',\n",
              "  '/1-3-cong-ty-thep-trung-quoc-dung-truoc-nguy-co-pha-san-ap-luc-de-nang-cac-ong-lon-nganh-thep-toan-cau-176221117095522074.chn'],\n",
              " '',\n",
              " 'https://cafebiz.vn',\n",
              " 'cafebiz.vn',\n",
              " 'fail',\n",
              " 'first')"
            ]
          },
          "execution_count": 12,
          "metadata": {},
          "output_type": "execute_result"
        }
      ],
      "source": [
        "url_extract('https://cafebiz.vn/vi-mo.chn', key='h3', type='link', bs_on='')"
      ]
    },
    {
      "cell_type": "code",
      "execution_count": 13,
      "metadata": {
        "colab": {
          "base_uri": "https://localhost:8080/"
        },
        "id": "Hnkei3-TD_mg",
        "outputId": "56f7d976-2462-438c-e0ab-9139b3f4c9c4"
      },
      "outputs": [
        {
          "data": {
            "text/plain": [
              "(['/elizabeth-holmes-chinh-thuc-bi-tuyen-an-11-nam-tu-vi-cu-lua-theranos-176221119100944823.chn',\n",
              "  '/thung-lung-silicon-het-thoi-tu-noi-cong-viec-luong-200000-usd-nam-nhieu-nhan-nhan-den-tham-hoa-hang-chuc-nghin-nguoi-mat-viec-chi-trong-vai-tuan-176221119090632025.chn',\n",
              "  '/ty-phu-pham-nhat-vuong-da-chuyen-nhuong-hon-243-trieu-co-phieu-vic-cho-vmi-vingroup-co-co-dong-lon-moi-176221118204654796.chn',\n",
              "  '/tung-goi-thanh-cong-25-ty-tu-shark-lien-startup-ban-bo-ve-sinh-cho-tre-em-boom-potty-bat-ngo-goi-von-tren-song-truyen-hinh-canada-176221118210435027.chn',\n",
              "  '/tiet-lo-dong-troi-ve-ftx-dung-tien-khach-hang-mua-nha-thue-cong-ty-vu-tru-ao-lam-kiem-toan-duyet-chi-ngan-sach-bang-bieu-tuong-cam-xuc-qua-tin-nhan-chat-176221118091529603.chn',\n",
              "  'javascript:void(0)',\n",
              "  '/melia-ba-vi-mountain-retreat-ban-hoa-tau-xanh-ngoi-cua-may-nui-than-tam-176221115164710682.chn',\n",
              "  '/giai-ma-thanh-cong-cua-oxalis-cong-ty-du-lich-mao-hiem-lon-nhat-dong-nam-a-so-huu-tour-kham-pha-hang-dong-lon-nhat-the-gioi-176221018234205816.chn',\n",
              "  '/su-kien/bizgreen-83.chn',\n",
              "  '/world-cup-2022-su-kien-bong-da-trung-hoa-carbon-lon-nhat-hanh-tinh-176221112171219504.chn',\n",
              "  '/quan-diem-chi-tieu-doc-dao-cua-gia-dinh-3-nguoi-tieu-50-trieu-thang-176221119190127466.chn',\n",
              "  '/15-cau-chuyen-thu-vi-trong-lich-su-world-cup-tu-tran-dau-nhieu-nguoi-xem-nhat-den-su-kien-cup-vang-bi-danh-cap-176221119185511801.chn',\n",
              "  '/su-giau-co-cua-kazuo-inamori-duc-ket-trong-4-chan-ly-biet-duoc-som-thi-de-thanh-cong-176221119191513032.chn',\n",
              "  '/cuoc-doi-thang-tram-cua-nu-sieu-lua-lam-rung-dong-the-gioi-tu-hien-tuong-cua-thung-lung-silicon-den-an-11-nam-tu-tai-san-tu-45-ty-usd-roi-xuong-0-chi-sau-1-dem-176221119182724397.chn',\n",
              "  '/tuy-ngot-nhung-an-mat-ong-co-the-lam-giam-luong-duong-va-cholesterol-trong-mau-176221119191202081.chn',\n",
              "  '/mien-tron-truoc-cong-dh-kien-truc-tphcm-sot-ran-ran-ngay-ban-ca-tram-phan-nho-loai-gia-vi-doc-quyen-176221119185915948.chn',\n",
              "  '/ba-ban-rau-co-can-marketing-hay-khong-va-cau-tra-loi-giup-ung-vien-gianh-vi-tri-luong-xap-xi-nghin-do-176221119183207082.chn',\n",
              "  '/ly-do-khong-ngo-khien-doanh-nghiep-viet-mat-trang-don-hang-rat-lon-tu-my-176221119183453944.chn',\n",
              "  '/9x-chua-co-nhieu-kinh-nghiem-van-duoc-moi-vao-vi-tri-co-muc-luong-22-trieu-dong-yeu-to-nao-chinh-phuc-cac-sep-176221119190943994.chn',\n",
              "  '/de-nghi-ha-nhiet-lai-suat-cho-vay-voi-doanh-nghiep-176221119183316551.chn',\n",
              "  '/triem-lam-giup-giai-dap-cac-van-de-dinh-duong-suc-khoe-dang-bao-dong-o-nguoi-viet-176221119175155275.chn',\n",
              "  '/nhieu-nguoi-vo-tu-an-my-tom-ma-khong-biet-co-the-mac-ca-ty-benh-nguy-hiem-176221119185232328.chn',\n",
              "  '/binh-phuoc-du-chi-hon-8000-ty-dong-nang-cap-thanh-lap-11-do-thi-176221119183709481.chn',\n",
              "  '/chung-khoan-vcbs-nhip-hoi-phuc-tuan-qua-da-xoa-diu-au-lo-trong-long-nha-dau-tu-176221119181842808.chn',\n",
              "  '/co-nen-uong-nuoc-truoc-khi-ngu-176221119170155094.chn',\n",
              "  '/phan-doi-chinh-sach-di-lam-sang-thu-bay-sinh-vien-dh-bach-khoa-bi-loai-co-gai-vua-tot-nghiep-loai-xuat-sac-dh-ngoai-thuong-chot-luong-22-trieu-thang-17622111916423991.chn',\n",
              "  '/cau-chuyen-kinh-doanh.chn',\n",
              "  '/ty-phu-pham-nhat-vuong-da-chuyen-nhuong-hon-243-trieu-co-phieu-vic-cho-vmi-vingroup-co-co-dong-lon-moi-176221118204654796.chn',\n",
              "  '/phan-doi-chinh-sach-di-lam-sang-thu-bay-sinh-vien-dh-bach-khoa-bi-loai-co-gai-vua-tot-nghiep-loai-xuat-sac-dh-ngoai-thuong-chot-luong-22-trieu-thang-17622111916423991.chn',\n",
              "  '/voi-muc-gia-ban-chi-25000-vnd-coc-tra-sua-mixue-kiem-lai-nhu-the-nao-176221118085058175.chn',\n",
              "  '/chu-tich-hoang-nam-tien-dn-muon-song-sot-thi-lam-dich-vu-thoi-khong-du-hon-ca-thau-hieu-la-can-phai-thau-cam-khach-hang-176221119065737913.chn',\n",
              "  '/tiet-lo-dong-troi-ve-ftx-dung-tien-khach-hang-mua-nha-thue-cong-ty-vu-tru-ao-lam-kiem-toan-duyet-chi-ngan-sach-bang-bieu-tuong-cam-xuc-qua-tin-nhan-chat-176221118091529603.chn',\n",
              "  '/cha-ty-phu-gui-con-trai-ve-que-song-thu-sau-1-tuan-cau-be-ket-luan-chung-ta-ngheo-toi-muc-chang-co-gi-ngoai-tien-bac-17622111910542419.chn',\n",
              "  '/nu-dien-vien-bi-dau-lung-co-di-kham-thi-phat-hien-ung-thu-vien-ung-thu-quoc-gia-my-ly-giai-vi-sao-mam-benh-co-tu-nhieu-nam-moi-phat-hien-176221118154308911.chn',\n",
              "  'javascript:;',\n",
              "  '/ville-de-mont-moutain-resort-giac-mong-phu-hoa-giua-rung-thong-tram-nam-tuoi-17622100416073672.chn',\n",
              "  '/co-gi-ben-trong-dai-ban-doanh-cua-one-mount-tap-doan-dung-sau-vinid-vinshop-va-onehousing-176220920225112836.chn',\n",
              "  '/elon-musk-dieu-hanh-3-cong-ty-cung-luc-vi-du-hoan-hao-ve-cach-ceo-thoi-hien-dai-thay-doi-theo-thoi-gian-176221119132515604.chn',\n",
              "  '/cau-than-chu-giup-tiktok-tro-thanh-ga-khong-lo-quang-cao-khien-ca-facebook-instagram-va-youtube-de-chung-176221115104855987.chn',\n",
              "  '/su-xa-xi-cua-viec-di-chuyen-bang-may-bay-trong-nhung-nam-1970-176221114090345941.chn',\n",
              "  'javascript:;',\n",
              "  '/diem-danh-loat-ho-nuoc-o-ha-noi-dung-truoc-nguy-co-bi-san-lap-de-lam-nha-lam-duong-176221117091154616.chn',\n",
              "  '/du-an-the-grand-hanoi-o-22-24-hang-bai-thi-cong-lam-nut-nha-dan-176221117084633556.chn',\n",
              "  '/thi-xa-tung-len-thanh-pho-roi-lai-tro-thanh-quan-176221114084035257.chn',\n",
              "  '/cmnd-cccd-ma-vach-con-han-co-duoc-dung-song-song-voi-cccd-gan-chip-khong-176221113102910535.chn',\n",
              "  '/khung-hoang-thua-container-khi-nhu-cau-tieu-dung-sut-giam-176221112081725686.chn',\n",
              "  '/khach-san-re-nhat-nhat-ban-gia-phong-chua-den-200-nghin-mot-dem-nhung-du-khach-se-ngat-xiu-khi-buoc-vao-ben-trong-176221119104258599.chn',\n",
              "  '/nghich-canh-khi-nha-bang-di-ban-ga-thanh-ly-quan-ao-cu-176221119083534782.chn',\n",
              "  '/tai-sao-nha-o-my-la-tai-san-con-o-nhat-ban-thi-lai-chang-khac-gi-hang-tieu-dung-176221119095831295.chn',\n",
              "  '/moi-chan-uot-chan-rao-den-canada-tinh-ban-bo-kem-voi-xit-2-trieu-dong-startup-viet-nam-boom-potty-van-duoc-2-ca-map-canada-tranh-gianh-176221119071153073.chn',\n",
              "  '/cha-ty-phu-gui-con-trai-ve-que-song-thu-sau-1-tuan-cau-be-ket-luan-chung-ta-ngheo-toi-muc-chang-co-gi-ngoai-tien-bac-17622111910542419.chn',\n",
              "  '/bi-kich-cua-thu-khoa-dai-hoc-phai-di-nhat-rac-suot-12-nam-tu-tay-dao-ho-vui-lap-ban-than-vi-2-chu-kieu-ngao-176221118205701053.chn'],\n",
              " '',\n",
              " 'https://cafebiz.vn',\n",
              " 'cafebiz.vn',\n",
              " 'fail',\n",
              " 'first')"
            ]
          },
          "execution_count": 13,
          "metadata": {},
          "output_type": "execute_result"
        }
      ],
      "source": [
        "url_extract('https://cafebiz.vn/', key='h3', type='link', bs_on='')"
      ]
    },
    {
      "cell_type": "code",
      "execution_count": 14,
      "metadata": {
        "colab": {
          "base_uri": "https://localhost:8080/"
        },
        "id": "j4OpXDv5HSNr",
        "outputId": "89199e75-087f-483a-c0a7-010ce6b662b7"
      },
      "outputs": [
        {
          "data": {
            "text/plain": [
              "(['\\n                                 19/11/2022 09:56 AM\\n                            '],\n",
              " 'Tại sao nhà ở Mỹ là tài sản còn ở Nhật Bản thì lại chẳng khác gì hàng tiêu dùng?',\n",
              " 'https://cafebiz.vn',\n",
              " 'cafebiz.vn',\n",
              " 'try',\n",
              " 'last')"
            ]
          },
          "execution_count": 14,
          "metadata": {},
          "output_type": "execute_result"
        }
      ],
      "source": [
        "url_extract('https://cafebiz.vn/tai-sao-nha-o-my-la-tai-san-con-o-nhat-ban-thi-lai-chang-khac-gi-hang-tieu-dung-176221119095831295.chn', key='span', tag_class='time', type='')"
      ]
    },
    {
      "cell_type": "markdown",
      "metadata": {
        "id": "HBLHa8pA_b7o"
      },
      "source": [
        "## Kinh tế Sài Gòn Online"
      ]
    },
    {
      "cell_type": "code",
      "execution_count": 15,
      "metadata": {
        "colab": {
          "base_uri": "https://localhost:8080/"
        },
        "id": "QpvTO425EbFN",
        "outputId": "f2cd8f30-dfdf-4973-a7e4-9d436b66edaf"
      },
      "outputs": [
        {
          "data": {
            "text/plain": [
              "(['https://thesaigontimes.vn/su-chuyen-dich-cua-dong-tien-va-quyet-tam-chong-do-la-hoa/',\n",
              "  'https://thesaigontimes.vn/quy-bitcoin-lon-nhat-the-gioi-bi-cuon-vao-con-bao-ftx/',\n",
              "  'https://thesaigontimes.vn/apec-ra-tuyen-bo-chung-nhan-manh-tang-cuong-thuong-mai-da-phuong/',\n",
              "  'https://thesaigontimes.vn/doanh-nghiep-bao-hiem-tang-truong-am/',\n",
              "  'https://thesaigontimes.vn/chau-au-se-gop-vao-quy-chi-tra-thiet-hai-khi-hau-neu-co-trung-quoc-tham-gia/',\n",
              "  'https://thesaigontimes.vn/tai-co-cau-doanh-nghiep-du-an-bat-dong-san-de-vuot-kho/',\n",
              "  'https://thesaigontimes.vn/hang-det-may-viet-nam-da-den-duoc-66-thi-truong-quoc-te/',\n",
              "  'https://thesaigontimes.vn/dai-loan-se-cam-nhap-khau-san-pham-co-chua-amiang-tu-2023/',\n",
              "  'https://thesaigontimes.vn/soi-noi-cac-hoat-dong-tai-le-hoi-han-quoc-o-tphcm/',\n",
              "  'https://thesaigontimes.vn/khong-de-nguoi-dan-duong-lac-loi/',\n",
              "  'https://thesaigontimes.vn/hoi-dong-anh-duoc-cap-phep-to-chuc-thi-lay-chung-chi-tieng-anh-ielts/',\n",
              "  'https://thesaigontimes.vn/toan-canh-su-co-cau-vuot-nguyen-huu-canh/',\n",
              "  'https://thesaigontimes.vn/nha-may-duong-phung-hiep-khong-du-mia-de-ep/',\n",
              "  'https://thesaigontimes.vn/day-manh-dieu-tra-truy-to-xet-xu-cac-vu-an-tham-nhung-tieu-cuc/',\n",
              "  'https://thesaigontimes.vn/dan-my-chau-au-cat-xen-ngan-sach-du-lich-thoi-bao-gia/',\n",
              "  'https://thesaigontimes.vn/khong-de-nguoi-dan-duong-lac-loi/',\n",
              "  'https://thesaigontimes.vn/chuyen-lam-luat/',\n",
              "  'https://thesaigontimes.vn/soi-noi-cac-hoat-dong-tai-le-hoi-han-quoc-o-tphcm/',\n",
              "  'https://thesaigontimes.vn/doanh-nghiep-dau-dau-xoay-xo-nguon-von-kinh-doanh-mua-cuoi-nam/',\n",
              "  'https://thesaigontimes.vn/viet-nam-no-luc-giam-ty-le-tu-vong-o-tre-sinh-non/',\n",
              "  'https://thesaigontimes.vn/nganh-nao-phat-hanh-trai-phieu-co-gia-tri-cao-nhat-trong-10-thang-qua/',\n",
              "  'https://thesaigontimes.vn/su-chuyen-dich-cua-dong-tien-va-quyet-tam-chong-do-la-hoa/',\n",
              "  'https://thesaigontimes.vn/doanh-nghiep-bao-hiem-tang-truong-am/',\n",
              "  'https://thesaigontimes.vn/go-vuong-de-nang-tam-thi-truong-chung-khoan/',\n",
              "  'https://thesaigontimes.vn/ftx-san-giao-dich-xay-tren-cat/',\n",
              "  'https://thesaigontimes.vn/trai-nghiem-van-hoa-han-quoc-tai-estella-place-tu-ngay-18-den-27-11/',\n",
              "  'https://thesaigontimes.vn/ket-noi-thanh-toan-ban-le-ung-dung-ma-phan-hoi-nhanh-qr-code-giua-viet-nam-va-thai-lan/',\n",
              "  'https://thesaigontimes.vn/phan-bon-phu-my-ra-mat-dong-san-pham-chuyen-dung-cho-nong-nghiep-do-thi/',\n",
              "  'https://thesaigontimes.vn/msmarty-cua-duoc-pham-3m-pharma-thuong-hieu-viet-dang-tin-cay-cho-tre-em-viet/',\n",
              "  'https://thesaigontimes.vn/dung-lao-theo-thi-truong-nha-dau-tu-nen-tinh-tao-de-bao-toan-gia-tri-that-cua-chung-chi-quy/',\n",
              "  'https://thesaigontimes.vn/hang-det-may-viet-nam-da-den-duoc-66-thi-truong-quoc-te/',\n",
              "  'https://thesaigontimes.vn/dai-loan-se-cam-nhap-khau-san-pham-co-chua-amiang-tu-2023/',\n",
              "  'https://thesaigontimes.vn/nha-may-duong-phung-hiep-khong-du-mia-de-ep/',\n",
              "  'https://thesaigontimes.vn/phat-trien-dbscl-giai-phap-tu-cay-lua/',\n",
              "  'https://thesaigontimes.vn/khong-de-nguoi-dan-duong-lac-loi/',\n",
              "  'https://thesaigontimes.vn/chuyen-lam-luat/',\n",
              "  'https://thesaigontimes.vn/tai-co-cau-doanh-nghiep-du-an-bat-dong-san-de-vuot-kho/',\n",
              "  'https://thesaigontimes.vn/mua-chung-bat-dong-san-qua-ung-dung-chua-co-hanh-lang-phap-ly/',\n",
              "  'https://thesaigontimes.vn/toan-canh-su-co-cau-vuot-nguyen-huu-canh/',\n",
              "  'https://thesaigontimes.vn/de-xuat-mo-rong-cao-toc-tphcm-trung-luong-tu-6-lan-len-10-lan-xe/',\n",
              "  'https://thesaigontimes.vn/da-nang-bo-quy-hoach-nha-ga-tai-quan-lien-chieu-sau-18-nam-treo/',\n",
              "  'https://thesaigontimes.vn/thi-cong-cao-toc-bac-nam-nha-thau-co-the-bi-loai-do-thi-cong-cham/',\n",
              "  'https://thesaigontimes.vn/thu-tuong-chinh-phu-lap-to-cong-tac-thao-go-kho-khan-cho-bat-dong-san/',\n",
              "  'https://thesaigontimes.vn/doi-doi-o-vung-dat-man-nho-chon-tom-om-lua/',\n",
              "  'https://thesaigontimes.vn/an-tuong-buoi-toa-dam-giua-thien-nhien-ve-du-lich-ben-vung-tai-thac-vuc-hom-phu-yen/',\n",
              "  'https://thesaigontimes.vn/phat-trien-kinh-te-xanh-va-loi-song-xanh-mot-cuoc-cach-mang-ve-phuong-thuc-san-xuat/',\n",
              "  'https://thesaigontimes.vn/giai-thuong-thuong-hieu-vang-tphcm-2022-nhan-ho-so-den-het-ngay-30-11/',\n",
              "  'https://thesaigontimes.vn/phat-trien-thuong-hieu-doanh-nghiep-khong-chi-la-tao-ra-san-pham-tot/',\n",
              "  'https://thesaigontimes.vn/giai-thuong-thuong-hieu-vang-tphcm-2022-nhan-ho-so-den-het-ngay-30-11/',\n",
              "  'https://thesaigontimes.vn/phat-trien-thuong-hieu-doanh-nghiep-khong-chi-la-tao-ra-san-pham-tot/',\n",
              "  'https://thesaigontimes.vn/nga-ukraine-gia-han-thoa-thuan-xuat-khau-ngu-coc-qua-bien-den/',\n",
              "  'https://thesaigontimes.vn/thieu-dau-diesel-lam-tram-trong-them-cuoc-khung-hoang-nang-luong-o-chau-au/',\n",
              "  'https://thesaigontimes.vn/doanh-nghiep-dau-dau-xoay-xo-nguon-von-kinh-doanh-mua-cuoi-nam/',\n",
              "  'https://thesaigontimes.vn/trai-nghiem-van-hoa-han-quoc-tai-estella-place-tu-ngay-18-den-27-11/',\n",
              "  'https://thesaigontimes.vn/ket-noi-thanh-toan-ban-le-ung-dung-ma-phan-hoi-nhanh-qr-code-giua-viet-nam-va-thai-lan/',\n",
              "  'https://thesaigontimes.vn/phan-bon-phu-my-ra-mat-dong-san-pham-chuyen-dung-cho-nong-nghiep-do-thi/',\n",
              "  'https://thesaigontimes.vn/msmarty-cua-duoc-pham-3m-pharma-thuong-hieu-viet-dang-tin-cay-cho-tre-em-viet/',\n",
              "  'https://thesaigontimes.vn/dung-lao-theo-thi-truong-nha-dau-tu-nen-tinh-tao-de-bao-toan-gia-tri-that-cua-chung-chi-quy/',\n",
              "  'https://thesaigontimes.vn/doi-doi-o-vung-dat-man-nho-chon-tom-om-lua/',\n",
              "  'https://thesaigontimes.vn/an-tuong-buoi-toa-dam-giua-thien-nhien-ve-du-lich-ben-vung-tai-thac-vuc-hom-phu-yen/',\n",
              "  'https://thesaigontimes.vn/mua-tour-tet-2023-ap-luc-ban-cung-noi-lo-nghen-dong-tien/',\n",
              "  'https://thesaigontimes.vn/kinh-te-tuan-hoan-mo-ra-nhung-mo-hinh-kinh-doanh-moi/',\n",
              "  'https://thesaigontimes.vn/xoay-xo-giu-thi-truong-noi-dia-de-vuot-kho/',\n",
              "  'https://thesaigontimes.vn/co-thu-tuong-vo-van-kiet-mot-vi-lanh-dao-dac-biet/',\n",
              "  'https://thesaigontimes.vn/ong-vo-van-kiet-voi-chuyen-dan-giau-nuoc-manh/',\n",
              "  'https://thesaigontimes.vn/gap-go-chang-trai-tre-dam-me-lam-nuoc-mam-nhi-4-sao/',\n",
              "  'https://thesaigontimes.vn/tro-cap-thoi-viec-cho-nguoi-nuoc-ngoai-tai-viet-nam-doi-khi-van-phai-doi/',\n",
              "  'https://thesaigontimes.vn/tham-quan-nong-trai-cam-dien-thoai-lam-het-chuyen-nha-nong/',\n",
              "  'https://thesaigontimes.vn/doi-doi-o-vung-dat-man-nho-chon-tom-om-lua/',\n",
              "  'https://thesaigontimes.vn/an-tuong-buoi-toa-dam-giua-thien-nhien-ve-du-lich-ben-vung-tai-thac-vuc-hom-phu-yen/',\n",
              "  'https://thesaigontimes.vn/mua-tour-tet-2023-ap-luc-ban-cung-noi-lo-nghen-dong-tien/',\n",
              "  'https://thesaigontimes.vn/kinh-te-tuan-hoan-mo-ra-nhung-mo-hinh-kinh-doanh-moi/',\n",
              "  'https://thesaigontimes.vn/xoay-xo-giu-thi-truong-noi-dia-de-vuot-kho/',\n",
              "  'https://thesaigontimes.vn/co-thu-tuong-vo-van-kiet-mot-vi-lanh-dao-dac-biet/',\n",
              "  'https://thesaigontimes.vn/ong-vo-van-kiet-voi-chuyen-dan-giau-nuoc-manh/',\n",
              "  'https://thesaigontimes.vn/gap-go-chang-trai-tre-dam-me-lam-nuoc-mam-nhi-4-sao/',\n",
              "  'https://thesaigontimes.vn/tro-cap-thoi-viec-cho-nguoi-nuoc-ngoai-tai-viet-nam-doi-khi-van-phai-doi/',\n",
              "  'https://thesaigontimes.vn/tai-co-cau-doanh-nghiep-du-an-bat-dong-san-de-vuot-kho/',\n",
              "  'https://thesaigontimes.vn/mua-chung-bat-dong-san-qua-ung-dung-chua-co-hanh-lang-phap-ly/',\n",
              "  'https://thesaigontimes.vn/toan-canh-su-co-cau-vuot-nguyen-huu-canh/',\n",
              "  'https://thesaigontimes.vn/de-xuat-mo-rong-cao-toc-tphcm-trung-luong-tu-6-lan-len-10-lan-xe/',\n",
              "  'https://thesaigontimes.vn/da-nang-bo-quy-hoach-nha-ga-tai-quan-lien-chieu-sau-18-nam-treo/',\n",
              "  'https://thesaigontimes.vn/thi-cong-cao-toc-bac-nam-nha-thau-co-the-bi-loai-do-thi-cong-cham/',\n",
              "  'https://thesaigontimes.vn/doi-doi-o-vung-dat-man-nho-chon-tom-om-lua/',\n",
              "  'https://thesaigontimes.vn/an-tuong-buoi-toa-dam-giua-thien-nhien-ve-du-lich-ben-vung-tai-thac-vuc-hom-phu-yen/',\n",
              "  'https://thesaigontimes.vn/phat-trien-kinh-te-xanh-va-loi-song-xanh-mot-cuoc-cach-mang-ve-phuong-thuc-san-xuat/',\n",
              "  'https://thesaigontimes.vn/soi-noi-cac-hoat-dong-tai-le-hoi-han-quoc-o-tphcm/',\n",
              "  'https://thesaigontimes.vn/them-co-hoi-cho-lao-dong-viet-sang-hoc-tap-va-lam-viec-tai-nhat-ban/',\n",
              "  'https://thesaigontimes.vn/hoi-dong-anh-duoc-cap-phep-to-chuc-thi-lay-chung-chi-tieng-anh-ielts/',\n",
              "  'https://thesaigontimes.vn/hon-4-000-viec-lam-cho-lao-dong-tro-ve-tu-han-quoc-nhat-ban/',\n",
              "  'https://thesaigontimes.vn/viet-nam-no-luc-giam-ty-le-tu-vong-o-tre-sinh-non/',\n",
              "  'https://thesaigontimes.vn/u50-dong-vo-dong-chong-vuot-thang-tram-tren-cung-duong-hon-3-000km-xuyen-viet/',\n",
              "  'https://thesaigontimes.vn/quy-bitcoin-lon-nhat-the-gioi-bi-cuon-vao-con-bao-ftx/',\n",
              "  'https://thesaigontimes.vn/apec-ra-tuyen-bo-chung-nhan-manh-tang-cuong-thuong-mai-da-phuong/',\n",
              "  'https://thesaigontimes.vn/chau-au-se-gop-vao-quy-chi-tra-thiet-hai-khi-hau-neu-co-trung-quoc-tham-gia/',\n",
              "  'https://thesaigontimes.vn/vi-sao-doanh-nghiep-chau-a-do-xo-tai-tro-world-cup-2022/',\n",
              "  'https://thesaigontimes.vn/dong-yen-yeu-day-lam-phat-cua-nhat-ban-len-muc-cao-nhat-trong-40-nam/',\n",
              "  'https://thesaigontimes.vn/dan-my-chau-au-cat-xen-ngan-sach-du-lich-thoi-bao-gia/',\n",
              "  'https://thesaigontimes.vn/bau-duc-ngay-tro-lai/',\n",
              "  'https://thesaigontimes.vn/nhieu-truong-hop-thuc-hien-tinh-gian-bien-che-chua-dung/',\n",
              "  'https://thesaigontimes.vn/saigon-times-group-tuyen-dung-thu-ky-hanh-chanh-2/',\n",
              "  'https://thesaigontimes.vn/saigon-times-group-cung-agribank-tiep-suc-hoc-sinh-den-truong/',\n",
              "  'https://thesaigontimes.vn/khi-yeu-thuong-duoc-trao-dung-cach/',\n",
              "  'https://thesaigontimes.vn/vib-lay-y-kien-co-dong-ve-viec-dieu-chinh-room-ngoai-len-30/',\n",
              "  'https://thesaigontimes.vn/lanh-dao-tphcm-tham-chuc-mung-cac-nha-giao-tieu-bieu/',\n",
              "  'https://thesaigontimes.vn/dai-hoc-luat-la-truong-thanh-vien-thu-9-truc-thuoc-dai-hoc-quoc-gia-ha-noi/',\n",
              "  'https://thesaigontimes.vn/ha-noi-tam-dinh-chi-gan-1-000-co-so-vi-pham-ve-phong-chong-chay-no/',\n",
              "  'https://thesaigontimes.vn/100-co-so-giao-duc-se-dua-quyen-con-nguoi-vao-chuong-trinh-hoc/',\n",
              "  'https://thesaigontimes.vn/khai-truong-cum-gian-hang-2030-village/',\n",
              "  'https://thesaigontimes.vn/khai-mac-dai-hoi-the-thao-doanh-nhan-olympic-2030-lan-7/',\n",
              "  'https://thesaigontimes.vn/doi-doi-o-vung-dat-man-nho-chon-tom-om-lua/',\n",
              "  'https://thesaigontimes.vn/kinh-te-tuan-hoan-mo-ra-nhung-mo-hinh-kinh-doanh-moi/',\n",
              "  'https://thesaigontimes.vn/ktsg-so-46-2022-co-thu-tuong-vo-van-kiet-vi-lanh-dao-dac-biet/'],\n",
              " '',\n",
              " 'https://thesaigontimes.vn',\n",
              " 'thesaigontimes.vn',\n",
              " 'fail',\n",
              " 'first')"
            ]
          },
          "execution_count": 15,
          "metadata": {},
          "output_type": "execute_result"
        }
      ],
      "source": [
        "url_extract('https://thesaigontimes.vn/', key='h3', type='link', bs_on='')"
      ]
    },
    {
      "cell_type": "code",
      "execution_count": 16,
      "metadata": {
        "colab": {
          "base_uri": "https://localhost:8080/"
        },
        "id": "-1L7igkZHKXa",
        "outputId": "af3793ab-4702-43cb-dbc6-248acc582ae2"
      },
      "outputs": [
        {
          "data": {
            "text/plain": [
              "(['Thứ Sáu, 18/11/2022',\n",
              "  'Thứ Sáu, 18/11/2022',\n",
              "  'Thứ Năm, 17/11/2022',\n",
              "  'Thứ Tư, 16/11/2022',\n",
              "  'Thứ Tư, 16/11/2022',\n",
              "  'Thứ Sáu, 11/11/2022',\n",
              "  'Thứ Hai, 17/10/2022',\n",
              "  'Thứ Bảy, 8/10/2022',\n",
              "  'Thứ Bảy, 19/11/2022',\n",
              "  'Thứ Bảy, 19/11/2022',\n",
              "  'Thứ Bảy, 19/11/2022',\n",
              "  'Thứ Sáu, 18/11/2022',\n",
              "  'Thứ Sáu, 18/11/2022',\n",
              "  'Thứ Sáu, 18/11/2022',\n",
              "  'Thứ Năm, 17/11/2022',\n",
              "  'Thứ Tư, 16/11/2022',\n",
              "  'Thứ Hai, 14/11/2022',\n",
              "  'Thứ Hai, 14/11/2022',\n",
              "  'Chủ Nhật, 13/11/2022',\n",
              "  'Chủ Nhật, 13/11/2022'],\n",
              " 'Kinh tế tuần hoàn mở ra những mô hình kinh doanh mới - Tạp chí Kinh tế Sài Gòn',\n",
              " 'https://thesaigontimes.vn',\n",
              " 'thesaigontimes.vn',\n",
              " 'try',\n",
              " 'last')"
            ]
          },
          "execution_count": 16,
          "metadata": {},
          "output_type": "execute_result"
        }
      ],
      "source": [
        "url_extract('https://thesaigontimes.vn/kinh-te-tuan-hoan-mo-ra-nhung-mo-hinh-kinh-doanh-moi/', key='time', tag_class='', type='')"
      ]
    },
    {
      "cell_type": "markdown",
      "metadata": {
        "id": "9ojYCac4-v1w"
      },
      "source": [
        "## VN Economy"
      ]
    },
    {
      "cell_type": "code",
      "execution_count": 17,
      "metadata": {
        "colab": {
          "base_uri": "https://localhost:8080/"
        },
        "id": "RndFI6THrXKY",
        "outputId": "becec95c-4e03-4245-b81c-e4f11be82576"
      },
      "outputs": [
        {
          "data": {
            "text/plain": [
              "(['/',\n",
              "  '/xuat-khau-det-may-van-tu-tin-voi-muc-tieu-42-ty-usd.htm',\n",
              "  '/tong-bi-thu-nguyen-phu-trong-chi-dao-khan-hoan-thanh-xet-xu-cac-vu-an-trong-diem.htm',\n",
              "  '/chuyen-14-nhom-hang-hoa-dich-vu-nha-nuoc-dinh-gia-sang-thuc-hien-theo-co-che-gia-thi-truong.htm',\n",
              "  '/ngan-hang-thuong-mai-cung-la-doanh-nghiep-nen-khong-the-hy-sinh-mai-duoc.htm',\n",
              "  '/ap-luc-trai-phieu-bat-dong-san-giam-dang-ke-gia-tri-dao-han-chi-con-21-nghin-ty-dong-tu-nay-cuoi-nam.htm',\n",
              "  '/tro-giup-cac-co-quan-bao-chi-tim-duong-chuyen-doi-so-dung-mo-hinh-kinh-doanh-dung.htm',\n",
              "  '/lenh-cam-dau-nga-cua-eu-sap-co-hieu-luc-duc-sot-vo-lo-thieu-dau.htm',\n",
              "  '/lai-suat-tiet-kiem-ngan-hang-nao-cao-nhat-thang-11-2022.htm',\n",
              "  '/tang-thanh-tra-chuyen-nganh-doanh-nghiep-cham-dong-bao-hiem-tu-3-thang-tro-len.htm',\n",
              "  '/hoi-thao-khoa-hoc-quoc-te-ve-bien-dong-lan-thu-14.htm',\n",
              "  '/thu-tuong-yeu-cau-ninh-binh-tap-trung-moi-nguon-luc-phat-trien-ket-cau-ha-tang.htm',\n",
              "  '/chu-tich-nuoc-nguyen-xuan-phuc-gap-chu-tich-trung-quoc-tap-can-binh-pho-tong-thong-my-kamala-harris.htm',\n",
              "  '/tong-bi-thu-nguyen-phu-trong-chi-dao-khan-hoan-thanh-xet-xu-cac-vu-an-trong-diem.htm',\n",
              "  '/3-truong-dao-tao-y-duoc-cua-viet-nam-hop-tac-voi-truong-y-harvard.htm',\n",
              "  '/chu-tich-nuoc-nguyen-xuan-phuc-gui-thu-den-nha-giao-can-bo-quan-ly-nhan-vien-nganh-giao-duc.htm',\n",
              "  '/tp-hcm-se-trien-khai-du-25-dich-vu-cong-thiet-yeu-theo-de-an-06.htm',\n",
              "  '/chu-tich-nuoc-doanh-nghiep-la-nguoi-hung-trong-kinh-te-dua-kim-ngach-thuong-mai-viet-thai-dat-30-ty-usd-vao-nam-2025.htm',\n",
              "  '/chu-tich-nuoc-nguyen-xuan-phuc-tiep-lanh-dao-mot-so-tap-doan-hang-dau-thai-lan.htm',\n",
              "  '/thanh-lap-truong-dai-hoc-luat-dai-hoc-quoc-gia-ha-noi.htm',\n",
              "  '/tang-thanh-tra-chuyen-nganh-doanh-nghiep-cham-dong-bao-hiem-tu-3-thang-tro-len.htm',\n",
              "  '/bao-dong-xe-du-ben-coc-bung-phat-tai-4-dia-phuong-bo-giao-thong-van-tai-quyet-xu-ly-dut-diem.htm',\n",
              "  '/giao-duc-la-tao-dong-luc-la-dinh-huong-cach-tu-duy-va-huong-hanh-dong.htm',\n",
              "  '/tro-giup-cac-co-quan-bao-chi-tim-duong-chuyen-doi-so-dung-mo-hinh-kinh-doanh-dung.htm',\n",
              "  '/don-doc-tap-chi-kinh-te-viet-nam-so-46-2022.htm',\n",
              "  '/thanh-hoa-tim-giai-phap-xu-ly-tinh-trang-cong-so-tram-ty-bi-bo-hoang.htm',\n",
              "  '/cong-bo-ket-qua-khao-sat-ve-2-nhan-san-pham-binh-vi-thai-minh-va-maxxhair.htm',\n",
              "  '/don-doc-tap-chi-kinh-te-viet-nam-so-45-2022.htm',\n",
              "  '/vang-lai-giam-gia-vi-phat-bieu-cua-quan-chuc-fed-spdr-gold-trust-ban-rong.htm',\n",
              "  '/lai-suat-tiet-kiem-ngan-hang-nao-cao-nhat-thang-11-2022.htm',\n",
              "  '/lap-to-cong-tac-thao-go-kho-khan-trong-thuc-hien-cac-du-an-bat-dong-san.htm',\n",
              "  '/sau-luu-y-voi-nha-dau-tu-khi-mua-trai-phieu-doanh-nghiep.htm',\n",
              "  '/de-xuat-cac-giai-phap-thao-go-thi-truong-tai-san.htm',\n",
              "  '/ap-luc-trai-phieu-bat-dong-san-giam-dang-ke-gia-tri-dao-han-chi-con-21-nghin-ty-dong-tu-nay-cuoi-nam.htm',\n",
              "  '/chuyen-14-nhom-hang-hoa-dich-vu-nha-nuoc-dinh-gia-sang-thuc-hien-theo-co-che-gia-thi-truong.htm',\n",
              "  '/xu-phat-san-thuong-mai-dien-tu-khong-cung-cap-thong-tin-theo-quy-dinh-voi-co-quan-thue.htm',\n",
              "  '/blog-chung-khoan-gam-hang-t2-rung-lac-se-manh.htm',\n",
              "  '/chung-khoan-my-tang-diem-gia-dau-tut-them-2.htm',\n",
              "  '/ap-luc-trai-phieu-bat-dong-san-giam-dang-ke-gia-tri-dao-han-chi-con-21-nghin-ty-dong-tu-nay-cuoi-nam.htm',\n",
              "  '/vcsc-gia-ure-se-cao-den-nam-2023-dcm-va-dpm-se-tra-co-tuc-hap-dan-de-mua-vao.htm',\n",
              "  '/co-phieu-pdr-lao-doc-do-nha-dau-tu-co-vay-ky-quy-bi-ep-ban-tu-cong-ty-chung-khoan.htm',\n",
              "  '/ong-chu-softbank-bong-dung-mac-no-gan-5-ty-usd-vi-choi-co-phieu-cong-nghe.htm',\n",
              "  '/sau-luu-y-voi-nha-dau-tu-khi-mua-trai-phieu-doanh-nghiep.htm',\n",
              "  '/xu-the-dong-tien-ap-luc-ty-gia-lai-suat-ha-nhiet-chung-khoan-co-co-hoi.htm',\n",
              "  '/bao-dong-xe-du-ben-coc-bung-phat-tai-4-dia-phuong-bo-giao-thong-van-tai-quyet-xu-ly-dut-diem.htm',\n",
              "  '/tang-hon-30-so-chuyen-dip-tet-quy-mao-cuc-hang-khong-yeu-cau-chong-un-tac-giam-cham-chuyen.htm',\n",
              "  '/thu-tuong-yeu-cau-ninh-binh-tap-trung-moi-nguon-luc-phat-trien-ket-cau-ha-tang.htm',\n",
              "  '/chu-tich-nuoc-nguyen-xuan-phuc-gap-chu-tich-trung-quoc-tap-can-binh-pho-tong-thong-my-kamala-harris.htm',\n",
              "  '/ha-noi-kien-quyet-khong-cho-phep-nha-dau-tu-vi-pham-duoc-tham-gia-dau-tu-du-an-moi.htm',\n",
              "  '/thi-truong-tram-lang-moi-gioi-bat-dong-san-dong-cua-hang-loat.htm',\n",
              "  '/tong-bi-thu-nguyen-phu-trong-chi-dao-khan-hoan-thanh-xet-xu-cac-vu-an-trong-diem.htm',\n",
              "  '/bac-ninh-thanh-lap-31-cum-cong-nghiep-va-16-khu-cong-nghiep.htm',\n",
              "  '/tp-hcm-doi-ten-hang-loat-hang-muc-ha-tang-giao-thong.htm',\n",
              "  '/sau-luu-y-voi-nha-dau-tu-khi-mua-trai-phieu-doanh-nghiep.htm',\n",
              "  '/diem-danh-cac-san-giao-dich-tien-ao-lon-nhat-the-gioi-nam-2022-san-vua-pha-san-ftx-dung-thu-tu.htm',\n",
              "  '/co-hoi-tro-thanh-trung-tam-du-lieu-lon-tiep-theo-trong-khu-vuc.htm',\n",
              "  '/de-viet-nam-thanh-digital-hub-cua-khu-vuc-vao-nam-2030-e290.htm',\n",
              "  '/viet-nam-trung-quoc-e289.htm',\n",
              "  '/lay-lai-da-tang-truong-xuat-khau-e288.htm',\n",
              "  '/kinh-te-viet-nam-thang-10-va-10-thang-2022-e287.htm',\n",
              "  '/dong-von-dau-tu-vuot-song-gio-e286.htm',\n",
              "  '/khoi-goi-tinh-than-khoan-10-trong-ket-noi-xay-dung-mang-luoi-he-sinh-thai-khoi-nghiep-doi-moi-sang-tao.htm',\n",
              "  '/ngan-hang-so-mieng-banh-kho-nhan-voi-cac-startup-chau-a.htm',\n",
              "  '/nhom-sinh-vien-viet-nam-dat-giai-cuoc-thi-quoc-te-ve-thiet-ke.htm',\n",
              "  '/nhieu-thiet-bi-hi-end-doc-xuat-hien-tai-avshow-thu-19-tai-tp-hcm.htm',\n",
              "  '/tp-hcm-se-trien-khai-du-25-dich-vu-cong-thiet-yeu-theo-de-an-06.htm',\n",
              "  '/chu-tich-nuoc-tai-hoi-nghi-thuong-dinh-doanh-nghiep-apec-viet-nam-mong-muon-thu-hut-cac-du-an-fdi-cong-nghe-cao.htm',\n",
              "  '/dua-viet-nam-thanh-digital-hub-cua-khu-vuc-can-mot-chien-luoc-quoc-gia.htm',\n",
              "  '/nhung-linh-vuc-doanh-nghiep-viet-co-co-hoi-tham-gia-chuoi-cung-ung-cua-ong-lon-nganh-dien-tu.htm',\n",
              "  '/usaid-hop-tac-voi-viet-nam-tang-cuong-an-ninh-y-te-toan-cau.htm',\n",
              "  '/chuyen-14-nhom-hang-hoa-dich-vu-nha-nuoc-dinh-gia-sang-thuc-hien-theo-co-che-gia-thi-truong.htm',\n",
              "  '/xu-phat-san-thuong-mai-dien-tu-khong-cung-cap-thong-tin-theo-quy-dinh-voi-co-quan-thue.htm',\n",
              "  '/thu-tuong-yeu-cau-ninh-binh-tap-trung-moi-nguon-luc-phat-trien-ket-cau-ha-tang.htm',\n",
              "  '/chu-tich-nuoc-nguyen-xuan-phuc-gap-chu-tich-trung-quoc-tap-can-binh-pho-tong-thong-my-kamala-harris.htm',\n",
              "  '/da-nang-huy-bo-quy-hoach-treo-18-nam-du-an-ga-duong-sat-tai-quan-lien-chieu.htm',\n",
              "  '/viet-nam-tiep-tuc-la-diem-den-dang-tin-cay-cua-doanh-nghiep-hoa-ky.htm',\n",
              "  '/thanh-hoa-rot-hang-nghin-ty-dong-xay-dung-mo-rong-nhieu-tuyen-duong-trong-diem.htm',\n",
              "  '/vang-lai-giam-gia-vi-phat-bieu-cua-quan-chuc-fed-spdr-gold-trust-ban-rong.htm',\n",
              "  '/lenh-cam-dau-nga-cua-eu-sap-co-hieu-luc-duc-sot-vo-lo-thieu-dau.htm',\n",
              "  '/chung-khoan-my-tang-diem-gia-dau-tut-them-2.htm',\n",
              "  '/chi-tieu-cua-gen-z-va-gen-alpha-se-chiem-1-3-thi-truong-hang-xa-xi.htm',\n",
              "  '/xuat-khau-det-may-van-tu-tin-voi-muc-tieu-42-ty-usd.htm',\n",
              "  '/aciar-se-tai-tro-23-trieu-aud-cho-cac-du-an-nong-nghiep-tai-viet-nam.htm',\n",
              "  '/chu-tich-nuoc-nguyen-xuan-phuc-gap-chu-tich-trung-quoc-tap-can-binh-pho-tong-thong-my-kamala-harris.htm',\n",
              "  '/viet-nam-tiep-tuc-la-diem-den-dang-tin-cay-cua-doanh-nghiep-hoa-ky.htm',\n",
              "  '/chi-tieu-cua-gen-z-va-gen-alpha-se-chiem-1-3-thi-truong-hang-xa-xi.htm',\n",
              "  '/techconnect//kham-pha-nhung-tien-ich-lam-nen-thanh-pho-thong-minh-nhat-the-gioi-singapore.htm',\n",
              "  '/techconnect//sau-nhung-be-boi-cua-thi-truong-bitcoin-cac-nha-phan-tich-du-doan-gi-ve-tien-dien-tu.htm',\n",
              "  '/techconnect//apple-dau-tu-450-trieu-usd-vao-he-thong-sos-chay-bang-ve-tinh.htm',\n",
              "  '/techconnect//amazon-tiep-tuc-ra-mat-dich-vu-ho-tro-suc-khoe-truc-tuyen-moi-amazon-clinic.htm',\n",
              "  '/techconnect//youtube-shorts-bat-dau-thu-nghiem-cac-tinh-nang-mua-sam-va-tiep-thi-lien-ket.htm',\n",
              "  '/thanh-lap-truong-dai-hoc-luat-dai-hoc-quoc-gia-ha-noi.htm',\n",
              "  '/mui-tiem-tang-cuong-bi-ngo-lo-cac-hang-muon-tang-gia-vaccine-covid-19.htm',\n",
              "  '/thieu-cuc-bo-vaccine-moderna-tiem-cho-tre-em.htm',\n",
              "  '/tiem-vaccine-covid-19-de-tre-duoc-den-truong-an-toan.htm',\n",
              "  '/chau-au-cap-phep-vaccine-the-he-moi-truoc-nguy-co-xuat-hien-bien-the-khac-vao-mua-dong.htm',\n",
              "  '/tang-thanh-tra-chuyen-nganh-doanh-nghiep-cham-dong-bao-hiem-tu-3-thang-tro-len.htm',\n",
              "  '/giao-duc-la-tao-dong-luc-la-dinh-huong-cach-tu-duy-va-huong-hanh-dong.htm',\n",
              "  '/hoi-dong-anh-duoc-to-chuc-thi-chung-chi-ielts-tro-lai.htm',\n",
              "  '/tang-hon-30-so-chuyen-dip-tet-quy-mao-cuc-hang-khong-yeu-cau-chong-un-tac-giam-cham-chuyen.htm',\n",
              "  '/tong-bi-thu-nguyen-phu-trong-chi-dao-khan-hoan-thanh-xet-xu-cac-vu-an-trong-diem.htm',\n",
              "  '/nhieu-dia-phuong-ho-tro-muc-dong-bao-hiem-cho-nguoi-dan.htm',\n",
              "  '/automotive/nganh-cong-nghiep-ho-tro-o-to-viet-cua-sang-nhung-lieu-co-de-di.htm',\n",
              "  '/automotive/vinfast-lan-dau-tien-he-lo-chi-tiet-thiet-ke-vf-6-va-vf-7-tai-los-angeles-auto-show-2022.htm',\n",
              "  '/automotive/top-10-xe-dang-tin-cay-nhat-the-gioi-nam-2022.htm',\n",
              "  '/automotive/cac-nha-san-xuat-pin-trung-quoc-tranh-thu-kiem-loi-tu-cam-xe-dong-co-dot-trong-cua-chau-au.htm',\n",
              "  '/cac-doanh-nghiep-duoc-loi-gi-khi-tai-tro-cho-world-cup.htm',\n",
              "  '/ve-xem-show-dien-cua-taylor-swift-len-toi-hon-20-000-usd.htm',\n",
              "  '/cuon-kinh-thanh-mau-xanh-cua-gioi-du-lich-thay-doi-trong-ky-nguyen-so-hoa.htm',\n",
              "  '/hon-200-van-dong-vien-tham-gia-giai-bong-ban-cup-hoi-nha-bao-viet-nam-nam-2022.htm'],\n",
              " '',\n",
              " 'https://vneconomy.vn',\n",
              " 'vneconomy.vn',\n",
              " 'fail',\n",
              " 'first')"
            ]
          },
          "execution_count": 17,
          "metadata": {},
          "output_type": "execute_result"
        }
      ],
      "source": [
        "url_extract('https://vneconomy.vn/', key='h3', type='link', bs_on=False)"
      ]
    },
    {
      "cell_type": "code",
      "execution_count": 18,
      "metadata": {
        "colab": {
          "base_uri": "https://localhost:8080/"
        },
        "id": "V2tg9DvtttX6",
        "outputId": "da10efc4-8c3f-4ef5-e1bd-24917be5652e"
      },
      "outputs": [
        {
          "data": {
            "text/plain": [
              "(['16:11 19/11/2022'],\n",
              " 'Xuất khẩu dệt may vẫn tự tin với mục tiêu 42 tỷ USD - Nhịp sống kinh tế Việt Nam & Thế giới',\n",
              " 'https://vneconomy.vn',\n",
              " 'vneconomy.vn',\n",
              " 'try',\n",
              " 'last')"
            ]
          },
          "execution_count": 18,
          "metadata": {},
          "output_type": "execute_result"
        }
      ],
      "source": [
        "url_extract('https://vneconomy.vn/xuat-khau-det-may-van-tu-tin-voi-muc-tieu-42-ty-usd.htm', key='div', tag_class='detail__meta', type='')"
      ]
    },
    {
      "cell_type": "markdown",
      "metadata": {
        "id": "S2jQPGbp-ysc"
      },
      "source": [
        "## Pháp luật Tp.HCM"
      ]
    },
    {
      "cell_type": "code",
      "execution_count": 19,
      "metadata": {
        "colab": {
          "base_uri": "https://localhost:8080/",
          "height": 35
        },
        "id": "XD51mOKGs86c",
        "outputId": "ba82b21e-0cf8-450e-b1b8-25e955c23b9c"
      },
      "outputs": [
        {
          "data": {
            "application/vnd.google.colaboratory.intrinsic+json": {
              "type": "string"
            },
            "text/plain": [
              "'https://plo.vn/dieu-tra-trung-tam-dang-kiem-cap-so-song-sinh-cho-xe-tai-post705918.html'"
            ]
          },
          "execution_count": 19,
          "metadata": {},
          "output_type": "execute_result"
        }
      ],
      "source": [
        "url_extract('https://m.plo.vn/phap-luat/', key='h3', type='link')[0][1]"
      ]
    },
    {
      "cell_type": "code",
      "execution_count": 20,
      "metadata": {
        "colab": {
          "base_uri": "https://localhost:8080/"
        },
        "id": "CauHALk1tOe4",
        "outputId": "60b5dd2e-327d-4608-c4b9-5514f201c1eb"
      },
      "outputs": [
        {
          "name": "stdout",
          "output_type": "stream",
          "text": [
            "02/11/2022 | 06:45 ĐIỀU TRA: Trung tâm đăng kiểm cấp 'sổ song sinh' cho xe tải\n"
          ]
        }
      ],
      "source": [
        "test = url_extract('https://plo.vn/dieu-tra-trung-tam-dang-kiem-cap-so-song-sinh-cho-xe-tai-post705918.html', key='time', tag_class='', type='')\n",
        "print(test[0][0] + ' ' + test[1])"
      ]
    },
    {
      "cell_type": "markdown",
      "metadata": {
        "id": "c82kCTWS_kX8"
      },
      "source": [
        "## Báo đầu tư"
      ]
    },
    {
      "cell_type": "code",
      "execution_count": 21,
      "metadata": {
        "colab": {
          "base_uri": "https://localhost:8080/"
        },
        "id": "u1HHrb8kCMp1",
        "outputId": "00985e5d-8c6d-4cb7-f64d-90b704bbb4e8"
      },
      "outputs": [
        {
          "data": {
            "text/plain": [
              "(['https://baodautu.vn/chu-tich-quoc-hoi-vuong-dinh-hue-yet-kien-quoc-vuong-campuchia-d178249.html',\n",
              "  'https://baodautu.vn/chu-tich-quoc-hoi-vuong-dinh-hue-yet-kien-quoc-vuong-campuchia-d178249.html',\n",
              "  'https://baodautu.vn/tong-bi-thu-khong-phai-xu-nang-cach-het-chuc-vu-moi-la-tot-d178216.html',\n",
              "  'https://baodautu.vn/tong-bi-thu-khong-phai-xu-nang-cach-het-chuc-vu-moi-la-tot-d178216.html',\n",
              "  'https://baodautu.vn/don-dep-thi-truong-bat-dong-san-bat-dau-tu-nhu-cau-thuc----bai-4-khi-mieng-dat-la-vat-chu-de-ky-sinh-d178118.html',\n",
              "  'https://baodautu.vn/chinh-thuc-ban-hanh-nghi-quyet-ve-ke-hoach-phat-trien-kinh-te---xa-hoi-nam-2023-d178203.html',\n",
              "  'https://baodautu.vn/masan-tham-vong-voi-vonfram-vines-bat-dau-san-xuat-pin-lfp-petrolimex-giu-von-nha-nuoc-tren-75-d178198.html',\n",
              "  'https://baodautu.vn/ngan-hang-ban-no-muon-chuyen-cuoi-ra-nuoc-mat-d178077.html',\n",
              "  'https://baodautu.vn/duoc-hau-giang-cham-soc-suc-khoe-cho-nguoi-dan-quang-ngai-sau-bao-lu-d178200.html',\n",
              "  'https://baodautu.vn/ha-nhiet-tam-ly-ban-thao-chung-chi-quy-cua-nha-dau-tu-d178199.html',\n",
              "  'https://baodautu.vn/chu-tich-nuoc-wto-van-la-co-che-hop-tac-da-phuong-mang-tinh-nen-tang-d178181.html',\n",
              "  'https://baodautu.vn/chu-tich-nuoc-neu-3-de-xuat-thuc-day-hop-tac-lien-khu-vuc-d178180.html',\n",
              "  'https://baodautu.vn/chot-danh-sach-cac-du-an-cham-lang-phi-khong-hieu-qua-can-giam-sat-xu-ly-d178176.html',\n",
              "  'https://baodautu.vn/cac-nha-lanh-dao-kinh-te-apec-ra-tuyen-bo-chung-phuc-hoi-kinh-te-d178238.html',\n",
              "  'https://baodautu.vn/cac-nha-lanh-dao-kinh-te-apec-ra-tuyen-bo-chung-phuc-hoi-kinh-te-d178238.html',\n",
              "  'https://baodautu.vn/chu-tich-quoc-hoi-vuong-dinh-hue-hoi-kien-chu-tich-thuong-vien-campuchia-d178253.html',\n",
              "  'https://baodautu.vn/chu-tich-quoc-hoi-vuong-dinh-hue-hoi-kien-chu-tich-thuong-vien-campuchia-d178253.html',\n",
              "  'https://baodautu.vn/can-tho-khoi-cong-tuyen-duong-4000-ty-dong-binh-dinh-duyet-khu-lien-hop-53500-ty-dong-d178230.html',\n",
              "  'https://baodautu.vn/can-tho-khoi-cong-tuyen-duong-4000-ty-dong-binh-dinh-duyet-khu-lien-hop-53500-ty-dong-d178230.html',\n",
              "  'https://baodautu.vn/chon-danh-muc-go-nghen-dong-tien-v785.html',\n",
              "  'https://baodautu.vn/xu-huong-trai-nghiem-dich-vu-cham-soc-dang-cap-v782.html',\n",
              "  'https://baodautu.vn/xu-huong-trai-nghiem-dich-vu-cham-soc-dang-cap-v782.html',\n",
              "  'https://baodautu.vn/kich-hoat-nhung-co-hoi-ma-moi-v781.html',\n",
              "  'https://baodautu.vn/kich-hoat-nhung-co-hoi-ma-moi-v781.html',\n",
              "  'https://baodautu.vn/nhieu-co-phieu-bi-dinh-gia-re-toi-muc-khong-the-chap-nhan-d178067.html',\n",
              "  'https://baodautu.vn/nhieu-co-phieu-bi-dinh-gia-re-toi-muc-khong-the-chap-nhan-d178067.html',\n",
              "  'https://baodautu.vn/noi-them-room-tin-dung-ngan-hang-cung-khong-co-von-de-cho-vay-d178142.html',\n",
              "  'https://baodautu.vn/noi-them-room-tin-dung-ngan-hang-cung-khong-co-von-de-cho-vay-d178142.html',\n",
              "  'https://baodautu.vn/viet-nam-vay-no-de-dau-tu-phat-trien-d177883.html',\n",
              "  'https://baodautu.vn/viet-nam-vay-no-de-dau-tu-phat-trien-d177883.html',\n",
              "  'https://baodautu.vn/cic-group-phat-hanh-co-phieu-rieng-le-de-tra-no-d177944.html',\n",
              "  'https://baodautu.vn/cic-group-phat-hanh-co-phieu-rieng-le-de-tra-no-d177944.html',\n",
              "  'https://baodautu.vn/lan-dau-tien-chu-tich-mai-huu-tin-dang-ky-mua-vao-10-trieu-co-phieu-ttf-d178184.html',\n",
              "  'https://baodautu.vn/lan-dau-tien-chu-tich-mai-huu-tin-dang-ky-mua-vao-10-trieu-co-phieu-ttf-d178184.html',\n",
              "  'https://baodautu.vn/ldg-chot-quyen-tra-co-tuc-7-bang-co-phieu-sau-nhieu-lan-tri-hoan-d178166.html',\n",
              "  'https://baodautu.vn/ldg-chot-quyen-tra-co-tuc-7-bang-co-phieu-sau-nhieu-lan-tri-hoan-d178166.html',\n",
              "  'https://baodautu.vn/batdongsan/vmi---lua-chon-ly-tuong-de-da-dang-hoa-danh-muc-dau-tu-trong-thoi-ky-bien-dong-d178232.html',\n",
              "  'https://baodautu.vn/batdongsan/vmi---lua-chon-ly-tuong-de-da-dang-hoa-danh-muc-dau-tu-trong-thoi-ky-bien-dong-d178232.html',\n",
              "  'https://baodautu.vn/mua-ban---cho-thue-c43/',\n",
              "  'https://baodautu.vn/quan-he-doan-ket-huu-nghi-truyen-thong-viet-nam-va-campuchia-m178211.html',\n",
              "  'https://baodautu.vn/quan-he-doan-ket-huu-nghi-truyen-thong-viet-nam-va-campuchia-m178211.html',\n",
              "  'https://baodautu.vn/thoi-su-d1/',\n",
              "  'https://baodautu.vn/chu-tich-quoc-hoi-vuong-dinh-hue-hoi-kien-chu-tich-thuong-vien-campuchia-d178253.html',\n",
              "  'https://baodautu.vn/chu-tich-quoc-hoi-vuong-dinh-hue-hoi-kien-chu-tich-thuong-vien-campuchia-d178253.html',\n",
              "  'https://baodautu.vn/thoi-su-d1/',\n",
              "  'https://baodautu.vn/emagazine-doanh-nhan-doan-hieu-minh-khong-chon-lao-vao-con-duong-chiet-khau-va-canh-tranh-m177432.html',\n",
              "  'https://baodautu.vn/emagazine-doanh-nhan-doan-hieu-minh-khong-chon-lao-vao-con-duong-chiet-khau-va-canh-tranh-m177432.html',\n",
              "  'https://baodautu.vn/vinh-danh-top-10-sao-do---doanh-nhan-tre-viet-nam-tieu-bieu-2022-d177401.html',\n",
              "  'https://baodautu.vn/anh-nhung-chieu-cuoi-thu-ha-noi-m176941.html',\n",
              "  'https://baodautu.vn/emagazine-dien-vien-mc-charlie-win-viet-nam---noi-toi-khat-khao-lan-toa-nhung-thong-diep-dep-m175656.html',\n",
              "  'https://baodautu.vn/chu-tich-quoc-hoi-vuong-dinh-hue-yet-kien-quoc-vuong-campuchia-d178249.html',\n",
              "  'https://baodautu.vn/chu-tich-quoc-hoi-vuong-dinh-hue-yet-kien-quoc-vuong-campuchia-d178249.html',\n",
              "  'https://baodautu.vn/thoi-su-d1/',\n",
              "  'https://baodautu.vn/cac-nha-lanh-dao-kinh-te-apec-ra-tuyen-bo-chung-phuc-hoi-kinh-te-d178238.html',\n",
              "  'https://baodautu.vn/cac-nha-lanh-dao-kinh-te-apec-ra-tuyen-bo-chung-phuc-hoi-kinh-te-d178238.html',\n",
              "  'https://baodautu.vn/quoc-te-d54/',\n",
              "  'https://baodautu.vn/cop27-thoi-gian-dam-phan-dang-can-dan-d178231.html',\n",
              "  'https://baodautu.vn/cop27-thoi-gian-dam-phan-dang-can-dan-d178231.html',\n",
              "  'https://baodautu.vn/dau-tu-phat-trien-ben-vung-d52/',\n",
              "  'https://baodautu.vn/don-dep-thi-truong-bat-dong-san-bat-dau-tu-nhu-cau-thuc----bai-4-khi-mieng-dat-la-vat-chu-de-ky-sinh-d178118.html',\n",
              "  'https://baodautu.vn/don-dep-thi-truong-bat-dong-san-bat-dau-tu-nhu-cau-thuc----bai-4-khi-mieng-dat-la-vat-chu-de-ky-sinh-d178118.html',\n",
              "  'https://baodautu.vn/xu-ly-nghiem-vi-pham-doi-voi-viec-ngung-khong-cung-cap-xang-dau-d178201.html',\n",
              "  'https://baodautu.vn/xu-ly-nghiem-vi-pham-doi-voi-viec-ngung-khong-cung-cap-xang-dau-d178201.html',\n",
              "  'https://baodautu.vn/nguoi-dan-rong-ra-cau-cuu-khi-nao-co-so-do-tu-du-an-cua-cong-ty-bach-dat-an-d177946.html',\n",
              "  'https://baodautu.vn/nguoi-dan-rong-ra-cau-cuu-khi-nao-co-so-do-tu-du-an-cua-cong-ty-bach-dat-an-d177946.html',\n",
              "  'https://baodautu.vn/noi-them-room-tin-dung-ngan-hang-cung-khong-co-von-de-cho-vay-d178142.html',\n",
              "  'https://baodautu.vn/noi-them-room-tin-dung-ngan-hang-cung-khong-co-von-de-cho-vay-d178142.html',\n",
              "  'https://baodautu.vn/lay-ngan-sach-lap-quy-bao-lanh-trai-phieu-de-giai-cuu-dong-tien-co-kha-thi-d178124.html',\n",
              "  'https://baodautu.vn/lay-ngan-sach-lap-quy-bao-lanh-trai-phieu-de-giai-cuu-dong-tien-co-kha-thi-d178124.html',\n",
              "  'https://baodautu.vn/xay-bo-cong-cu-de-sang-loc-du-an-fdi-d178071.html',\n",
              "  'https://baodautu.vn/xay-bo-cong-cu-de-sang-loc-du-an-fdi-d178071.html',\n",
              "  'https://baodautu.vn/mot-nha-thau-cao-toc-mat-viec-trong-lan-dau-thi-sat-cua-tan-tu-lenh-giao-thong-d178111.html',\n",
              "  'https://baodautu.vn/mot-nha-thau-cao-toc-mat-viec-trong-lan-dau-thi-sat-cua-tan-tu-lenh-giao-thong-d178111.html',\n",
              "  'https://baodautu.vn/tin-van-dau-tu-online-ngay-1911-d178202.html',\n",
              "  'https://baodautu.vn/tin-van-dau-tu-online-ngay-1911-d178202.html',\n",
              "  'https://baodautu.vn/ma-vietnam-forum-2022-kich-hoat-nhung-co-hoi-moi-cn365/',\n",
              "  'https://baodautu.vn/ma-vietnam-forum-2022-kich-hoat-nhung-co-hoi-moi-cn365/',\n",
              "  'https://baodautu.vn/giai-thuong-sao-do---doanh-nhan-tre-viet-nam-tieu-bieu-2022-cn366/',\n",
              "  'https://baodautu.vn/giai-thuong-sao-do---doanh-nhan-tre-viet-nam-tieu-bieu-2022-cn366/',\n",
              "  'https://baodautu.vn/giai-golf-vi-tre-em-viet-nam---swing-for-the-kids-cn101/',\n",
              "  'https://baodautu.vn/giai-golf-vi-tre-em-viet-nam---swing-for-the-kids-cn101/',\n",
              "  'https://baodautu.vn/viet-nam-san-sang-don-dong-von-dich-chuyen-cn299/',\n",
              "  'https://baodautu.vn/viet-nam-san-sang-don-dong-von-dich-chuyen-cn299/',\n",
              "  'https://baodautu.vn/nong-mua-dai-hoi-co-dong-2022-cn346/',\n",
              "  'https://baodautu.vn/nong-mua-dai-hoi-co-dong-2022-cn346/',\n",
              "  'https://baodautu.vn/batdongsan/tphcm-de-xuat-dua-hang-loat-tuyen-cao-toc-quoc-lo-ket-noi-lien-vung-vao-quy-hoach-d178220.html',\n",
              "  'https://baodautu.vn/batdongsan/can-ho-moonlight-avenue---hang-hiem-giua-thi-truong-can-ho-tp-thu-duc-d178147.html',\n",
              "  'https://baodautu.vn/batdongsan/vmi---co-hoi-de-cac-nha-dau-tu-nho-le-lien-ket-vuot-qua-bao-thi-truong-d178146.html',\n",
              "  'https://baodautu.vn/batdongsan/kham-pha-chuan-muc-song-xanh-khoe-manh-theo-tinh-than-thuy-si-tai-the-zurich-d178135.html',\n",
              "  'https://baodautu.vn/batdongsan/da-nang-huy-quy-hoach-du-an-ga-duong-sat-d178132.html',\n",
              "  'https://baodautu.vn/batdongsan/happy-one-central-go-kho-cho-nguoi-mua-nha-voi-chinh-sach-ho-tro-lai-suat-0-d178113.html',\n",
              "  'https://baodautu.vn/batdongsan/hoan-thanh-san-lap-mat-bang-vinwonders-vu-yen-ram-ro-trien-khai-ha-tang-d178054.html',\n",
              "  'https://baodautu.vn/batdongsan/thu-tuong-thanh-lap-to-cong-tac-thao-go-kho-khan-cho-bat-dong-san-d178095.html',\n",
              "  'https://baodautu.vn/batdongsan/gia-tri-thuc-giup-thanh-pho-ca-phe-loi-nguoc-dong-tren-thi-truong-bat-dong-san-d178061.html',\n",
              "  'https://baodautu.vn/batdongsan/vmi---lua-chon-ly-tuong-de-da-dang-hoa-danh-muc-dau-tu-trong-thoi-ky-bien-dong-d178232.html',\n",
              "  'https://baodautu.vn/batdongsan/vmi---lua-chon-ly-tuong-de-da-dang-hoa-danh-muc-dau-tu-trong-thoi-ky-bien-dong-d178232.html',\n",
              "  'https://baodautu.vn/batdongsan/tphcm-de-xuat-dua-hang-loat-tuyen-cao-toc-quoc-lo-ket-noi-lien-vung-vao-quy-hoach-d178220.html',\n",
              "  'https://baodautu.vn/batdongsan/tphcm-de-xuat-dua-hang-loat-tuyen-cao-toc-quoc-lo-ket-noi-lien-vung-vao-quy-hoach-d178220.html',\n",
              "  'https://baodautu.vn/batdongsan/vinh-long-dau-tu-du-an-khu-thuong-mai---dich-vu---du-lich-von-tren-2060-ty-dong-d178212.html',\n",
              "  'https://baodautu.vn/batdongsan/vinh-long-dau-tu-du-an-khu-thuong-mai---dich-vu---du-lich-von-tren-2060-ty-dong-d178212.html',\n",
              "  'https://baodautu.vn/batdongsan/quang-nam-chon-duoc-nha-dau-tu-cho-khu-dan-cu-do-thi-ha-my-trung-1-d178161.html',\n",
              "  'https://baodautu.vn/batdongsan/quang-nam-chon-duoc-nha-dau-tu-cho-khu-dan-cu-do-thi-ha-my-trung-1-d178161.html',\n",
              "  'https://baodautu.vn/batdongsan/nhan-dien-toa-do-dau-tu-bat-dong-san-dip-cuoi-nam-d177726.html',\n",
              "  'https://baodautu.vn/batdongsan/nhan-dien-toa-do-dau-tu-bat-dong-san-dip-cuoi-nam-d177726.html',\n",
              "  'https://baodautu.vn/don-dep-thi-truong-bat-dong-san-bat-dau-tu-nhu-cau-thuc----bai-4-khi-mieng-dat-la-vat-chu-de-ky-sinh-d178118.html',\n",
              "  'https://baodautu.vn/don-dep-thi-truong-bat-dong-san-bat-dau-tu-nhu-cau-thuc---bai-3-nha-binh-dan-khong-danh-cho-dan-binh-thuong-d177933.html',\n",
              "  'https://baodautu.vn/don-dep-thi-truong-bat-dong-san-bat-dau-tu-nhu-cau-thuc---bai-2-dao-dien-chuyen-tay-nhau-than-hong-d177713.html',\n",
              "  'https://baodautu.vn/don-dep-thi-truong-bat-dong-san-bat-dau-tu-nhu-cau-thuc---bai-1-toi-di-bat-day-thoi-dat-dong-bang-d177575.html',\n",
              "  'https://baodautu.vn/bat-benh-ngap-nuoc-o-cac-do-thi-lon---bai-5-phai-co-quy-hoach-thoat-nuoc-tong-the-cho-do-thi-d176288.html',\n",
              "  'https://baodautu.vn/bat-benh-ngap-nuoc-o-cac-do-thi-lon---bai-4-do-tien-dau-tu-nhu-nuoc-ha-noi-tphcm-van-ngap-d176086.html',\n",
              "  'https://baodautu.vn/bat-benh-ngap-nuoc-o-cac-do-thi-lon---bai-3-vung-sau-giua-pho-thi-phon-hoa-d175911.html',\n",
              "  'https://baodautu.vn/bat-benh-ngap-nuoc-o-cac-do-thi-lon---bai-2-ngap-nang-tu-pho-bien-den-pho-nui-vi-sao-d175760.html',\n",
              "  'https://baodautu.vn/bat-benh-ngap-nuoc-o-cac-do-thi-lon---bai-1-hau-qua-cua-tinh-trang-ha-tang-thieu-dong-bo-d175574.html',\n",
              "  'https://baodautu.vn/chan-dung-nhung-lien-minh-ma-quy-lam-suy-tan-dat-nuoc---bai-5-xu-the-khong-the-dao-nguoc-d175778.html',\n",
              "  'https://baodautu.vn/thuc-day-hop-tac-cong---tu-trong-xu-ly-chat-thai-ran-d177717.html',\n",
              "  'https://baodautu.vn/thuc-day-hop-tac-cong---tu-trong-xu-ly-chat-thai-ran-d177717.html',\n",
              "  'https://baodautu.vn/dau-tu-phat-trien-ben-vung-d52/',\n",
              "  'https://baodautu.vn/chu-tich-quoc-hoi-vuong-dinh-hue-hoi-dam-voi-chu-tich-quoc-hoi-campuchia-samdech-heng-samrin-d178229.html',\n",
              "  'https://baodautu.vn/chu-tich-quoc-hoi-vuong-dinh-hue-hoi-dam-voi-chu-tich-quoc-hoi-campuchia-samdech-heng-samrin-d178229.html',\n",
              "  'https://baodautu.vn/thoi-su-d1/',\n",
              "  'https://baodautu.vn/can-tho-khoi-cong-tuyen-duong-4000-ty-dong-binh-dinh-duyet-khu-lien-hop-53500-ty-dong-d178230.html',\n",
              "  'https://baodautu.vn/can-tho-khoi-cong-tuyen-duong-4000-ty-dong-binh-dinh-duyet-khu-lien-hop-53500-ty-dong-d178230.html',\n",
              "  'https://baodautu.vn/dau-tu-d2/',\n",
              "  'https://baodautu.vn/tin-moi-ve-y-te-ngay-1911-thu-hoi-cac-lo-thuoc-tri-nhiem-khuan-chua-co-ket-qua-kiem-tra-chat-luong-d178208.html',\n",
              "  'https://baodautu.vn/duoc-hau-giang-cham-soc-suc-khoe-cho-nguoi-dan-quang-ngai-sau-bao-lu-d178200.html',\n",
              "  'https://baodautu.vn/duoc-hau-giang-cham-soc-suc-khoe-cho-nguoi-dan-quang-ngai-sau-bao-lu-d178200.html',\n",
              "  'https://baodautu.vn/tin-moi-ve-y-te-ngay-1811-viet-nam-thuc-hien-ghep-da-tu-nguoi-cho-chet-nao-huong-dan-chan-doan-dieu-tri-benh-beo-phi-d178127.html',\n",
              "  'https://baodautu.vn/tin-moi-ve-y-te-ngay-1811-viet-nam-thuc-hien-ghep-da-tu-nguoi-cho-chet-nao-huong-dan-chan-doan-dieu-tri-benh-beo-phi-d178127.html',\n",
              "  'https://baodautu.vn/no-luc-ngan-chan-va-day-lui-dai-dich-hivaids-d178110.html',\n",
              "  'https://baodautu.vn/no-luc-ngan-chan-va-day-lui-dai-dich-hivaids-d178110.html',\n",
              "  'https://baodautu.vn/tin-moi-ve-y-te-ngay-1711-ha-noi-trien-khai-nhieu-bien-phap-phong-chong-dich-sot-xuat-huyet-d178031.html',\n",
              "  'https://baodautu.vn/tin-moi-ve-y-te-ngay-1711-ha-noi-trien-khai-nhieu-bien-phap-phong-chong-dich-sot-xuat-huyet-d178031.html',\n",
              "  'https://baodautu.vn/khi-nao-quy-dau-tu-can-ap-dung-lieu-phap-phanh-khan-cap-d178225.html',\n",
              "  'https://baodautu.vn/khi-nao-quy-dau-tu-can-ap-dung-lieu-phap-phanh-khan-cap-d178225.html',\n",
              "  'https://baodautu.vn/tai-chinh-chung-khoan-d6/',\n",
              "  'https://baodautu.vn/bentley-ra-mat-xe-hybrid-sieu-sang-d178223.html',\n",
              "  'https://baodautu.vn/bentley-ra-mat-xe-hybrid-sieu-sang-d178223.html',\n",
              "  'https://baodautu.vn/o-to-xe-may-d9/',\n",
              "  'https://baodautu.vn/batdongsan/tphcm-de-xuat-dua-hang-loat-tuyen-cao-toc-quoc-lo-ket-noi-lien-vung-vao-quy-hoach-d178220.html',\n",
              "  'https://baodautu.vn/batdongsan/tphcm-de-xuat-dua-hang-loat-tuyen-cao-toc-quoc-lo-ket-noi-lien-vung-vao-quy-hoach-d178220.html',\n",
              "  'https://baodautu.vn/du-an--quy-hoach-c32/',\n",
              "  'https://baodautu.vn/cuoi-nam-khong-de-vay-von-ngan-hang-voi-lai-suat-cao-d177910.html',\n",
              "  'https://baodautu.vn/cuoi-nam-khong-de-vay-von-ngan-hang-voi-lai-suat-cao-d177910.html',\n",
              "  'https://baodautu.vn/ngan-hang-d5/',\n",
              "  'https://baodautu.vn/tong-bi-thu-khong-phai-xu-nang-cach-het-chuc-vu-moi-la-tot-d178216.html',\n",
              "  'https://baodautu.vn/tong-bi-thu-khong-phai-xu-nang-cach-het-chuc-vu-moi-la-tot-d178216.html',\n",
              "  'https://baodautu.vn/thoi-su-d1/',\n",
              "  'https://baodautu.vn/my-va-trung-quoc-thao-luan-thuong-mai-song-phuong-d178210.html',\n",
              "  'https://baodautu.vn/my-va-trung-quoc-thao-luan-thuong-mai-song-phuong-d178210.html',\n",
              "  'https://baodautu.vn/quoc-te-d54/',\n",
              "  'https://baodautu.vn/quan-he-doan-ket-huu-nghi-truyen-thong-viet-nam-va-campuchia-m178211.html',\n",
              "  'https://baodautu.vn/quan-he-doan-ket-huu-nghi-truyen-thong-viet-nam-va-campuchia-m178211.html',\n",
              "  'https://baodautu.vn/chu-tich-quoc-hoi-vuong-dinh-hue-hoi-kien-chu-tich-thuong-vien-campuchia-d178253.html',\n",
              "  'https://baodautu.vn/chu-tich-quoc-hoi-vuong-dinh-hue-hoi-kien-chu-tich-thuong-vien-campuchia-d178253.html',\n",
              "  'https://baodautu.vn/chu-tich-quoc-hoi-vuong-dinh-hue-yet-kien-quoc-vuong-campuchia-d178249.html',\n",
              "  'https://baodautu.vn/chu-tich-quoc-hoi-vuong-dinh-hue-yet-kien-quoc-vuong-campuchia-d178249.html',\n",
              "  'https://baodautu.vn/can-tho-khoi-cong-tuyen-duong-4000-ty-dong-binh-dinh-duyet-khu-lien-hop-53500-ty-dong-d178230.html',\n",
              "  'https://baodautu.vn/can-tho-khoi-cong-tuyen-duong-4000-ty-dong-binh-dinh-duyet-khu-lien-hop-53500-ty-dong-d178230.html',\n",
              "  'https://baodautu.vn/mo-huong-phat-trien-cho-vung-tay-nguyen-d178085.html',\n",
              "  'https://baodautu.vn/mo-huong-phat-trien-cho-vung-tay-nguyen-d178085.html',\n",
              "  'https://baodautu.vn/tap-doan-sao-do-cung-dau-tu-xay-dung-tuyen-de-bien-nam-dinh-vu-d178178.html',\n",
              "  'https://baodautu.vn/tap-doan-sao-do-cung-dau-tu-xay-dung-tuyen-de-bien-nam-dinh-vu-d178178.html',\n",
              "  'https://baodautu.vn/cac-nha-lanh-dao-kinh-te-apec-ra-tuyen-bo-chung-phuc-hoi-kinh-te-d178238.html',\n",
              "  'https://baodautu.vn/cac-nha-lanh-dao-kinh-te-apec-ra-tuyen-bo-chung-phuc-hoi-kinh-te-d178238.html',\n",
              "  'https://baodautu.vn/my-va-trung-quoc-thao-luan-thuong-mai-song-phuong-d178210.html',\n",
              "  'https://baodautu.vn/my-va-trung-quoc-thao-luan-thuong-mai-song-phuong-d178210.html',\n",
              "  'https://baodautu.vn/chu-tich-nuoc-wto-van-la-co-che-hop-tac-da-phuong-mang-tinh-nen-tang-d178181.html',\n",
              "  'https://baodautu.vn/chu-tich-nuoc-wto-van-la-co-che-hop-tac-da-phuong-mang-tinh-nen-tang-d178181.html',\n",
              "  'https://baodautu.vn/masan-tham-vong-voi-vonfram-vines-bat-dau-san-xuat-pin-lfp-petrolimex-giu-von-nha-nuoc-tren-75-d178198.html',\n",
              "  'https://baodautu.vn/masan-tham-vong-voi-vonfram-vines-bat-dau-san-xuat-pin-lfp-petrolimex-giu-von-nha-nuoc-tren-75-d178198.html',\n",
              "  'https://baodautu.vn/ong-dinh-cao-khue-chu-tich-doveco-thi-truong-eu-khong-qua-kho-nhu-ta-van-nghi-d178158.html',\n",
              "  'https://baodautu.vn/ong-dinh-cao-khue-chu-tich-doveco-thi-truong-eu-khong-qua-kho-nhu-ta-van-nghi-d178158.html',\n",
              "  'https://baodautu.vn/minh-bach-khoan-dong-gop-cua-doanh-nghiep-de-ho-tro-tai-che-xu-ly-chat-thai-d178192.html',\n",
              "  'https://baodautu.vn/minh-bach-khoan-dong-gop-cua-doanh-nghiep-de-ho-tro-tai-che-xu-ly-chat-thai-d178192.html',\n",
              "  'https://baodautu.vn/ceo-luu-thi-thanh-mau-tang-truong-xanh-dang-tro-thanh-mot-xu-huong-tat-yeu-d177871.html',\n",
              "  'https://baodautu.vn/ceo-luu-thi-thanh-mau-tang-truong-xanh-dang-tro-thanh-mot-xu-huong-tat-yeu-d177871.html',\n",
              "  'https://baodautu.vn/doanh-nhan-nguyen-kim-thoa-ceo-tan-viet-books-dam-me-truyen-lua-va-lan-toa-van-hoa-doc-d177572.html',\n",
              "  'https://baodautu.vn/doanh-nhan-nguyen-kim-thoa-ceo-tan-viet-books-dam-me-truyen-lua-va-lan-toa-van-hoa-doc-d177572.html',\n",
              "  'https://baodautu.vn/nguyen-thi-cac-thuy-khoi-nghiep-thanh-cong-tu-mon-qua-cua-me-d177456.html',\n",
              "  'https://baodautu.vn/nguyen-thi-cac-thuy-khoi-nghiep-thanh-cong-tu-mon-qua-cua-me-d177456.html',\n",
              "  'https://baodautu.vn/cuoi-nam-khong-de-vay-von-ngan-hang-voi-lai-suat-cao-d177910.html',\n",
              "  'https://baodautu.vn/cuoi-nam-khong-de-vay-von-ngan-hang-voi-lai-suat-cao-d177910.html',\n",
              "  'https://baodautu.vn/ngan-hang-ban-no-muon-chuyen-cuoi-ra-nuoc-mat-d178077.html',\n",
              "  'https://baodautu.vn/ngan-hang-ban-no-muon-chuyen-cuoi-ra-nuoc-mat-d178077.html',\n",
              "  'https://baodautu.vn/mbs-khuyen-nghi-mua-co-phieu-vib-voi-gia-muc-tieu-27700-dong-d178148.html',\n",
              "  'https://baodautu.vn/mbs-khuyen-nghi-mua-co-phieu-vib-voi-gia-muc-tieu-27700-dong-d178148.html',\n",
              "  'https://baodautu.vn/khi-nao-quy-dau-tu-can-ap-dung-lieu-phap-phanh-khan-cap-d178225.html',\n",
              "  'https://baodautu.vn/khi-nao-quy-dau-tu-can-ap-dung-lieu-phap-phanh-khan-cap-d178225.html',\n",
              "  'https://baodautu.vn/dau-tu-hai-phat-tran-an-co-dong-khi-co-phieu-lien-tuc-giam-d178191.html',\n",
              "  'https://baodautu.vn/dau-tu-hai-phat-tran-an-co-dong-khi-co-phieu-lien-tuc-giam-d178191.html',\n",
              "  'https://baodautu.vn/nhieu-co-phieu-bi-dinh-gia-re-toi-muc-khong-the-chap-nhan-d178067.html',\n",
              "  'https://baodautu.vn/nhieu-co-phieu-bi-dinh-gia-re-toi-muc-khong-the-chap-nhan-d178067.html',\n",
              "  'https://baodautu.vn/hai-phong-tiep-tuc-giu-on-dinh-nguon-cung-xang-dau-d178188.html',\n",
              "  'https://baodautu.vn/hai-phong-tiep-tuc-giu-on-dinh-nguon-cung-xang-dau-d178188.html',\n",
              "  'https://baodautu.vn/my-an-lien-gau-do-bi-canh-bao-bo-cong-thuong-yeu-cau-bao-cao-d178153.html',\n",
              "  'https://baodautu.vn/my-an-lien-gau-do-bi-canh-bao-bo-cong-thuong-yeu-cau-bao-cao-d178153.html',\n",
              "  'https://baodautu.vn/van-lo-thieu-xang-dau-cuc-bo-d178119.html',\n",
              "  'https://baodautu.vn/van-lo-thieu-xang-dau-cuc-bo-d178119.html',\n",
              "  'https://baodautu.vn/cic-group-phat-hanh-co-phieu-rieng-le-de-tra-no-d177944.html',\n",
              "  'https://baodautu.vn/cic-group-phat-hanh-co-phieu-rieng-le-de-tra-no-d177944.html',\n",
              "  'https://baodautu.vn/lan-dau-tien-chu-tich-mai-huu-tin-dang-ky-mua-vao-10-trieu-co-phieu-ttf-d178184.html',\n",
              "  'https://baodautu.vn/lan-dau-tien-chu-tich-mai-huu-tin-dang-ky-mua-vao-10-trieu-co-phieu-ttf-d178184.html',\n",
              "  'https://baodautu.vn/ldg-chot-quyen-tra-co-tuc-7-bang-co-phieu-sau-nhieu-lan-tri-hoan-d178166.html',\n",
              "  'https://baodautu.vn/ldg-chot-quyen-tra-co-tuc-7-bang-co-phieu-sau-nhieu-lan-tri-hoan-d178166.html',\n",
              "  'https://baodautu.vn/bentley-ra-mat-xe-hybrid-sieu-sang-d178223.html',\n",
              "  'https://baodautu.vn/bentley-ra-mat-xe-hybrid-sieu-sang-d178223.html',\n",
              "  'https://baodautu.vn/vines-va-gotion-dong-tho-du-an-nha-may-san-xuat-pin-lfp-cong-suat-5-gwhnam-d178152.html',\n",
              "  'https://baodautu.vn/vines-va-gotion-dong-tho-du-an-nha-may-san-xuat-pin-lfp-cong-suat-5-gwhnam-d178152.html',\n",
              "  'https://baodautu.vn/vinfast-gioi-thieu-chi-tiet-thiet-ke-vf-6-va-vf-7-tai-los-angeles-auto-show-2022-d178139.html',\n",
              "  'https://baodautu.vn/vinfast-gioi-thieu-chi-tiet-thiet-ke-vf-6-va-vf-7-tai-los-angeles-auto-show-2022-d178139.html',\n",
              "  'https://baodautu.vn/ha-noi-chuyen-doi-so-la-tru-cot-thuc-day-phat-trien-du-lich-lang-nghe-d178185.html',\n",
              "  'https://baodautu.vn/ha-noi-chuyen-doi-so-la-tru-cot-thuc-day-phat-trien-du-lich-lang-nghe-d178185.html',\n",
              "  'https://baodautu.vn/khai-mac-festival-ninh-binh-2022---trang-an-ket-noi-di-san-d178141.html',\n",
              "  'https://baodautu.vn/khai-mac-festival-ninh-binh-2022---trang-an-ket-noi-di-san-d178141.html',\n",
              "  'https://baodautu.vn/nguoi-nuoc-ngoai-can-lam-thu-tuc-gi-de-duoc-cap-thi-thuc-dien-tu-vao-viet-nam-m178104.html',\n",
              "  'https://baodautu.vn/nguoi-nuoc-ngoai-can-lam-thu-tuc-gi-de-duoc-cap-thi-thuc-dien-tu-vao-viet-nam-m178104.html',\n",
              "  'https://baodautu.vn/tron-25-nam-ngay-viet-nam-chinh-thuc-ket-noi-internet-toan-cau-m178209.html',\n",
              "  'https://baodautu.vn/tron-25-nam-ngay-viet-nam-chinh-thuc-ket-noi-internet-toan-cau-m178209.html',\n",
              "  'https://baodautu.vn/voice-brandname-giai-phap-quang-ba-hieu-qua-thuong-hieu-trong-thoi-dai-so-d178205.html',\n",
              "  'https://baodautu.vn/voice-brandname-giai-phap-quang-ba-hieu-qua-thuong-hieu-trong-thoi-dai-so-d178205.html',\n",
              "  'https://baodautu.vn/viet-nam-ket-noi-internet-tron-25-nam-d178207.html',\n",
              "  'https://baodautu.vn/viet-nam-ket-noi-internet-tron-25-nam-d178207.html',\n",
              "  'https://baodautu.vn/cop27-thoi-gian-dam-phan-dang-can-dan-d178231.html',\n",
              "  'https://baodautu.vn/cop27-thoi-gian-dam-phan-dang-can-dan-d178231.html',\n",
              "  'https://baodautu.vn/thuc-day-hop-tac-cong---tu-trong-xu-ly-chat-thai-ran-d177717.html',\n",
              "  'https://baodautu.vn/thuc-day-hop-tac-cong---tu-trong-xu-ly-chat-thai-ran-d177717.html',\n",
              "  'https://baodautu.vn/vedan-viet-nam-trao-ky-niem-chuong-cho-219-nhan-vien-co-tham-nien-d178227.html',\n",
              "  'https://baodautu.vn/vedan-viet-nam-trao-ky-niem-chuong-cho-219-nhan-vien-co-tham-nien-d178227.html',\n",
              "  'https://baodautu.vn/emagazine-doanh-nhan-doan-hieu-minh-khong-chon-lao-vao-con-duong-chiet-khau-va-canh-tranh-m177432.html',\n",
              "  'https://baodautu.vn/emagazine-doanh-nhan-doan-hieu-minh-khong-chon-lao-vao-con-duong-chiet-khau-va-canh-tranh-m177432.html',\n",
              "  'https://baodautu.vn/emagazine-doanh-nhan-doan-hieu-minh-khong-chon-lao-vao-con-duong-chiet-khau-va-canh-tranh-m177432.html',\n",
              "  'https://baodautu.vn/emagazine-doanh-nhan-doan-hieu-minh-khong-chon-lao-vao-con-duong-chiet-khau-va-canh-tranh-m177432.html',\n",
              "  'https://baodautu.vn/vinh-danh-top-10-sao-do---doanh-nhan-tre-viet-nam-tieu-bieu-2022-d177401.html',\n",
              "  'https://baodautu.vn/vinh-danh-top-10-sao-do---doanh-nhan-tre-viet-nam-tieu-bieu-2022-d177401.html',\n",
              "  'https://baodautu.vn/tin-moi-ve-y-te-ngay-1911-thu-hoi-cac-lo-thuoc-tri-nhiem-khuan-chua-co-ket-qua-kiem-tra-chat-luong-d178208.html',\n",
              "  'https://baodautu.vn/tin-moi-ve-y-te-ngay-1911-thu-hoi-cac-lo-thuoc-tri-nhiem-khuan-chua-co-ket-qua-kiem-tra-chat-luong-d178208.html',\n",
              "  'https://baodautu.vn/duoc-hau-giang-cham-soc-suc-khoe-cho-nguoi-dan-quang-ngai-sau-bao-lu-d178200.html',\n",
              "  'https://baodautu.vn/duoc-hau-giang-cham-soc-suc-khoe-cho-nguoi-dan-quang-ngai-sau-bao-lu-d178200.html',\n",
              "  'https://baodautu.vn/bo-y-te-chi-dao-xu-ly-vu-ngo-doc-thuc-pham-tai-truong-tieu-hoc-thcs-thpt-ischool-nha-trang-d178177.html',\n",
              "  'https://baodautu.vn/bo-y-te-chi-dao-xu-ly-vu-ngo-doc-thuc-pham-tai-truong-tieu-hoc-thcs-thpt-ischool-nha-trang-d178177.html',\n",
              "  'https://baodautu.vn/don-dep-thi-truong-bat-dong-san-bat-dau-tu-nhu-cau-thuc----bai-4-khi-mieng-dat-la-vat-chu-de-ky-sinh-d178118.html',\n",
              "  'https://baodautu.vn/don-dep-thi-truong-bat-dong-san-bat-dau-tu-nhu-cau-thuc----bai-4-khi-mieng-dat-la-vat-chu-de-ky-sinh-d178118.html',\n",
              "  'https://baodautu.vn/xu-ly-nghiem-vi-pham-doi-voi-viec-ngung-khong-cung-cap-xang-dau-d178201.html',\n",
              "  'https://baodautu.vn/xu-ly-nghiem-vi-pham-doi-voi-viec-ngung-khong-cung-cap-xang-dau-d178201.html',\n",
              "  'https://baodautu.vn/nguoi-dan-rong-ra-cau-cuu-khi-nao-co-so-do-tu-du-an-cua-cong-ty-bach-dat-an-d177946.html',\n",
              "  'https://baodautu.vn/nguoi-dan-rong-ra-cau-cuu-khi-nao-co-so-do-tu-du-an-cua-cong-ty-bach-dat-an-d177946.html'],\n",
              " '',\n",
              " 'https://baodautu.vn',\n",
              " 'baodautu.vn',\n",
              " 'fail',\n",
              " 'first')"
            ]
          },
          "execution_count": 21,
          "metadata": {},
          "output_type": "execute_result"
        }
      ],
      "source": [
        "url_extract('https://baodautu.vn/', key='article', type='link', bs_on='')"
      ]
    },
    {
      "cell_type": "code",
      "execution_count": 22,
      "metadata": {
        "colab": {
          "base_uri": "https://localhost:8080/"
        },
        "id": "7YtiHo-_D1iQ",
        "outputId": "95f73382-b87c-42ac-c85c-1fbea6a41ccc"
      },
      "outputs": [
        {
          "data": {
            "text/plain": [
              "([' - 19/11/2022 08:26'],\n",
              " 'Người dân ròng rã cầu cứu, khi nào có sổ đỏ từ dự án của Công ty Bách Đạt An',\n",
              " 'https://baodautu.vn',\n",
              " 'baodautu.vn',\n",
              " 'try',\n",
              " 'last')"
            ]
          },
          "execution_count": 22,
          "metadata": {},
          "output_type": "execute_result"
        }
      ],
      "source": [
        "url_extract('https://baodautu.vn/nguoi-dan-rong-ra-cau-cuu-khi-nao-co-so-do-tu-du-an-cua-cong-ty-bach-dat-an-d177946.html', key='span', tag_class='post-time', type='')"
      ]
    },
    {
      "cell_type": "markdown",
      "metadata": {
        "id": "w4GeShH2_6hO"
      },
      "source": [
        "## Nhịp cầu đầu tư"
      ]
    },
    {
      "cell_type": "code",
      "execution_count": 23,
      "metadata": {
        "colab": {
          "base_uri": "https://localhost:8080/"
        },
        "id": "h6qOa6tiJrh-",
        "outputId": "f4e227cf-3105-482f-f1b5-97aed73afc20"
      },
      "outputs": [
        {
          "data": {
            "text/plain": [
              "(['/kinh-doanh/lam-moi-thoi-trang-secondhand-3348906/',\n",
              "  '/kinh-doanh/lam-moi-thoi-trang-secondhand-3348906/',\n",
              "  '/kinh-doanh/thi-truong-chung-tay-giam-ap-luc-dao-han-trai-phieu-3348964/',\n",
              "  '/kinh-doanh/thi-truong-chung-tay-giam-ap-luc-dao-han-trai-phieu-3348964/',\n",
              "  '/kinh-doanh/xuat-khau-soc-vi-usd-tang-nhiet-3348904/',\n",
              "  '/kinh-doanh/xuat-khau-soc-vi-usd-tang-nhiet-3348904/',\n",
              "  '/kinh-doanh/song-ngam-trong-menu-tra-sua-3348811/',\n",
              "  '/kinh-doanh/song-ngam-trong-menu-tra-sua-3348811/',\n",
              "  '/kinh-doanh/song-xu-ly-tai-san-tang-nhiet-3348810/',\n",
              "  '/kinh-doanh/song-xu-ly-tai-san-tang-nhiet-3348810/',\n",
              "  '/kinh-doanh/von-dong-bang-ma-tang-nhiet-3349013/',\n",
              "  '/kinh-doanh/von-dong-bang-ma-tang-nhiet-3349013/',\n",
              "  '/cong-nghe/cua-van-mo-cho-biotech-3348905/',\n",
              "  '/cong-nghe/cua-van-mo-cho-biotech-3348905/',\n",
              "  '/cong-nghe/gap-ghenh-fintech-moi-gioi-chung-khoan-3348682/',\n",
              "  '/cong-nghe/gap-ghenh-fintech-moi-gioi-chung-khoan-3348682/',\n",
              "  '/cong-nghe/mua-dong-fintech-3348683/',\n",
              "  '/cong-nghe/mua-dong-fintech-3348683/',\n",
              "  '/cong-nghe/dau-tu-bat-dong-san-kieu-metain-3348392/',\n",
              "  '/cong-nghe/dau-tu-bat-dong-san-kieu-metain-3348392/',\n",
              "  '/cong-nghe/lan-song-insurtech-tham-nhap-manh-vao-dong-nam-a-3348498/',\n",
              "  '/cong-nghe/lan-song-insurtech-tham-nhap-manh-vao-dong-nam-a-3348498/',\n",
              "  '/cong-nghe/cong-nghe-xoa-diu-noi-buon-3348908/',\n",
              "  '/cong-nghe/cong-nghe-xoa-diu-noi-buon-3348908/',\n",
              "  '/doanh-nhan/dau-an-doc-ban-trong-mot-chiec-but-3348559/',\n",
              "  '/doanh-nhan/dau-an-doc-ban-trong-mot-chiec-but-3348559/',\n",
              "  '/doanh-nhan/lam-sach-hang-hieu-nuoc-co-cua-omega-3347931/',\n",
              "  '/doanh-nhan/lam-sach-hang-hieu-nuoc-co-cua-omega-3347931/',\n",
              "  '/doanh-nhan/gia-tri-tai-san-cua-ti-phu-viet-nao-giam-nhieu-nhat-tu-dau-thang-9-3348016/',\n",
              "  '/doanh-nhan/gia-tri-tai-san-cua-ti-phu-viet-nao-giam-nhieu-nhat-tu-dau-thang-9-3348016/',\n",
              "  '/doanh-nhan/chat-thep-ti-usd-cua-ree-3344803/',\n",
              "  '/doanh-nhan/chat-thep-ti-usd-cua-ree-3344803/',\n",
              "  '/doanh-nhan/vua-ho-tieu-3-lan-thoat-hiem-3345488/',\n",
              "  '/doanh-nhan/vua-ho-tieu-3-lan-thoat-hiem-3345488/',\n",
              "  '/doanh-nhan/khoi-tai-san-khung-cua-3-nu-ti-phu-giau-nhat-the-gioi-3348629/',\n",
              "  '/doanh-nhan/khoi-tai-san-khung-cua-3-nu-ti-phu-giau-nhat-the-gioi-3348629/',\n",
              "  '/chuyen-de/quyen-nang-esg-3348809/',\n",
              "  '/chuyen-de/quyen-nang-esg-3348809/',\n",
              "  '/chuyen-de/tai-thiet-bat-dong-san-3348909/',\n",
              "  '/chuyen-de/tai-thiet-bat-dong-san-3348909/',\n",
              "  '/chuyen-de/ky-lan-that-thoi-3348259/',\n",
              "  '/chuyen-de/ky-lan-that-thoi-3348259/',\n",
              "  '/chuyen-de/thu-thiem-ngoi-sao-chua-sang-3348685/',\n",
              "  '/chuyen-de/thu-thiem-ngoi-sao-chua-sang-3348685/',\n",
              "  '/chuyen-de/tranh-viet-dau-gia-trieu-usd-3347002/',\n",
              "  '/chuyen-de/tranh-viet-dau-gia-trieu-usd-3347002/',\n",
              "  '/chuyen-de/dai-hoc-de-tang-truong-3349027/',\n",
              "  '/chuyen-de/dai-hoc-de-tang-truong-3349027/',\n",
              "  '/tai-chinh/dong-tien-do-bo-vn-index-da-tao-day-3349102/',\n",
              "  '/tai-chinh/dong-tien-do-bo-vn-index-da-tao-day-3349102/',\n",
              "  '/tai-chinh/dong-tien-bat-day-nhap-cuoc-vn-index-dao-chieu-tang-31-diem-3349081/',\n",
              "  '/tai-chinh/dong-tien-bat-day-nhap-cuoc-vn-index-dao-chieu-tang-31-diem-3349081/',\n",
              "  '/tai-chinh/truy-tim-quan-quan-tang-truong-roe-3349012/',\n",
              "  '/tai-chinh/truy-tim-quan-quan-tang-truong-roe-3349012/',\n",
              "  '/tai-chinh/bao-ve-dong-tien-3349011/',\n",
              "  '/tai-chinh/bao-ve-dong-tien-3349011/',\n",
              "  '/tai-chinh/gio-g-dao-no-trai-phieu-doanh-nghiep-3349010/',\n",
              "  '/tai-chinh/gio-g-dao-no-trai-phieu-doanh-nghiep-3349010/',\n",
              "  '/tai-chinh/dong-tien-tiep-tuc-o-at-vao-chung-khoan-3349114/',\n",
              "  '/tai-chinh/dong-tien-tiep-tuc-o-at-vao-chung-khoan-3349114/',\n",
              "  '/bat-dong-san/bat-dong-san-don-song-nft-3349023/',\n",
              "  '/bat-dong-san/bat-dong-san-don-song-nft-3349023/',\n",
              "  '/bat-dong-san/le-vinh-danh-binh-chon-bat-dong-san-tieu-bieu-viet-nam-2022-3348900/',\n",
              "  '/bat-dong-san/le-vinh-danh-binh-chon-bat-dong-san-tieu-bieu-viet-nam-2022-3348900/',\n",
              "  '/bat-dong-san/bo-khung-gia-dat-loi-va-hai-3348903/',\n",
              "  '/bat-dong-san/bo-khung-gia-dat-loi-va-hai-3348903/',\n",
              "  '/bat-dong-san/bat-dong-san-cong-nghiep-bung-sang-giua-thoi-kho-3348879/',\n",
              "  '/bat-dong-san/bat-dong-san-cong-nghiep-bung-sang-giua-thoi-kho-3348879/',\n",
              "  '/bat-dong-san/binh-chon-bat-dong-san-tieu-bieu-2022-nhung-manh-ghep-moi-cua-thi-truong-3348868/',\n",
              "  '/bat-dong-san/binh-chon-bat-dong-san-tieu-bieu-2022-nhung-manh-ghep-moi-cua-thi-truong-3348868/',\n",
              "  '/bat-dong-san/ap-luc-dao-han-trai-phieu-bat-dong-san-dang-giam-dan-3349119/',\n",
              "  '/bat-dong-san/ap-luc-dao-han-trai-phieu-bat-dong-san-dang-giam-dan-3349119/',\n",
              "  '/phong-cach-song/vuong-mien-viet-tren-ban-do-nhan-sac-the-gioi-3347926/',\n",
              "  '/phong-cach-song/vuong-mien-viet-tren-ban-do-nhan-sac-the-gioi-3347926/',\n",
              "  '/phong-cach-song/sach-thieu-nhi-tuong-tac-cung-cong-nghe-3347790/',\n",
              "  '/phong-cach-song/sach-thieu-nhi-tuong-tac-cung-cong-nghe-3347790/',\n",
              "  '/phong-cach-song/tien-nhieu-de-nghi-huu-3347391/',\n",
              "  '/phong-cach-song/tien-nhieu-de-nghi-huu-3347391/',\n",
              "  '/phong-cach-song/mo-vang-yoga-3347264/',\n",
              "  '/phong-cach-song/mo-vang-yoga-3347264/',\n",
              "  '/phong-cach-song/truyen-tranh-viet-bao-gio-thuc-giac-3346189/',\n",
              "  '/phong-cach-song/truyen-tranh-viet-bao-gio-thuc-giac-3346189/',\n",
              "  '/phong-cach-song/lam-viec-4-ngaytuan-khong-con-la-giac-mo-3348072/',\n",
              "  '/phong-cach-song/lam-viec-4-ngaytuan-khong-con-la-giac-mo-3348072/',\n",
              "  '/the-gioi/ong-trump-tuyen-bo-tai-tranh-cu-tong-thong-my-nam-2024-3349069/',\n",
              "  '/the-gioi/ong-trump-tuyen-bo-tai-tranh-cu-tong-thong-my-nam-2024-3349069/',\n",
              "  '/the-gioi/cuoc-song-khong-tuong-tai-thu-phu-bitcoin-el-salvador-3349009/',\n",
              "  '/the-gioi/cuoc-song-khong-tuong-tai-thu-phu-bitcoin-el-salvador-3349009/',\n",
              "  '/the-gioi/hang-nghin-xe-bmw-tesla-lenh-denh-tren-bien-vi-tac-nghen-nghiem-trong-3348961/',\n",
              "  '/the-gioi/hang-nghin-xe-bmw-tesla-lenh-denh-tren-bien-vi-tac-nghen-nghiem-trong-3348961/',\n",
              "  '/the-gioi/hieu-ung-canh-buom-tu-cac-don-hang-giao-cham-tre-3348805/',\n",
              "  '/the-gioi/hieu-ung-canh-buom-tu-cac-don-hang-giao-cham-tre-3348805/',\n",
              "  '/the-gioi/tai-sao-trung-quoc-se-khong-giai-cuu-nganh-bat-dong-san-cua-nuoc-minh-3348770/',\n",
              "  '/the-gioi/tai-sao-trung-quoc-se-khong-giai-cuu-nganh-bat-dong-san-cua-nuoc-minh-3348770/',\n",
              "  '/the-gioi/khung-hoang-bat-dong-san-trung-quoc-dang-di-den-hoi-ket-3349058/',\n",
              "  '/the-gioi/khung-hoang-bat-dong-san-trung-quoc-dang-di-den-hoi-ket-3349058/',\n",
              "  '/kieu-bao/tong-bi-thu-nguyen-phu-trong-dai-hoi-xiii-thanh-cong-rat-tot-dep-3339338/',\n",
              "  '/kieu-bao/tong-bi-thu-nguyen-phu-trong-dai-hoi-xiii-thanh-cong-rat-tot-dep-3339338/',\n",
              "  '/kieu-bao/dien-dan-viko30-han-quoc-san-sang-mo-rong-dau-tu-tai-viet-nam-3346841/',\n",
              "  '/kieu-bao/dien-dan-viko30-han-quoc-san-sang-mo-rong-dau-tu-tai-viet-nam-3346841/',\n",
              "  '/kinh-doanh/nhung-yeu-to-tac-dong-den-ti-gia-usdvnd-trong-nhung-thang-cuoi-nam-3349118/',\n",
              "  '/kinh-doanh/nhung-yeu-to-tac-dong-den-ti-gia-usdvnd-trong-nhung-thang-cuoi-nam-3349118/',\n",
              "  '/kinh-doanh/doanh-nghiep-fdi-tao-ra-3925-nghin-ti-dong-moi-nam-giai-doan-2016-2020-3349107/',\n",
              "  '/kinh-doanh/doanh-nghiep-fdi-tao-ra-3925-nghin-ti-dong-moi-nam-giai-doan-2016-2020-3349107/',\n",
              "  '/kinh-doanh/bau-duc-chia-se-gi-trong-tam-thu-vua-goi-den-cac-co-dong-3349096/',\n",
              "  '/kinh-doanh/bau-duc-chia-se-gi-trong-tam-thu-vua-goi-den-cac-co-dong-3349096/',\n",
              "  '/kinh-doanh/ceo-mondelez-kinh-do-viet-nam-la-thi-truong-tang-truong-nhanh-nhat-trong-khu-vuc-cua-tap-doan-mondelez-3349095/',\n",
              "  '/kinh-doanh/ceo-mondelez-kinh-do-viet-nam-la-thi-truong-tang-truong-nhanh-nhat-trong-khu-vuc-cua-tap-doan-mondelez-3349095/',\n",
              "  '/kinh-doanh/6-dia-phuong-hai-ra-tien-giai-doan-2016-2020-3349090/',\n",
              "  '/kinh-doanh/6-dia-phuong-hai-ra-tien-giai-doan-2016-2020-3349090/',\n",
              "  '/kinh-doanh/ngay-1711-quy-lon-mua-vao-nhieu-gia-vang-toan-cau-neo-muc-cao-3349092/',\n",
              "  '/kinh-doanh/ngay-1711-quy-lon-mua-vao-nhieu-gia-vang-toan-cau-neo-muc-cao-3349092/',\n",
              "  '/kinh-doanh/ceo-toan-cau-cua-hogan-assessments-khoa-hoc-tinh-cach-la-tuong-lai-cua-danh-gia-nhan-su-3349084/',\n",
              "  '/kinh-doanh/ceo-toan-cau-cua-hogan-assessments-khoa-hoc-tinh-cach-la-tuong-lai-cua-danh-gia-nhan-su-3349084/',\n",
              "  '/kinh-doanh/soi-dong-thi-truong-tour-du-lich-ket-hop-thi-tieng-anh-3349076/',\n",
              "  '/kinh-doanh/soi-dong-thi-truong-tour-du-lich-ket-hop-thi-tieng-anh-3349076/',\n",
              "  '/kinh-doanh/ngay-1611-dong-usd-giam-nhe-gia-vang-toan-cau-khoi-sac-3349070/',\n",
              "  '/kinh-doanh/ngay-1611-dong-usd-giam-nhe-gia-vang-toan-cau-khoi-sac-3349070/',\n",
              "  '/kinh-doanh/ngay-1511-gia-vang-sjc-trong-nuoc-dang-tien-ve-moc-68-trieu-dongluong-3349055/',\n",
              "  '/kinh-doanh/ngay-1511-gia-vang-sjc-trong-nuoc-dang-tien-ve-moc-68-trieu-dongluong-3349055/',\n",
              "  '/kinh-doanh/ngay-1411-lam-phat-my-giam-gia-vang-toan-cau-tru-o-muc-cao-3349038/',\n",
              "  '/kinh-doanh/ngay-1411-lam-phat-my-giam-gia-vang-toan-cau-tru-o-muc-cao-3349038/',\n",
              "  '/kinh-doanh/viet-nam-khong-con-nam-trong-danh-sach-giam-sat-ve-thao-tung-tien-te-3349029/',\n",
              "  '/kinh-doanh/viet-nam-khong-con-nam-trong-danh-sach-giam-sat-ve-thao-tung-tien-te-3349029/',\n",
              "  '/kinh-doanh/von-dong-bang-ma-tang-nhiet-3349013/',\n",
              "  '/kinh-doanh/von-dong-bang-ma-tang-nhiet-3349013/',\n",
              "  '/kinh-doanh/ti-le-don-bay-tai-chinh-toan-thi-truong-giam-dan-tu-quy-i-3348999/',\n",
              "  '/kinh-doanh/ti-le-don-bay-tai-chinh-toan-thi-truong-giam-dan-tu-quy-i-3348999/',\n",
              "  '/kinh-doanh/ngay-1111-gia-vang-tang-manh-len-muc-cao-nhat-trong-10-tuan-3348991/',\n",
              "  '/kinh-doanh/ngay-1111-gia-vang-tang-manh-len-muc-cao-nhat-trong-10-tuan-3348991/',\n",
              "  '/kinh-doanh/lam-moi-thoi-trang-secondhand-3348906/',\n",
              "  '/kinh-doanh/lam-moi-thoi-trang-secondhand-3348906/',\n",
              "  '/kinh-doanh/?paged=1',\n",
              "  '/kinh-doanh/?paged=2',\n",
              "  '/kinh-doanh/?paged=3',\n",
              "  '/kinh-doanh/?paged=4',\n",
              "  '/kinh-doanh/?paged=5',\n",
              "  '/kinh-doanh/?paged=2',\n",
              "  'https://nganhang.nhipcaudautu.vn',\n",
              "  'https://nganhang.nhipcaudautu.vn',\n",
              "  'https://techsummit.nhipcaudautu.vn',\n",
              "  'https://techsummit.nhipcaudautu.vn',\n",
              "  'https://top50.nhipcaudautu.vn',\n",
              "  'https://top50.nhipcaudautu.vn',\n",
              "  'https://hoinghi.nhipcaudautu.vn',\n",
              "  'https://hoinghi.nhipcaudautu.vn',\n",
              "  'https://batdongsan.nhipcaudautu.vn',\n",
              "  'https://batdongsan.nhipcaudautu.vn'],\n",
              " '',\n",
              " 'https://m.nhipcaudautu.vn',\n",
              " 'm.nhipcaudautu.vn',\n",
              " 'fail',\n",
              " 'first')"
            ]
          },
          "execution_count": 23,
          "metadata": {},
          "output_type": "execute_result"
        }
      ],
      "source": [
        "url_extract('https://m.nhipcaudautu.vn/kinh-doanh/', key='article', type='link', bs_on='', user_agent='Mozilla/5.0 (iPhone; CPU iPhone OS 15_5 like Mac OS X)')"
      ]
    },
    {
      "cell_type": "code",
      "execution_count": 24,
      "metadata": {
        "colab": {
          "base_uri": "https://localhost:8080/"
        },
        "id": "7ZPkfWH4ImRu",
        "outputId": "bf0da20b-9ec6-469a-ed22-39b57fb03cee"
      },
      "outputs": [
        {
          "data": {
            "text/plain": [
              "([],\n",
              " 'ti-le-don-bay-tai-chinh-toan-thi-truong-giam-dan-tu-quy-i-3348999',\n",
              " 'https://m.nhipcaudautu.vn',\n",
              " 'm.nhipcaudautu.vn',\n",
              " 'try',\n",
              " 'last')"
            ]
          },
          "execution_count": 24,
          "metadata": {},
          "output_type": "execute_result"
        }
      ],
      "source": [
        "url_extract('https://m.nhipcaudautu.vn/ti-le-don-bay-tai-chinh-toan-thi-truong-giam-dan-tu-quy-i-3348999/', key='span', tag_class='date-post', type='')"
      ]
    },
    {
      "cell_type": "markdown",
      "metadata": {
        "id": "sbspYvNg_mJy"
      },
      "source": [
        "## Diễn đàn doanh nghiệp"
      ]
    },
    {
      "cell_type": "code",
      "execution_count": 25,
      "metadata": {
        "colab": {
          "base_uri": "https://localhost:8080/"
        },
        "id": "AGyq3bjBBHAd",
        "outputId": "6fc22d99-cd4e-4a32-9187-8f0bc50cc7da"
      },
      "outputs": [
        {
          "data": {
            "text/plain": [
              "(['https://diendandoanhnghiep.vn/doanh-nhan-viet-nam-tieu-bieu-2022-e323.html',\n",
              "  'https://diendandoanhnghiep.vn/chinh-phu-dong-hanh-cung-doanh-nghiep-e322.html',\n",
              "  'https://diendandoanhnghiep.vn/fed-tang-lai-suat-va-tac-dong-toi-viet-nam-e321.html',\n",
              "  'https://diendandoanhnghiep.vn/chien-luoc-von-cua-doanh-nghiep-e320.html',\n",
              "  'https://diendandoanhnghiep.vn/giai-phap-dot-pha-nang-cao-nang-luc-canh-tranh-e319.html',\n",
              "  'https://diendandoanhnghiep.vn/thu-tuong-va-doanh-nghiep-2022-e318.html',\n",
              "  'https://diendandoanhnghiep.vn/bao-cao-kinh-te-thuong-nien-dbscl-e317.html',\n",
              "  'https://diendandoanhnghiep.vn/ket-noi-kinh-te-truc-cao-toc-phia-dong-e316.html',\n",
              "  'https://diendandoanhnghiep.vn/ky-hop-abac-iii-e315.html',\n",
              "  'https://diendandoanhnghiep.vn/co-hoi-dau-tu-chung-khoan-e314.html',\n",
              "  'https://diendandoanhnghiep.vn/https-diendandoanhnghiep-vn-dien-mat-troi-mai-nha-can-hoan-thien-co-che-ho-tro-doanh-nghiep-phat-trien-225626-html-e313.html',\n",
              "  'https://diendandoanhnghiep.vn/thu-tuong-doi-thoai-voi-nong-dan-e311.html',\n",
              "  'https://diendandoanhnghiep.vn/logistics-cho-nong-san-dbscl-e310.html',\n",
              "  'https://diendandoanhnghiep.vn/ky-hop-thu-3-quoc-hoi-khoa-xv-e309.html',\n",
              "  'https://diendandoanhnghiep.vn/bo-quy-tac-dao-duc-doanh-nhan-e308.html',\n",
              "  'https://diendandoanhnghiep.vn/20-11-cua-mot-thoi-xa-234308.html',\n",
              "  'https://diendandoanhnghiep.vn/sap-dien-ra-hoi-nghi-doi-thoai-ve-chinh-sach-va-thu-tuc-hanh-chinh-thue-hai-quan-2022-234579.html',\n",
              "  'https://diendandoanhnghiep.vn/lan-toa-van-hoa-doc-234520.html',\n",
              "  'https://diendandoanhnghiep.vn/san-pham-mau-vu-khi-tang-doanh-thu-moi-234585.html',\n",
              "  'https://diendandoanhnghiep.vn/ky-vong-dong-von-cho-bat-dong-san-duoc-khoi-thong-234627.html',\n",
              "  'https://diendandoanhnghiep.vn/xay-dung-luat-nha-giao-nang-cao-vi-the-vai-tro-cua-nha-giao-234625.html',\n",
              "  'https://diendandoanhnghiep.vn/vi-sao-chu-tich-dgc-phai-chi-hang-chuc-ty-dong-do-gia-co-phieu-234636.html',\n",
              "  'https://diendandoanhnghiep.vn/chien-su-nga-ukraine-va-noi-am-anh-nang-luong-234620.html',\n",
              "  'https://diendandoanhnghiep.vn/vuc-day-du-lich-duong-thuy-da-nang-234354.html',\n",
              "  'https://diendandoanhnghiep.vn/cac-cong-ty-khoi-nghiep-evtol-canh-tranh-cong-nghe-khoc-liet-de-tro-thanh-taxi-bay-thanh-pho-234635.html',\n",
              "  'https://diendandoanhnghiep.vn/loi-thoat-nao-cho-alexa-234584.html',\n",
              "  'https://diendandoanhnghiep.vn/gioi-chuyen-mon-danh-gia-xuat-sac-cho-dich-vu-hau-mai-cua-vinfast-234624.html',\n",
              "  'https://diendandoanhnghiep.vn/tai-chinh-cuoi-tuan-dan-loi-phan-dinh-trai-phieu-xau-trai-phieu-tot-234631.html',\n",
              "  'https://diendandoanhnghiep.vn/tai-chinh-da-chieu-ha-lam-phat-ky-vong-234192.html',\n",
              "  'https://diendandoanhnghiep.vn/fpt-japan-va-hanh-trinh-gian-nan-tren-dat-nuoc-mat-troi-moc-234185.html',\n",
              "  'https://diendandoanhnghiep.vn/luong-va-pham-gia-nen-cong-vu-234181.html',\n",
              "  'https://diendandoanhnghiep.vn/gia-vang-tuan-toi-coi-chung-ap-luc-ban-thao-234180.html',\n",
              "  'https://diendandoanhnghiep.vn/doanh-nghiep-khat-von-trong-noi-them-han-muc-tin-dung-233917.html',\n",
              "  'https://diendandoanhnghiep.vn/ty-gia-chua-diu-suc-ep-lam-phat-da-gia-tang-233903.html',\n",
              "  'https://diendandoanhnghiep.vn/gia-vang-cho-du-lieu-lam-phat-233877.html',\n",
              "  'https://diendandoanhnghiep.vn/dau-tu-cang-hang-khong-doanh-nghiep-can-lo-trinh-huy-dong-nguon-luc-233790.html'],\n",
              " '',\n",
              " 'https://diendandoanhnghiep.vn',\n",
              " 'diendandoanhnghiep.vn',\n",
              " 'fail',\n",
              " 'first')"
            ]
          },
          "execution_count": 25,
          "metadata": {},
          "output_type": "execute_result"
        }
      ],
      "source": [
        "url_extract('https://diendandoanhnghiep.vn/', key='h3', type='link', bs_on='')"
      ]
    },
    {
      "cell_type": "code",
      "execution_count": 26,
      "metadata": {
        "colab": {
          "base_uri": "https://localhost:8080/"
        },
        "id": "K56WyY3ZB-60",
        "outputId": "1b96acd3-3f6d-4050-fe90-3b98a52ec8db"
      },
      "outputs": [
        {
          "data": {
            "text/plain": [
              "([],\n",
              " 'ĐIỆN MẶT TRỜI MÁI NHÀ',\n",
              " 'https://diendandoanhnghiep.vn',\n",
              " 'diendandoanhnghiep.vn',\n",
              " 'try',\n",
              " 'last')"
            ]
          },
          "execution_count": 26,
          "metadata": {},
          "output_type": "execute_result"
        }
      ],
      "source": [
        "url_extract('https://diendandoanhnghiep.vn/https-diendandoanhnghiep-vn-dien-mat-troi-mai-nha-can-hoan-thien-co-che-ho-tro-doanh-nghiep-phat-trien-225626-html-e313.html', key='span', tag_class='created_time', type='')"
      ]
    },
    {
      "cell_type": "markdown",
      "metadata": {
        "id": "zJhjsCS7_uNJ"
      },
      "source": [
        "## Forbes"
      ]
    },
    {
      "cell_type": "code",
      "execution_count": 27,
      "metadata": {
        "colab": {
          "base_uri": "https://localhost:8080/"
        },
        "id": "zFYFYKSPHEiY",
        "outputId": "ce2e2fa1-8b86-4e56-b868-f9cdeba78e4a"
      },
      "outputs": [
        {
          "data": {
            "text/plain": [
              "(['https://forbes.vn/them-mot-toa-nha-duoc-cap-chung-chi-cong-trinh-xanh-leed/',\n",
              "  'https://forbes.vn/ung-dung-du-lich-hopper-nhan-them-khoan-dau-tu-96-trieu-usd-tu-capital-one/',\n",
              "  'https://forbes.vn/chris-xu-lan-dau-lot-vao-nhom-100-nguoi-giau-nhat-trung-quoc/',\n",
              "  'https://forbes.vn/masan-group-vay-hop-von-600-trieu-usd-tu-37-dinh-che-tai-chinh/',\n",
              "  'https://forbes.vn/tai-san-cua-nu-ti-phu-duong-hue-nghien-giam-hon-80/',\n",
              "  'https://forbes.vn/proptech-viet-gang-song-den-binh-minh/',\n",
              "  'https://forbes.vn/doi-moi-o-r-zero-thiet-bi-khu-trung-khong-chi-danh-rieng-cho-benh-vien/',\n",
              "  'https://forbes.vn/hai-thap-nien-san-tim-ky-lan/',\n",
              "  'https://forbes.vn/victor-chang-dat-tham-vong-vao-nen-tang-da-dich-vu-giup-viec-gia-dinh/',\n",
              "  'https://forbes.vn/reap-huy-dong-40-trieu-usd-phat-trien-dich-vu-thanh-toan-tren-web3/',\n",
              "  'https://forbes.vn/bien-nui-rac-thanh-nui-tien/',\n",
              "  'https://forbes.vn/cach-dnse-thay-doi-cuoc-choi-tren-thi-truong-moi-gioi-chung-khoan/',\n",
              "  'https://forbes.vn/nu-doanh-nhan-quyen-luc-chau-a-tessa-wijaya-tao-buoc-nhay-vot-cho-ung-dung-thanh-toan-xendit/',\n",
              "  'https://forbes.vn/workstream-huy-dong-60-trieu-usd-phat-trien-phan-mem-tuyen-dung/',\n",
              "  'https://forbes.vn/line-man-wongnai-tro-thanh-ky-lan-moi-nhat-cua-thai-lan/',\n",
              "  'https://forbes.vn/25-cong-ty-khoi-nghiep-ti-do-tiep-theo-cua-nam-2022/',\n",
              "  'https://forbes.vn/youtube-mo-cua-hang-danh-cho-dich-vu-phat-truc-tuyen/',\n",
              "  'https://forbes.vn/khoi-nghiep-technoprobe-o-tuoi-60-giuseppe-thanh-nguoi-giau-nhat-nuoc-y-nam-87-tuoi/',\n",
              "  'https://forbes.vn/can-ky-lan-giao-hang-tiet-kiem-con-duong-khac-biet/',\n",
              "  'https://forbes.vn/startup-xe-may-dien-dat-bike-goi-53-trieu-usd-tu-jungle-ventures/',\n",
              "  'https://forbes.vn/nhua-binh-minh-khang-dinh-uy-tin-voi-ong-nhua-dan-nuoc-uong-tuyet-doi-an-toan/',\n",
              "  'https://forbes.vn/hdbank-nhan-cung-luc-2-giai-thuong-tu-to-chuc-the-quoc-te-visa/',\n",
              "  'https://forbes.vn/phu-nu-biet-tin-tuong-ban-than-se-tro-thanh-lanh-dao-gioi/',\n",
              "  'https://forbes.vn/phong-van-doc-quyen-melinda-french-gates-hinh-mau-tu-thien-ke-tiep/',\n",
              "  'https://forbes.vn/nam-long-hoi-nhap-quoc-te-va-san-sang-phat-trien/',\n",
              "  'https://forbes.vn/gay-dung-niem-tin-cho-cac-gia-tri-moi/',\n",
              "  'https://forbes.vn/waymo-mo-rong-pham-vi-trai-nghiem-xe-tu-hanh-tai-phoenix/',\n",
              "  'https://forbes.vn/binance-thoai-von-toan-bo-token-ftt-cua-ftx/',\n",
              "  'https://forbes.vn/adobe-muon-kiem-chung-cong-nghe-chinh-sua-bang-ai-cho-photoshop/',\n",
              "  'https://forbes.vn/nhieu-ti-phu-bitcoin-va-tien-ma-hoa-phan-khoi-khi-elon-tiep-quan-twitter/',\n",
              "  'https://forbes.vn/gia-dinh-va-nhung-nen-van-hoa-khoi-nguon-tinh-yeu-am-thuc-trong-toi/',\n",
              "  'https://forbes.vn/tac-pham-nghe-thuat-dat-gia-nhat-bo-suu-tap-cua-paul-allen-dat-ky-luc-voi-gia-ban-15-ti-usd/',\n",
              "  'javascript:void(0)',\n",
              "  'https://forbes.vn/women-workshops/song-cuoc-doi-doc-dao/',\n",
              "  'https://forbes.vn/hoi-nghi-thuong-hieu/',\n",
              "  'https://forbes.vn/hoi-nghi-phu-nu/'],\n",
              " '',\n",
              " 'https://forbes.vn',\n",
              " 'forbes.vn',\n",
              " 'fail',\n",
              " 'first')"
            ]
          },
          "execution_count": 27,
          "metadata": {},
          "output_type": "execute_result"
        }
      ],
      "source": [
        "url_extract('https://forbes.vn', key='h3', type='link', bs_on='')"
      ]
    },
    {
      "cell_type": "code",
      "execution_count": 28,
      "metadata": {
        "colab": {
          "base_uri": "https://localhost:8080/"
        },
        "id": "fwlnr4_sHJqK",
        "outputId": "67110343-2fd6-46c2-a9cb-524dad7315f8"
      },
      "outputs": [
        {
          "data": {
            "text/plain": [
              "(['\\n                1 tuần trước            '],\n",
              " 'M Village của Nguyễn Hải Ninh \"xây làng trong phố\"',\n",
              " 'https://forbes.vn',\n",
              " 'forbes.vn',\n",
              " 'try',\n",
              " 'last')"
            ]
          },
          "execution_count": 28,
          "metadata": {},
          "output_type": "execute_result"
        }
      ],
      "source": [
        "url_extract('https://forbes.vn/m-village-cua-nguyen-hai-ninh-xay-lang-trong-pho/', key='div', tag_class='forbes-single__heading-time', type='')"
      ]
    },
    {
      "cell_type": "markdown",
      "metadata": {
        "id": "faj5DpID_wal"
      },
      "source": [
        "## Diễn đàn kinh tế Việt Nam"
      ]
    },
    {
      "cell_type": "code",
      "execution_count": 29,
      "metadata": {
        "colab": {
          "base_uri": "https://localhost:8080/"
        },
        "id": "cfh3WuqyIQFM",
        "outputId": "f4a3dcf4-2b53-46f5-b51f-6bfaadaa085f"
      },
      "outputs": [
        {
          "data": {
            "text/plain": [
              "(['https://vef.vn/diem-nong/kinh-te-ban-dem-muon-chuyen-nghiep-can-hut-nha-dau-tu-lon/56722/',\n",
              "  'https://vef.vn/diem-nong/kinh-te-ban-dem-muon-chuyen-nghiep-can-hut-nha-dau-tu-lon/56722/',\n",
              "  'https://vef.vn/kinh-te-24h/trung-quoc-suy-thoai-nhanh-hon-du-kien-nhung-noi-lo-hien-ro/56692/',\n",
              "  'https://vef.vn/kinh-te-24h/trung-quoc-suy-thoai-nhanh-hon-du-kien-nhung-noi-lo-hien-ro/56692/',\n",
              "  'https://vef.vn/kinh-doanh/thue-tang-manh-o-to-nhap-khau-noi-lo-tang-gia-manh/56601/',\n",
              "  'https://vef.vn/kinh-doanh/thue-tang-manh-o-to-nhap-khau-noi-lo-tang-gia-manh/56601/',\n",
              "  'https://vef.vn/diem-nong/giua-lum-xum-cuoc-chien-quyen-luc-dai-gia-van-kiem-loi-tram-ty/56599/',\n",
              "  'https://vef.vn/diem-nong/giua-lum-xum-cuoc-chien-quyen-luc-dai-gia-van-kiem-loi-tram-ty/56599/',\n",
              "  'https://vef.vn/diem-nong/bong-hong-vang-thuan-thao-trum-khet-tieng-tram-be-the-tham-bi-siet-no/56545/',\n",
              "  'https://vef.vn/diem-nong/bong-hong-vang-thuan-thao-trum-khet-tieng-tram-be-the-tham-bi-siet-no/56545/',\n",
              "  'https://vef.vn/diem-nong/phut-89-cua-luat-dac-khu-hot-hoang-danh-thue-nha-700-trieu/56528/',\n",
              "  'https://vef.vn/diem-nong/phut-89-cua-luat-dac-khu-hot-hoang-danh-thue-nha-700-trieu/56528/',\n",
              "  'https://vef.vn/diem-nong/donald-trump-tung-don-hiem-trung-quoc-lung-lay-tham-vong-chiem-ngoi-so-1/56468/',\n",
              "  'https://vef.vn/diem-nong/donald-trump-tung-don-hiem-trung-quoc-lung-lay-tham-vong-chiem-ngoi-so-1/56468/',\n",
              "  'https://vef.vn/diem-nong/sieu-do-thi-10-nam-hoang-lanh-dai-gia-mo-ngay-doi-van/56427/',\n",
              "  'https://vef.vn/diem-nong/sieu-do-thi-10-nam-hoang-lanh-dai-gia-mo-ngay-doi-van/56427/',\n",
              "  'https://vef.vn/diem-nong/bat-ngo-thieu-than-ca-nuoc-lo-mat-dien/56408/',\n",
              "  'https://vef.vn/diem-nong/bat-ngo-thieu-than-ca-nuoc-lo-mat-dien/56408/',\n",
              "  'https://vef.vn/diem-nong/thien-duong-hot-bac-an-khanh-1-cu-sut-ho-10-nam-chua-ngoc-dau/56384/',\n",
              "  'https://vef.vn/diem-nong/thien-duong-hot-bac-an-khanh-1-cu-sut-ho-10-nam-chua-ngoc-dau/56384/'],\n",
              " '',\n",
              " 'https://vef.vn',\n",
              " 'vef.vn',\n",
              " 'fail',\n",
              " 'first')"
            ]
          },
          "execution_count": 29,
          "metadata": {},
          "output_type": "execute_result"
        }
      ],
      "source": [
        "url_extract('https://vef.vn/diem-nong/', key='article', type='link', bs_on='')"
      ]
    },
    {
      "cell_type": "markdown",
      "metadata": {
        "id": "bzIeQQ_r_9Yw"
      },
      "source": [
        "## Vietstock"
      ]
    },
    {
      "cell_type": "code",
      "execution_count": 30,
      "metadata": {
        "colab": {
          "base_uri": "https://localhost:8080/"
        },
        "id": "A7i2wSutLrva",
        "outputId": "76a3c95c-fdc4-459c-f0ef-95f3bb77c3a6"
      },
      "outputs": [
        {
          "data": {
            "text/plain": [
              "(['/2022/11/huyen-thoai-lua-dao-elizabeth-holmes-bi-tuyen-hon-11-nam-tu-4262-1018704.htm',\n",
              "  '/2022/11/co-phieu-ho-vingroup-dua-vn-index-ve-lai-sat-moc-970-diem-830-1018701.htm',\n",
              "  '/2022/11/go-8216vuong8217-de-nang-tam-thi-truong-chung-khoan-145-1018705.htm',\n",
              "  '/2022/11/bvsc-dieu-chinh-giam-hon-40-ke-hoach-lai-2022-737-1018703.htm',\n",
              "  '/2022/11/ong-pham-nhat-vuong-gop-von-vao-cong-ty-vmi-bang-243-trieu-cp-vic-739-1018698.htm',\n",
              "  '/2022/11/tong-bi-thu-ke-pham-toi-bo-tron-ra-nuoc-ngoai-van-bi-dieu-tra-xet-xu-761-1018545.htm',\n",
              "  '/2022/11/thi-truong-tien-ao-tuan-qua-nhieu-ong-lon-tien-ao-tien-toi-bo-vuc-sup-do-vi-ftx-4309-1018696.htm',\n",
              "  '/2022/11/vu-an-tai-tap-doan-van-thinh-phat-dac-biet-nghiem-trong-chua-tung-co-768-1018683.htm',\n",
              "  '/2022/11/casa-sut-giam-xu-huong-chi-moi-bat-dau-757-1018479.htm',\n",
              "  '/2022/11/thu-tuong-tang-cuong-kiem-tra-giam-sat-de-lanh-manh-hoa-thi-truong-chung-khoan-trai-phieu-761-1018431.htm',\n",
              "  '/2022/11/san-tien-so-ngoai-pha-san-nhieu-nha-dau-tu-noi-trang-tay-4260-1018411.htm',\n",
              "  '/2022/11/them-mot-de-che-tien-dien-tu-10-ty-usd-mot-thoi-co-dau-hieu-khung-hoang-4309-1018282.htm',\n",
              "  '/2022/11/ftx-8211-san-giao-dich-xay-tren-cat-4309-1018706.htm',\n",
              "  '/2022/11/nganh-thep-ky-vong-gi-trong-nam-2023-742-1018685.htm',\n",
              "  '/2022/11/khong-de-nguoi-dan-duong-lac-loi-4265-1018697.htm',\n",
              "  '/2022/11/rui-ro-margin-de-nen-thi-truong-chung-khoan-830-1017856.htm',\n",
              "  '/2022/11/can-tinh-lai-muc-bao-hiem-tien-gui-757-1017569.htm',\n",
              "  '/2022/11/nha-o-vua-tui-tien-co-la-phong-trao-som-no-toi-tan-4222-1017289.htm',\n",
              "  '/2022/11/trai-phieu-doanh-nghiep-tot-hay-xau-3118-1016328.htm',\n",
              "  '/2022/11/ftx-8211-san-giao-dich-xay-tren-cat-4309-1018706.htm',\n",
              "  '/2022/11/nganh-thep-ky-vong-gi-trong-nam-2023-742-1018685.htm',\n",
              "  '/2022/11/chung-khoan-phai-sinh-tuan-21-25112022-giang-co-tro-lai-1636-1018702.htm',\n",
              "  '/2022/11/3-nhan-su-hana-securities-tham-gia-bo-may-lanh-dao-bsi-sau-dhdcd-bat-thuong-737-1018707.htm',\n",
              "  '/2022/11/dau-sut-hon-3-tren-da-giam-2-tuan-lien-tiep-34-1018677.htm',\n",
              "  '/2022/11/gia-thep-ngay-1911-gia-the-gioi-tang-tro-lai-sau-mot-phien-giam-trong-nuoc-on-dinh-742-1018689.htm',\n",
              "  '/2022/11/masayoshi-son-no-softbank-47-ty-usd-4262-1018688.htm',\n",
              "  '/2022/11/gia-vang-ngay-19112022-sjc-giam-200000-dong-sau-mot-dem-759-1018687.htm',\n",
              "  '/2022/11/de-xuat-sua-mot-loat-quy-dinh-bat-hop-ly-ve-xang-dau-34-1018686.htm',\n",
              "  '/2022/11/casa-sut-giam-xu-huong-chi-moi-bat-dau-757-1018479.htm',\n",
              "  '/2022/11/gan-100-trieu-cp-hpg-duoc-sang-tay-co-phieu-tang-3-phien-lien-tiep-830-1018449.htm',\n",
              "  '/2022/11/vnm-tiep-tuc-mua-vao-va-nam-giu-dai-han-582-1016339.htm',\n",
              "  '/2022/11/quy-buon-cua-doanh-nghiep-bao-hiem-phi-nhan-tho-737-1018409.htm',\n",
              "  '/2022/11/lanh-dao-hdc-bi-ban-giai-chap-co-phieu-vi-cong-ty-chung-khoan-dot-ngot-cat-margin-739-1018221.htm',\n",
              "  '/2022/11/petrolimex-ha-muc-tieu-loi-nhuan-2022-con-110-ke-hoach-ban-dau-737-1018180.htm',\n",
              "  '/2022/11/bloomberg-vinfast-co-the-ipo-tai-my-ngay-trong-thang-12023-746-1018178.htm',\n",
              "  '/2022/11/lam-the-nao-de-vuc-day-niem-tin-cho-nha-dau-tu-145-1018172.htm',\n",
              "  '/2022/11/mat-bang-lai-suat-margin-moi-cua-cong-ty-chung-khoan-830-1018438.htm',\n",
              "  '/2022/11/ai-la-nan-nhan-cua-lam-phat-761-1017960.htm',\n",
              "  '/2022/11/gia-tri-bat-bien-cua-nam-long-la-chu-tin-737-1017390.htm',\n",
              "  '/2022/11/cac-quy-trai-phieu-o-viet-nam-kinh-doanh-ra-sao-trong-quy-32022-3118-1016968.htm',\n",
              "  '/2022/11/tuan-kho-khan-cua-co-phieu-bat-dong-san-830-1017135.htm',\n",
              "  '/2022/11/doanh-nghiep-vn30-nao-mang-nhieu-tien-nhat-cho-co-dong-trong-quy-3-737-1016539.htm',\n",
              "  '/2022/11/tiktok-chiem-top-1-thuong-hieu-duoc-yeu-thich-nhat-voi-gen-z-my-4265-1015631.htm',\n",
              "  '/2022/11/cha-de-cua-do-thi-nen-nhat-la-ai-830-1015367.htm',\n",
              "  '/2022/11/rui-ro-margin-de-nen-thi-truong-chung-khoan-830-1017856.htm',\n",
              "  '/2022/11/quan-tri-rui-ro-khi-dau-tu-chung-khoan-3355-1016811.htm',\n",
              "  '/2022/11/hoc-dau-tu-chung-khoan-voi-talkshow-bi-mat-dong-tien-3355-1017374.htm',\n",
              "  '/2022/11/chung-khoan-nhung-bai-hoc-tu-song-bac-3355-1016089.htm',\n",
              "  '/2022/11/phan-biet-dung-8211-sai-trong-dau-tu-chung-khoan-cung-bi-mat-dong-tien-3355-1015744.htm',\n",
              "  '/2022/11/nhung-bai-hoc-dau-tu-chung-khoan-rut-ra-tu-chay-trail-3355-1015648.htm',\n",
              "  '/2022/11/vng-so-huu-toan-bo-thanh-thanh-cong-lam-dong-739-1018421.htm',\n",
              "  '/2022/11/3-nhan-su-hana-securities-tham-gia-bo-may-lanh-dao-bsi-sau-dhdcd-bat-thuong-737-1018707.htm',\n",
              "  '/2022/11/tt-va-3-doanh-nghiep-han-quoc-de-xuat-dieu-chinh-tong-mat-bang-du-an-trung-tam-dien-khi-lng-hai-lang-4222-1018708.htm',\n",
              "  '/2022/11/lai-lon-nho-bat-day-gia-euro-757-1018681.htm',\n",
              "  '/2022/11/nhieu-nong-san-mo-cua-thi-truong-ti-dan-118-1018682.htm',\n",
              "  '/2022/11/tan-dung-cac-fta-gia-tang-co-hoi-thuc-day-hoat-dong-xuat-khau-768-1018684.htm',\n",
              "  '/2022/11/nhin-tu-the-gioi-viet-nam-se-kiem-soat-lam-phat-nhu-the-nao-761-1018187.htm',\n",
              "  '/2022/11/de-che-tien-ao-ftx-sup-do-su-that-chan-dong-lan-dau-duoc-tiet-lo-4309-1018451.htm',\n",
              "  '/2022/11/campuchia-day-manh-xuat-khau-gao-sang-trung-quoc-trong-vai-nam-toi-1326-1016754.htm',\n",
              "  '/2022/11/doanh-so-iphone-tai-viet-nam-tang-truong-nhanh-nhat-dong-nam-a-4264-1018699.htm',\n",
              "  '/2022/11/nhip-dap-thi-truong-1811-kip-xanh-khi-ket-phien-1636-1018418.htm',\n",
              "  '/2022/11/chung-khoan-phai-sinh-tuan-21-25112022-giang-co-tro-lai-1636-1018702.htm',\n",
              "  '/2022/11/phan-tich-ky-thuat-phien-chieu-1811-dieu-chinh-tro-lai-585-1018435.htm',\n",
              "  '/2022/11/vnm-tiep-tuc-mua-vao-va-nam-giu-dai-han-582-1016339.htm',\n",
              "  '/2022/11/thi-truong-chung-quyen-18112022-khoi-ngoai-duy-tri-mua-rong-1636-1018256.htm',\n",
              "  '/2022/10/danh-gia-san-lion-brokers-4645-1007984.htm',\n",
              "  '/2022/09/cac-san-giao-dich-su-dung-nen-tang-mt4-va-mt5-4645-1004006.htm',\n",
              "  '/2022/11/quan-tri-rui-ro-khi-dau-tu-chung-khoan-3355-1016811.htm',\n",
              "  '/2022/11/hoc-dau-tu-chung-khoan-voi-talkshow-bi-mat-dong-tien-3355-1017374.htm',\n",
              "  '/2022/11/chung-khoan-nhung-bai-hoc-tu-song-bac-3355-1016089.htm',\n",
              "  '/2022/11/phan-biet-dung-8211-sai-trong-dau-tu-chung-khoan-cung-bi-mat-dong-tien-3355-1015744.htm',\n",
              "  '/2022/11/nhung-bai-hoc-dau-tu-chung-khoan-rut-ra-tu-chay-trail-3355-1015648.htm',\n",
              "  '/2022/11/doanh-so-iphone-tai-viet-nam-tang-truong-nhanh-nhat-dong-nam-a-4264-1018699.htm',\n",
              "  '/2022/11/dau-gia-that-bai-rolls-royce-ghost-ma-vang-giam-con-hon-91-ty-dong-4264-1018367.htm',\n",
              "  '/2022/11/google-wallet-co-mat-o-dong-nam-a-4264-1018137.htm',\n",
              "  '/2022/11/quoc-hoi-thong-qua-nghi-quyet-ve-thi-diem-dau-gia-bien-so-o-to-gia-khoi-diem-40-trieu-4264-1017674.htm',\n",
              "  '/2022/11/thieu-hut-iphone-14-nguoi-dung-viet-lua-chon-iphone-doi-cu-4264-1017483.htm'],\n",
              " '',\n",
              " 'https://vietstock.vn',\n",
              " 'vietstock.vn',\n",
              " 'fail',\n",
              " 'first')"
            ]
          },
          "execution_count": 30,
          "metadata": {},
          "output_type": "execute_result"
        }
      ],
      "source": [
        "url_extract('https://vietstock.vn/', key='h4', type='link', bs_on='')"
      ]
    },
    {
      "cell_type": "code",
      "execution_count": 31,
      "metadata": {
        "colab": {
          "base_uri": "https://localhost:8080/"
        },
        "id": "wnkGL8XhMebI",
        "outputId": "e7ce04e8-7602-4630-d03b-cfbe4a896899"
      },
      "outputs": [
        {
          "data": {
            "text/plain": [
              "(['14/11/2022 21:11'],\n",
              " 'Thiếu hụt iPhone 14, người dùng Việt lựa chọn iPhone đời cũ | Vietstock',\n",
              " 'https://vietstock.vn',\n",
              " 'vietstock.vn',\n",
              " 'try',\n",
              " 'last')"
            ]
          },
          "execution_count": 31,
          "metadata": {},
          "output_type": "execute_result"
        }
      ],
      "source": [
        "url_extract('https://vietstock.vn/2022/11/thieu-hut-iphone-14-nguoi-dung-viet-lua-chon-iphone-doi-cu-4264-1017483.htm', key='span', tag_class='date', type='')"
      ]
    },
    {
      "cell_type": "markdown",
      "metadata": {
        "id": "Yc8Dy5_kABMA"
      },
      "source": [
        "## Tin nhanh chứng khoán"
      ]
    },
    {
      "cell_type": "code",
      "execution_count": 32,
      "metadata": {
        "colab": {
          "base_uri": "https://localhost:8080/"
        },
        "id": "h7DmEmT5MrNl",
        "outputId": "c9460db0-30b5-4ad4-8776-595549c11fbd"
      },
      "outputs": [
        {
          "data": {
            "text/plain": [
              "(['https://www.tinnhanhchungkhoan.vn/top-10-co-phieu-tanggiam-manh-nhat-tuan-nhom-thep-nong-tro-lai-co-phieu-nha-vin-bay-cao-post310286.html',\n",
              "  'https://www.tinnhanhchungkhoan.vn/big-trends-sau-con-mua-troi-lai-sang-post310328.html',\n",
              "  'https://www.tinnhanhchungkhoan.vn/giao-dich-chung-khoan-khoi-ngoai-tuan-14-1811-mua-rong-hon-5200-ty-dong-post310323.html',\n",
              "  'https://www.tinnhanhchungkhoan.vn/nhieu-co-phieu-bi-dinh-gia-re-toi-muc-khong-the-chap-nhan-post310309.html',\n",
              "  'https://www.tinnhanhchungkhoan.vn/khi-nao-quy-dau-tu-can-ap-dung-lieu-phap-phanh-khan-cap-post310324.html',\n",
              "  'https://www.tinnhanhchungkhoan.vn/thong-tin-moi-ve-tien-do-xu-ly-vu-viet-a-van-thinh-phat-va-aic-post310299.html',\n",
              "  'https://www.tinnhanhchungkhoan.vn/interactive-chung-khoan-tuan-qua-14-1811-long-tham-duoc-kich-hoat-post310288.html',\n",
              "  'https://www.tinnhanhchungkhoan.vn/ngan-hang-ban-no-muon-chuyen-cuoi-ra-nuoc-mat-post310307.html',\n",
              "  'https://www.tinnhanhchungkhoan.vn/nghi-quyet-ve-phan-bo-ngan-sach-trung-uong-nam-2023-post310301.html',\n",
              "  'https://www.tinnhanhchungkhoan.vn/ha-nhiet-tam-ly-ban-thao-chung-chi-quy-cua-nha-dau-tu-post310308.html',\n",
              "  'https://www.tinnhanhchungkhoan.vn/nhu-cau-sut-giam-se-la-thach-thuc-doi-voi-cac-cong-ty-bat-dong-san-trung-quoc-post310291.html',\n",
              "  'https://www.tinnhanhchungkhoan.vn/pho-wall-chia-re-ve-viec-fed-co-cat-giam-lai-suat-vao-nam-2023-hay-khong-post310292.html',\n",
              "  'https://www.tinnhanhchungkhoan.vn/ky-luat-nhieu-can-bo-lien-quan-vu-an-vi-pham-dau-thau-tai-so-y-te-can-tho-post310303.html',\n",
              "  'https://www.tinnhanhchungkhoan.vn/tam-giam-nguyen-ke-toan-truong-cung-2-can-bo-cdc-binh-phuoc-post310300.html',\n",
              "  'https://www.tinnhanhchungkhoan.vn/dragon-capital-mua-them-15-trieu-co-phieu-nha-khang-dien-kdh-post310296.html',\n",
              "  'https://www.tinnhanhchungkhoan.vn/uy-ban-chung-khoan-nha-nuoc-khong-chap-thuan-cho-dau-tu-ha-tang-ky-thuat-tphcm-cii-thuong-co-phieu-ty-le-14-post310297.html',\n",
              "  'https://www.tinnhanhchungkhoan.vn/petrosetco-pet-co-phieu-giam-gia-795-tong-giam-doc-vu-tien-duong-bi-cong-ty-chung-khoan-ban-giai-chap-post310293.html',\n",
              "  'https://www.tinnhanhchungkhoan.vn/noi-them-room-tin-dung-ngan-hang-cung-khong-co-von-de-cho-vay-post310276.html',\n",
              "  'https://www.tinnhanhchungkhoan.vn/tong-bi-thu-khong-phai-xu-nang-cach-het-chuc-vu-moi-la-tot-post310320.html',\n",
              "  'https://www.tinnhanhchungkhoan.vn/nam-2023-binh-duong-dat-muc-tieu-grdp-tang-85-87-post310321.html',\n",
              "  'https://www.tinnhanhchungkhoan.vn/xu-ly-nghiem-vi-pham-doi-voi-viec-ngung-khong-cung-cap-xang-dau-post310316.html',\n",
              "  'https://www.tinnhanhchungkhoan.vn/chinh-thuc-ban-hanh-nghi-quyet-ve-ke-hoach-phat-trien-kinh-te-xa-hoi-nam-2023-post310317.html',\n",
              "  'https://www.tinnhanhchungkhoan.vn/mo-huong-phat-trien-cho-vung-tay-nguyen-post310318.html',\n",
              "  'https://www.tinnhanhchungkhoan.vn/them-thanh-vien-moi-trong-gia-dinh-chu-tich-nguyen-thien-tuan-bi-ban-giai-chap-co-phieu-dic-corp-dig-post310294.html',\n",
              "  'https://www.tinnhanhchungkhoan.vn/dabaco-viet-nam-dbc-mot-thanh-vien-hdqt-ban-ra-110000-co-phieu-ma-chua-dang-ky-giao-dich-post310295.html',\n",
              "  'https://www.tinnhanhchungkhoan.vn/petrosetco-pet-co-phieu-giam-gia-795-tong-giam-doc-vu-tien-duong-bi-cong-ty-chung-khoan-ban-giai-chap-post310293.html',\n",
              "  'https://www.tinnhanhchungkhoan.vn/dragon-capital-mua-them-15-trieu-co-phieu-nha-khang-dien-kdh-post310296.html',\n",
              "  'https://www.tinnhanhchungkhoan.vn/uy-ban-chung-khoan-nha-nuoc-khong-chap-thuan-cho-dau-tu-ha-tang-ky-thuat-tphcm-cii-thuong-co-phieu-ty-le-14-post310297.html',\n",
              "  'https://www.tinnhanhchungkhoan.vn/nganh-hang-xuat-khau-dang-gap-kho-voi-thi-truong-va-room-tin-dung-post310315.html',\n",
              "  'https://www.tinnhanhchungkhoan.vn/gia-tang-gia-tri-cho-ca-phe-xuat-khau-thong-qua-yeu-to-moi-truong-lao-dong-va-cong-nghe-post310289.html',\n",
              "  'https://www.tinnhanhchungkhoan.vn/nganh-det-may-dat-tham-vong-xuat-khau-47-ty-usd-nam-2023-post310283.html',\n",
              "  'https://www.tinnhanhchungkhoan.vn/xuat-khau-thuy-san-can-dich-10-ty-usd-som-hon-du-kien-kho-khan-van-chuc-cho-post310265.html',\n",
              "  'https://www.tinnhanhchungkhoan.vn/3-diem-chinh-doanh-nghiep-viet-nam-can-luu-y-khi-xuat-khau-hang-hoa-sang-eu-post310255.html',\n",
              "  'https://www.tinnhanhchungkhoan.vn/don-dep-thi-truong-bat-dong-san-bat-dau-tu-nhu-cau-thuc-bai-4-khi-mieng-dat-la-vat-chu-de-ky-sinh-post310326.html',\n",
              "  'https://www.tinnhanhchungkhoan.vn/nhu-cau-nguoi-mua-nha-dang-thay-doi-ro-net-la-loi-song-xanh-va-hien-dai-post310306.html',\n",
              "  'https://www.tinnhanhchungkhoan.vn/nguoi-dan-rong-ra-cau-cuu-khi-nao-co-so-do-tu-du-an-cua-cong-ty-bach-dat-an-post310310.html',\n",
              "  'https://www.tinnhanhchungkhoan.vn/vung-ven-se-ganh-nguon-cung-post309872.html',\n",
              "  'https://www.tinnhanhchungkhoan.vn/giai-bai-toan-xay-moi-cai-tao-12-cong-vien-tai-ha-noi-post310278.html',\n",
              "  'https://www.tinnhanhchungkhoan.vn/big-trends-sau-con-mua-troi-lai-sang-post310328.html',\n",
              "  'https://www.tinnhanhchungkhoan.vn/khi-nao-quy-dau-tu-can-ap-dung-lieu-phap-phanh-khan-cap-post310324.html',\n",
              "  'https://www.tinnhanhchungkhoan.vn/top-10-co-phieu-tanggiam-manh-nhat-tuan-nhom-thep-nong-tro-lai-co-phieu-nha-vin-bay-cao-post310286.html',\n",
              "  'https://www.tinnhanhchungkhoan.vn/giao-dich-chung-khoan-khoi-ngoai-tuan-14-1811-mua-rong-hon-5200-ty-dong-post310323.html',\n",
              "  '/media.html',\n",
              "  'https://www.tinnhanhchungkhoan.vn/xu-huong-trai-nghiem-dich-vu-cham-soc-dang-cap-post309914.html',\n",
              "  'https://www.tinnhanhchungkhoan.vn/co-phieu-hpg-lao-doc-chu-tich-hoa-phat-roi-top-3-ty-phu-giau-nhat-san-post309799.html',\n",
              "  'https://www.tinnhanhchungkhoan.vn/an-tuong-chuong-trinh-khai-mac-le-hoi-thiet-ke-sang-tao-ha-noi-2022-post309818.html',\n",
              "  'https://www.tinnhanhchungkhoan.vn/talkshow-chon-danh-muc-phan-2-ky-3-thanh-khoan-thi-truong-qua-lang-kinh-quy-dau-tu-post309725.html',\n",
              "  'https://www.tinnhanhchungkhoan.vn/kich-hoat-nhung-co-hoi-ma-moi-post309471.html',\n",
              "  'https://www.tinnhanhchungkhoan.vn/ong-dang-thanh-tam-chu-tich-kbc-tham-du-hoi-nghi-hoi-dong-tu-van-kinh-doanh-apec-abac-post310256.html',\n",
              "  'https://www.tinnhanhchungkhoan.vn/vinaconex-duoc-vinh-danh-top-15-doanh-nghiep-niem-yet-co-nang-luc-quan-tri-tai-chinh-tot-nam-2022-post310254.html',\n",
              "  'https://www.tinnhanhchungkhoan.vn/bat-dong-san-vi-tri-tot-gia-tri-tang-cao-voi-thoi-gian-post310118.html',\n",
              "  'https://www.tinnhanhchungkhoan.vn/abbank-toi-uu-trai-nghiem-chuyen-tien-quoc-te-nho-swift-payment-pre-validation-post309936.html',\n",
              "  'https://www.tinnhanhchungkhoan.vn/vietcombank-duoc-vinh-danh-tai-nhieu-hang-muc-giai-thuong-quan-trong-cua-to-chuc-the-quoc-te-visa-post309695.html',\n",
              "  'https://www.tinnhanhchungkhoan.vn/ctcp-cap-nuoc-phu-my-thong-bao-chao-ban-them-co-phieu-ra-cong-chung-post309727.html',\n",
              "  'https://www.tinnhanhchungkhoan.vn/niem-yet-chung-chi-quy-etf-kim-growth-vnfinselect-tren-so-giao-dich-chung-khoan-thanh-pho-ho-chi-minh-post308693.html',\n",
              "  'https://www.tinnhanhchungkhoan.vn/niem-yet-chung-chi-quy-etf-kim-growth-vnfinselect-tren-so-giao-dich-chung-khoan-thanh-pho-ho-chi-minh-post308692.html',\n",
              "  '/baocaophantich.html',\n",
              "  'https://www.tinnhanhchungkhoan.vn/ngan-hang-ban-no-muon-chuyen-cuoi-ra-nuoc-mat-post310307.html',\n",
              "  'https://www.tinnhanhchungkhoan.vn/go-nghen-cho-thi-truong-trai-phieu-se-khoi-thong-dong-tien-post310231.html',\n",
              "  'https://www.tinnhanhchungkhoan.vn/noi-them-room-tin-dung-ngan-hang-cung-khong-co-von-de-cho-vay-post310276.html',\n",
              "  'https://www.tinnhanhchungkhoan.vn/my-va-trung-quoc-thao-luan-thuong-mai-song-phuong-post310322.html',\n",
              "  'https://www.tinnhanhchungkhoan.vn/nhu-cau-sut-giam-se-la-thach-thuc-doi-voi-cac-cong-ty-bat-dong-san-trung-quoc-post310291.html',\n",
              "  'https://www.tinnhanhchungkhoan.vn/pho-wall-chia-re-ve-viec-fed-co-cat-giam-lai-suat-vao-nam-2023-hay-khong-post310292.html',\n",
              "  'https://www.tinnhanhchungkhoan.vn/thong-tin-moi-ve-tien-do-xu-ly-vu-viet-a-van-thinh-phat-va-aic-post310299.html',\n",
              "  'https://www.tinnhanhchungkhoan.vn/tam-giam-nguyen-ke-toan-truong-cung-2-can-bo-cdc-binh-phuoc-post310300.html',\n",
              "  'https://www.tinnhanhchungkhoan.vn/ky-luat-nhieu-can-bo-lien-quan-vu-an-vi-pham-dau-thau-tai-so-y-te-can-tho-post310303.html',\n",
              "  'https://www.tinnhanhchungkhoan.vn/ket-noi-thanh-toan-ban-le-qr-code-giua-viet-nam-va-thai-lan-post310271.html',\n",
              "  'https://www.tinnhanhchungkhoan.vn/metaverse-co-the-dong-gop-1400-ty-usd-vao-gdp-cua-chau-a-moi-nam-post310060.html',\n",
              "  'https://www.tinnhanhchungkhoan.vn/google-tra-gan-400-trieu-usd-de-dan-xep-vu-kien-quyen-rieng-tu-post310067.html',\n",
              "  'https://www.tinnhanhchungkhoan.vn/giai-noi-lo-thieu-chi-phi-chuyen-doi-so-cua-doanh-nghiep-nho-va-vua-post309999.html',\n",
              "  'https://www.tinnhanhchungkhoan.vn/startup-viet-nhan-von-dau-tu-1-trieu-usd-ngay-tu-vong-tien-hat-giong-post310007.html',\n",
              "  'https://www.tinnhanhchungkhoan.vn/vinfast-se-ban-2500-xe-vf8-va-vf9-cho-cong-ty-cho-thue-xe-lon-nhat-my-post310270.html',\n",
              "  'https://www.tinnhanhchungkhoan.vn/van-lo-thieu-xang-dau-cuc-bo-post310260.html',\n",
              "  'https://www.tinnhanhchungkhoan.vn/nganh-duong-sat-tung-5000-ve-giam-30-trong-thang-12-post310240.html',\n",
              "  'https://www.tinnhanhchungkhoan.vn/tphcm-mua-sam-tren-san-tmdt-tang-34-so-voi-cung-ky-nam-ngoai-post310208.html',\n",
              "  'https://www.tinnhanhchungkhoan.vn/toyota-viet-nam-gia-tang-san-xuat-lap-rap-tai-viet-nam-post310183.html'],\n",
              " '',\n",
              " 'https://m.tinnhanhchungkhoan.vn',\n",
              " 'm.tinnhanhchungkhoan.vn',\n",
              " 'fail',\n",
              " 'first')"
            ]
          },
          "execution_count": 32,
          "metadata": {},
          "output_type": "execute_result"
        }
      ],
      "source": [
        "url_extract('https://m.tinnhanhchungkhoan.vn/', key='h2', type='link', bs_on='')"
      ]
    },
    {
      "cell_type": "code",
      "execution_count": 34,
      "metadata": {
        "colab": {
          "base_uri": "https://localhost:8080/"
        },
        "id": "mXSRv7bhM1nc",
        "outputId": "e7417d59-f406-404c-81a9-d2f05af0e0eb"
      },
      "outputs": [
        {
          "data": {
            "text/plain": [
              "(['14/11/2022 10:28'],\n",
              " 'Xu hướng trải nghiệm dịch vụ chăm sóc đẳng cấp | Tin nhanh chứng khoán',\n",
              " 'https://www.tinnhanhchungkhoan.vn',\n",
              " 'www.tinnhanhchungkhoan.vn',\n",
              " 'try',\n",
              " 'last')"
            ]
          },
          "execution_count": 34,
          "metadata": {},
          "output_type": "execute_result"
        }
      ],
      "source": [
        "url_extract('https://www.tinnhanhchungkhoan.vn/xu-huong-trai-nghiem-dich-vu-cham-soc-dang-cap-post309914.html', key='time', tag_class='', type='')"
      ]
    },
    {
      "cell_type": "markdown",
      "metadata": {
        "id": "Hze8Ep-K_o1X"
      },
      "source": [
        "## Cafeland"
      ]
    },
    {
      "cell_type": "code",
      "execution_count": 35,
      "metadata": {
        "colab": {
          "base_uri": "https://localhost:8080/"
        },
        "id": "FmsqlckS_7CY",
        "outputId": "3af2bee4-bdc3-4e7c-cc88-351df6f1131a"
      },
      "outputs": [
        {
          "data": {
            "text/plain": [
              "(['https://cafeland.vn/tin-tuc/ixora-ho-tram-by-fusion-ngoi-nha-nghi-duong-tot-cho-suc-khoe-the-chat-lan-tinh-than-115264.html',\n",
              "  'https://cafeland.vn/tin-tuc/binh-phuoc-phat-trien-vuot-troi-nho-luc-day-cua-nhieu-dong-von-dau-tu-115265.html',\n",
              "  'https://cafeland.vn/tin-tuc/cuong-che-ban-giao-quy-bao-tri-nhung-tai-khoan-cua-chu-dau-tu-khong-du-tien-115269.html',\n",
              "  'https://cafeland.vn/tin-tuc/nong-trong-tuan-nha-dat-van-khong-ngung-tang-gia-115278.html',\n",
              "  'https://cafeland.vn/tin-tuc/ngan-hang-ha-gia-30-ty-dong-mot-manh-dat-cua-cong-ty-con-flc-115286.html',\n",
              "  'https://cafeland.vn/tin-tuc/ty-phu-pham-nhat-vuong-chuyen-nhuong-2434-trieu-co-phieu-vic-sang-vmi-115287.html',\n",
              "  'https://cafeland.vn/tin-tuc/chua-co-tien-ti-dung-voi-mua-nha-pho-115275.html',\n",
              "  'https://cafeland.vn/tin-tuc/binh-dinh-tim-nha-dau-tu-du-an-khu-do-thi-hon-5000-ty-dong-115271.html',\n",
              "  'https://cafeland.vn/tin-tuc/khanh-hoa-tong-ra-soat-cac-du-an-co-loai-dat-o-khong-hinh-thanh-don-vi-o-115273.html',\n",
              "  'https://cafeland.vn/tin-tuc/soi-tien-do-6-du-an-dang-trien-khai-tai-khu-do-thi-thu-thiem-115277.html',\n",
              "  'https://cafeland.vn/tin-tuc/thoi-diem-nao-co-the-bat-day-bat-dong-san-115274.html',\n",
              "  'https://cafeland.vn/tin-tuc/canh-giac-voi-chieu-tro-gai-bay-mua-ban-dat-lam-nghiep-115280.html',\n",
              "  'https://cafeland.vn/tin-tuc/chu-tich-tinh-binh-dinh-lenh-xu-ly-nghiem-nhung-vi-pham-trat-tu-xay-dung-tai-thanh-pho-quy-nhon-115284.html',\n",
              "  'https://cafeland.vn/tin-tuc/cam-ranh-tro-thanh-do-thi-loai-2-bat-dong-san-huong-loi-gi-115283.html',\n",
              "  'https://cafeland.vn/tin-tuc/hoa-ky-la-doi-tac-thuong-mai-va-dau-tu-hang-dau-cua-viet-nam-115276.html',\n",
              "  'https://cafeland.vn/tin-tuc/chu-nha-o-new-zealand-dang-quang-cao-ban-nha-tang-kem-o-to-tesla-de-hut-nguoi-mua-115268.html',\n",
              "  'https://cafeland.vn/tin-tuc/nong-trong-tuan-nha-dat-van-khong-ngung-tang-gia-115278.html',\n",
              "  'https://cafeland.vn/tin-tuc/tng-holdings-vietnam-dich-den-cua-chuyen-doi-so-la-khach-hang-115279.html',\n",
              "  'https://cafeland.vn/tin-tuc/bac-lieu-sap-thi-cong-tuyen-duong-trong-diem-1400-ti-dong-115267.html',\n",
              "  'https://cafeland.vn/tin-tuc/cuong-che-ban-giao-quy-bao-tri-nhung-tai-khoan-cua-chu-dau-tu-khong-du-tien-115269.html',\n",
              "  'https://cafeland.vn/tin-tuc/ixora-ho-tram-by-fusion-ngoi-nha-nghi-duong-tot-cho-suc-khoe-the-chat-lan-tinh-than-115264.html',\n",
              "  'https://cafeland.vn/tin-tuc/gia-vang-hom-nay-19-11-tiep-tuc-giam-gia-115266.html',\n",
              "  'https://cafeland.vn/tin-tuc/khong-du-co-so-de-xem-xet-de-xuat-khu-du-lich-nghi-duong-va-cham-soc-suc-khoe-leau-viet-nam-tai-quang-nam-115257.html',\n",
              "  'https://cafeland.vn/tin-tuc/de-xuat-mo-rong-cao-toc-tphcm-trung-luong-len-8-lan-xe-115256.html',\n",
              "  'https://cafeland.vn/tin-tuc/binh-phuoc-phat-trien-vuot-troi-nho-luc-day-cua-nhieu-dong-von-dau-tu-115265.html',\n",
              "  'https://cafeland.vn/tin-tuc/do-thi-truc-di-san-dong-tay-thanh-pho-da-lat-co-gi-dac-biet-115215.html',\n",
              "  'https://cafeland.vn/tin-tuc/lotte-ky-vong-kiem-duoc-38-trieu-usd-moi-nam-tu-cua-mien-thue-moi-mo-tai-trung-tam-thanh-pho-da-nang-115259.html',\n",
              "  'https://cafeland.vn/tin-tuc/thanh-hoa-sap-dau-gia-120-lo-dat-gia-khoi-diem-cao-nhat-hon-4-ti-donglo-115253.html',\n",
              "  'https://cafeland.vn/tin-tuc/bat-dong-san-24h-gia-nha-van-dang-tang-cao-115263.html',\n",
              "  'https://cafeland.vn/tin-tuc/chuyen-gia-du-bao-cuoi-2023-thi-truong-bat-dong-san-se-soi-dong-tro-lai-co-tien-du-nen-mua-luc-nay-115199.html',\n",
              "  'https://cafeland.vn/doanh-nhan/tieu-bieu/ong-nguyen-ba-duong-456.html',\n",
              "  'https://cafeland.vn/phan-tich/tong-giam-doc-colliers-viet-nam-mach-nuoc-cho-nha-dau-tu-bat-dong-san-trong-moi-truong-lai-suat-tang-cao-114914.html'],\n",
              " '',\n",
              " 'https://cafeland.vn',\n",
              " 'cafeland.vn',\n",
              " 'fail',\n",
              " 'first')"
            ]
          },
          "execution_count": 35,
          "metadata": {},
          "output_type": "execute_result"
        }
      ],
      "source": [
        "url_extract('https://cafeland.vn/tin-tuc', key='h3', type='link', bs_on='')"
      ]
    },
    {
      "cell_type": "code",
      "execution_count": 36,
      "metadata": {
        "colab": {
          "base_uri": "https://localhost:8080/"
        },
        "id": "pkFbkj8sA6PE",
        "outputId": "633dfed9-a837-4f83-8651-5a904199d8ce"
      },
      "outputs": [
        {
          "data": {
            "text/plain": [
              "(['18/11/2022 7:16 PM'],\n",
              " 'Đô thị trục di sản Đông – Tây thành phố Đà Lạt có gì đặc biệt? - CafeLand.Vn',\n",
              " 'https://cafeland.vn',\n",
              " 'cafeland.vn',\n",
              " 'try',\n",
              " 'last')"
            ]
          },
          "execution_count": 36,
          "metadata": {},
          "output_type": "execute_result"
        }
      ],
      "source": [
        "url_extract('https://cafeland.vn/tin-tuc/do-thi-truc-di-san-dong-tay-thanh-pho-da-lat-co-gi-dac-biet-115215.html', key='div', tag_class='info-date right', type='')"
      ]
    },
    {
      "cell_type": "markdown",
      "metadata": {
        "id": "qJ-iFivX_MiH"
      },
      "source": [
        "## Kênh 14"
      ]
    },
    {
      "cell_type": "code",
      "execution_count": 37,
      "metadata": {
        "colab": {
          "base_uri": "https://localhost:8080/"
        },
        "id": "aF4bVTTR_NsN",
        "outputId": "5f64d950-4757-4582-f641-7abbd4327b67"
      },
      "outputs": [
        {
          "data": {
            "text/plain": [
              "(['/miss-international-2023-hoi-tu-dan-chien-binh-manh-phuong-anh-co-lep-ve-khi-so-ke-voi-nhung-doi-thu-nay-20221119213632844.chn',\n",
              "  '/cuoc-song-cua-cac-nguoi-dep-tai-nang-tai-hoa-hau-viet-nam-10-nam-qua-20221119213043802.chn',\n",
              "  '/harry-styles-va-vo-cu-hoang-tu-nuoc-y-chia-tay-sau-chuoi-on-ao-voi-dan-minh-tinh-20221119193157278.chn',\n",
              "  '/nguoi-do-hinh-the-cac-hoa-hau-viet-nam-20221119212500782.chn',\n",
              "  '/man-do-sac-hot-nhat-cbiz-trieu-lo-tu-dep-xuat-than-ngu-thu-han-sexy-xit-mau-tai-2-su-kien-dang-cap-20221119051715485.chn',\n",
              "  '/a-hau-thuy-dung-len-xe-hoa-vao-thang-12-he-lo-thiep-cuoi-va-2-khach-moi-dau-tien-20221119182511491.chn',\n",
              "  '/4-nam-hen-ho-ngot-ngao-nhung-kin-tieng-cua-a-hau-thuy-dung-va-ban-trai-20221119153615167.chn',\n",
              "  '/thanh-hack-tuoi-dinh-nhat-kbiz-lo-dien-song-joong-ki-o-hop-bao-moi-day-con-tre-hon-6-nam-truoc-ben-vo-cu-20221118180327952.chn',\n",
              "  '/3-em-be-sinh-ba-noi-tieng-han-quoc-vao-tuoi-day-thi-cau-ca-da-co-ban-gai-20221118101645045.chn',\n",
              "  '/nhieu-than-tuong-k-pop-tam-hoan-khong-tham-gia-ki-thi-tuyen-sinh-dai-hoc-2023-2022111810460001.chn',\n",
              "  '/pham-quynh-anh-toi-muon-dat-tinh-nhan-van-lam-nen-tang-dau-tien-cho-con-20221119160011518.chn',\n",
              "  '/y-tuong-tang-qua-moi-la-nhung-cuc-thiet-thuc-dam-bao-thay-co-se-thich-20221119155845342.chn',\n",
              "  '/aeon-mall-tan-phu-celadon-2022-dien-mao-moi-cua-hang-moi-20221119155654006.chn',\n",
              "  '/bo-phim-chuyen-the-moi-dieu-ta-chua-noi-cua-marc-levy-se-phat-song-tren-k-20221119155417426.chn',\n",
              "  '/lan-dau-tien-ha-ho-va-thanh-hang-bat-tay-cho-ra-mat-bo-suu-tap-son-thoi-mua-le-hoi-sieu-lung-linh-20221119131258368.chn',\n",
              "  '/mua-tv-sony-bravia-nhan-ngay-khuyen-mai-hap-dan-tu-chuong-trinh-man-nhan-bong-da-hoa-nhip-qatar-20221119131553969.chn',\n",
              "  '/2011-mo-tiec-suong-suong-an-gi-ngon-va-tiet-kiem-20221119131423339.chn',\n",
              "  '/hoa-hau-ha-kieu-anh-ngoc-chau-den-chuc-mung-ar-group-tro-thanh-dai-dien-chinh-thuc-cua-thuong-hieu-mat-kinh-maui-jim-tai-viet-nam-2022111913095574.chn',\n",
              "  '/1977-vlog-ra-mat-video-mua-tuu-truong-thi-no-chuyen-dai-hoc-va-nhung-hanh-trang-chang-the-thieu-20221119083558483.chn',\n",
              "  '/hoa-hau-tieu-vy-ghe-tham-truong-hoc-nhan-ky-niem-40-nam-ngay-nha-giao-viet-nam-20221119083434656.chn',\n",
              "  '/anh-tu-orange-avin-lu-nhap-vai-gioi-tre-thoi-thuong-nuoc-my-voi-bst-moi-tu-canifa-20221119083350838.chn',\n",
              "  '/chay-cung-sandro-va-hot-stuff-bst-thoi-trang-hoai-niem-tuoi-tho-tu-nha-mot-phap-2022111819240902.chn',\n",
              "  '/cung-jsol-cara-va-biet-doi-mlb-crew-len-do-du-hi-tai-da-nang-20221117165656883.chn',\n",
              "  '/gia-dinh-dong-nhi-ong-cao-thang-chinh-thuc-tro-thanh-dai-su-du-lich-nhat-ban-20221116172234971.chn',\n",
              "  '/nghe-si-giai-tri-nang-no-nhat-nua-cuoi-2022-goi-ten-hieuthuhai-dien-trai-ngoi-ngoi-su-nghiep-thang-tien-20221105124246775.chn',\n",
              "  '/ninh-duong-lan-ngoc-thuy-ngan-chau-bui-va-dan-sao-viet-do-sac-trong-dem-tiec-halloween-20221103143048503.chn',\n",
              "  '/a-hau-nguyen-nga-dai-dien-viet-nam-du-thi-hoa-hau-du-lich-quoc-te-2022-20221102162518826.chn',\n",
              "  '/lee-seung-gi-co-dong-thai-cuc-gat-sau-be-boi-tai-chinh-cua-cong-ty-quan-ly-20221119105004085.chn',\n",
              "  '/vua-truyen-hinh-hong-kong-ma-quoc-minh-len-ke-hoach-cuoi-vo-vao-nam-2023-20221119104510.chn'],\n",
              " ['Miss International 2023 hội tụ dàn &quot;chiến binh mạnh&quot;: Phương Anh có lép vế khi so kè với những đối thủ này?',\n",
              "  'Cuộc sống của các người đẹp tài năng tại Hoa hậu Việt Nam 10 năm qua',\n",
              "  'Harry Styles và vợ cũ Hoàng tử nước Ý chia tay sau chuỗi ồn ào với dàn minh tinh',\n",
              "  'Người đo hình thể các Hoa hậu Việt Nam',\n",
              "  'Màn đọ sắc hot nhất Cbiz: Triệu Lộ Tư đẹp xuất thần, Ngu Thư Hân sexy &quot;xịt máu&quot; tại 2 sự kiện đẳng cấp',\n",
              "  'Á hậu Thuỳ Dung lên xe hoa vào tháng 12, hé lộ thiệp cưới và 2 khách mời đầu tiên',\n",
              "  '4 năm hẹn hò ngọt ngào nhưng kín tiếng của Á hậu Thuỳ Dung và bạn trai',\n",
              "  '&quot;Thánh hack tuổi&quot; đỉnh nhất Kbiz lộ diện: Song Joong Ki ở họp báo mới đây còn trẻ hơn 6 năm trước bên vợ cũ',\n",
              "  '3 em bé sinh ba nổi tiếng Hàn Quốc vào tuổi dậy thì, &quot;cậu cả&quot; đã có bạn gái!',\n",
              "  'Nhiều thần tượng K-Pop tạm hoãn, không tham gia kì thi tuyển sinh đại học 2023',\n",
              "  'Phạm Quỳnh Anh: “Tôi muốn đặt tính nhân văn làm nền tảng đầu tiên cho con”',\n",
              "  'Ý tưởng tặng quà mới lạ nhưng cực thiết thực đảm bảo “thầy cô sẽ thích”',\n",
              "  'AEON MALL Tân Phú Celadon 2022: Diện mạo mới - cửa hàng mới',\n",
              "  'Bộ phim chuyển thể Mọi Điều Ta Chưa Nói của Marc Levy sẽ phát sóng trên K+',\n",
              "  'Lần đầu tiên Hà Hồ và Thanh Hằng bắt tay cho ra mắt bộ sưu tập son thỏi mùa lễ hội siêu lung linh',\n",
              "  'Mua TV Sony Bravia, nhận ngay khuyến mãi hấp dẫn từ chương trình &quot;Mãn nhãn bóng đá - Hòa nhịp Qatar&quot;',\n",
              "  '20.11 mở tiệc “sương sương”, ăn gì ngon và tiết kiệm?',\n",
              "  'Hoa hậu Hà Kiều Anh, Ngọc Châu đến chúc mừng AR GROUP trở thành đại diện chính thức của thương hiệu mắt kính Maui Jim tại Việt Nam',\n",
              "  '1977 vlog ra mắt video mùa tựu trường: &quot;Thị Nở, chuyện đại học và những hành trang chẳng thể thiếu&quot;',\n",
              "  'Hoa hậu Tiểu Vy ghé thăm trường học nhân kỷ niệm 40 năm ngày Nhà giáo Việt Nam',\n",
              "  'Anh Tú, Orange, Avin Lu &quot;nhập vai&quot; giới trẻ thời thượng nước Mỹ với BST mới từ Canifa',\n",
              "  '&quot;Cháy&quot; cùng Sandro và Hot Stuff: BST thời trang &quot;Hoài niệm tuổi thơ&quot; từ nhà mốt Pháp',\n",
              "  'Cùng JSOL, Cara và biệt đội MLB Crew lên đồ du hí tại Đà Nẵng',\n",
              "  'Gia đình Đông Nhi - Ông Cao Thắng chính thức trở thành đại sứ du lịch Nhật Bản',\n",
              "  'Nghệ sĩ giải trí năng nổ nhất nửa cuối 2022 gọi tên HIEUTHUHAI: Điển trai ngời ngời, sự nghiệp thăng tiến',\n",
              "  'Ninh Dương Lan Ngọc, Thúy Ngân, Châu Bùi và dàn sao Việt đọ sắc trong đêm tiệc Halloween',\n",
              "  'Á hậu Nguyễn Nga đại diện Việt Nam dự thi Hoa hậu Du lịch Quốc tế 2022',\n",
              "  'Lee Seung Gi có động thái cực gắt sau bê bối tài chính của công ty quản lý',\n",
              "  'Vua truyền hình Hong Kong Mã Quốc Minh lên kế hoạch cưới vợ vào năm 2023'],\n",
              " 'https://m.kenh14.vn',\n",
              " 'm.kenh14.vn',\n",
              " 'fail',\n",
              " 'first')"
            ]
          },
          "execution_count": 37,
          "metadata": {},
          "output_type": "execute_result"
        }
      ],
      "source": [
        "url_extract('https://m.kenh14.vn/star.chn', key='h3', type='link')"
      ]
    },
    {
      "cell_type": "code",
      "execution_count": 38,
      "metadata": {
        "colab": {
          "base_uri": "https://localhost:8080/"
        },
        "id": "LVB82GiQ_SuM",
        "outputId": "94877bc4-5bd3-48d7-fed1-322e53a511ff"
      },
      "outputs": [
        {
          "data": {
            "text/plain": [
              "(['15:51 19/11/2022'],\n",
              " 'Phía sau những Gen Z Okela: Có lúc thất bại, có lúc không ổn lắm nhưng chưa bao giờ ngừng nỗ lực!',\n",
              " 'https://m.kenh14.vn',\n",
              " 'm.kenh14.vn',\n",
              " 'try',\n",
              " 'last')"
            ]
          },
          "execution_count": 38,
          "metadata": {},
          "output_type": "execute_result"
        }
      ],
      "source": [
        "url_extract('https://m.kenh14.vn/phia-sau-nhung-gen-z-okela-co-luc-that-bai-co-luc-khong-on-lam-nhung-chua-bao-gio-ngung-no-luc-20221119153833146.chn', key='span', tag_class='kbwcm-time', type='')"
      ]
    },
    {
      "cell_type": "markdown",
      "metadata": {
        "id": "XU-Xb19-AHAM"
      },
      "source": [
        "## Dân trí"
      ]
    },
    {
      "cell_type": "code",
      "execution_count": 39,
      "metadata": {
        "colab": {
          "base_uri": "https://localhost:8080/"
        },
        "id": "7mJ_n8wioyo4",
        "outputId": "516f6830-52b0-4640-e452-9b2fe5afa401"
      },
      "outputs": [
        {
          "data": {
            "text/plain": [
              "(['/the-gioi/moscow-cao-buoc-ukraine-kich-dong-xung-dot-quan-su-nga-nato-20221119145209276.htm',\n",
              "  '/phap-luat/van-phong-luat-rong-300m2-o-tphcm-co-220-nhan-vien-lam-nhiem-vu-doi-no-20221119150858641.htm',\n",
              "  '/the-thao/hoa-clb-ha-noi-ha-gia-lai-xep-thu-6-chung-cuoc-v-league-2022-20221119193426991.htm',\n",
              "  '/giao-duc-huong-nghiep/thu-tuong-pham-minh-chinh-gap-mat-60-nha-giao-tieu-bieu-20221119165437203.htm',\n",
              "  '/xa-hoi/thong-tin-moi-vu-o-to-cua-truong-cong-an-thi-tran-va-cham-xe-may-lam-2-nguoi-chet-20221119161543818.htm',\n",
              "  '/the-gioi/nghi-van-cang-dau-chien-luoc-cua-nga-o-bien-den-bi-usv-tan-cong-20221119203757000.htm',\n",
              "  '/tam-diem/minh-cu-trong-veo-va-can-bo-dam-nghi-dam-lam-20221119110122741.htm',\n",
              "  '/bat-dong-san/can-canh-du-an-tuan-chau-ha-noi-dang-do-cua-chua-dao-dao-hong-tuyen-20221118221614605.htm',\n",
              "  '/doi-song/chuyen-tinh-xuc-dong-co-gai-mien-nam-quyet-ra-bac-vi-chang-trai-ngoi-xe-lan-20221118164900149.htm',\n",
              "  '/phap-luat/khoi-to-bat-tam-giam-cuu-trung-uy-cong-an-o-binh-duong-20221119192142771.htm',\n",
              "  '/the-gioi/dang-cong-hoa-chia-re-viec-ong-trump-tuyen-bo-tai-tranh-cu-tong-thong-20221116151745318.htm',\n",
              "  '/phap-luat/bi-la-mang-say-xin-con-trai-danh-chet-me-roi-keo-thi-the-ra-vuon-giau-20221119214840658.htm',\n",
              "  '/the-gioi/ukraine-phat-hien-diem-khac-thuong-tren-ten-lua-nga-dung-de-tap-kich-kiev-20221119200349748.htm',\n",
              "  '/phap-luat/nam-sinh-lop-11-bi-danh-hoi-dong-tai-cong-truong-20221119170616052.htm',\n",
              "  '/xa-hoi/kien-nghi-chuyen-cong-an-lam-ro-vu-mua-sam-tai-so-gddt-can-tho-20221119194515873.htm',\n",
              "  '/the-gioi/dang-cong-hoa-chia-re-viec-ong-trump-tuyen-bo-tai-tranh-cu-tong-thong-20221116151745318.htm',\n",
              "  '/the-thao/world-cup-2022-qua-nhung-con-so-chau-au-van-thong-tri-20221119142730432.htm',\n",
              "  '/kinh-doanh/grab-giam-lo-20221119171843712.htm',\n",
              "  '/bat-dong-san/viet-nam-co-the-hoc-duoc-gi-tu-cuoc-khung-hoang-bat-dong-san-o-trung-quoc-20221117204144719.htm',\n",
              "  '/the-thao/huynh-nhu-da-chinh-va-ghi-2-ban-giup-clb-bo-dao-nha-dai-thang-20221120010126490.htm',\n",
              "  '/lao-dong-viec-lam/ngu-dan-hop-suc-di-giat-lui-keo-me-ca-ky-luc-nang-4-tan-20221118211047353.htm',\n",
              "  '/tam-long-nhan-ai/bo-va-ong-noi-nguy-kich-sau-tai-nan-cau-be-12-tuoi-cau-mong-su-giup-do-20221113232454489.htm',\n",
              "  '/suc-khoe/giam-doc-bv-phu-san-trung-uong-toi-la-thay-nhung-ca-doi-la-hoc-tro-20221119103307262.htm',\n",
              "  '/van-hoa/nghi-luc-phi-thuong-cua-vu-cong-21-tuoi-mac-ung-thu-bi-cat-mot-chan-20221119111017177.htm',\n",
              "  '/giai-tri/hoa-hau-ngoc-chau-dien-do-bo-deo-me-ra-dong-bang-xe-may-gay-chu-y-20221119174401273.htm',\n",
              "  '/o-to-xe-may/o-to-tai-de-bep-xe-may-trong-mot-tinh-huong-gay-day-song-cong-dong-mang-20221120002631222.htm',\n",
              "  '/giao-duc-huong-nghiep/quang-nam-thay-giao-24-nam-det-uoc-mo-cho-hoc-tro-ngheo-20221118070204682.htm',\n",
              "  '/suc-manh-so/sau-25-nam-vao-viet-nam-internet-da-dua-nguoi-viet-di-xa-den-dau-20221119092636543.htm',\n",
              "  '/an-sinh/doanh-nghiep-cat-giam-hang-nghin-lao-dong-tphcm-yeu-cau-theo-doi-sat-20221119185029738.htm',\n",
              "  '/phap-luat/bat-2-nghi-pham-thuc-hien-18-vu-trom-xe-may-ban-qua-campuchia-20221119155252612.htm',\n",
              "  '/du-lich/khoanh-khac-khach-san-17-tang-o-my-bi-keo-sap-trong-it-phut-20221118105738037.htm',\n",
              "  '/doi-song/trieu-phu-trung-quoc-trang-tay-sau-pha-san-lam-lai-cuoc-doi-nho-ban-xuc-xich-20221119105424076.htm',\n",
              "  '/tinh-yeu-gioi-tinh/dau-hieu-de-biet-nguoi-dan-ong-muon-o-ben-ban-suot-doi-20221119202856667.htm',\n",
              "  '/nhip-song-tre/15-dieu-can-lam-de-co-moi-quan-he-yeu-duong-lanh-manh-20221116113912678.htm',\n",
              "  '/khoa-hoc-cong-nghe/toan-canh-nasa-dua-mau-da-sao-hoa-tro-lai-trai-dat-20221119074249178.htm',\n",
              "  '/tam-diem/minh-cu-trong-veo-va-can-bo-dam-nghi-dam-lam-20221119110122741.htm',\n",
              "  '/ban-doc/yeu-cau-khac-phuc-sai-pham-tai-lang-am-thuc-sinh-thai-binh-xuyen-20221119081200899.htm',\n",
              "  '/nhip-song-tre/15-dieu-can-lam-de-co-moi-quan-he-yeu-duong-lanh-manh-20221116113912678.htm',\n",
              "  '/xa-hoi/ong-vo-van-thuong-khong-cai-cam-loi-ich-nhom-khi-xay-dung-van-ban-phap-luat-20221119213951506.htm',\n",
              "  '/xa-hoi/nguoi-dan-ong-bi-ran-luc-duoi-do-can-tu-vong-20221119175142316.htm',\n",
              "  '/xa-hoi/thong-tin-moi-vu-o-to-cua-truong-cong-an-thi-tran-va-cham-xe-may-lam-2-nguoi-chet-20221119161543818.htm',\n",
              "  '/phap-luat/nam-sinh-lop-11-bi-danh-hoi-dong-tai-cong-truong-20221119170616052.htm',\n",
              "  '/xa-hoi/bi-thu-phuong-pha-do-phan-cong-trinh-vi-pham-20221119121204563.htm',\n",
              "  '/the-gioi/nghi-van-cang-dau-chien-luoc-cua-nga-o-bien-den-bi-usv-tan-cong-20221119203757000.htm',\n",
              "  '/the-gioi/ukraine-phat-hien-diem-khac-thuong-tren-ten-lua-nga-dung-de-tap-kich-kiev-20221119200349748.htm',\n",
              "  '/the-gioi/dau-hieu-nga-san-sang-trao-doi-tu-nhan-lai-buon-tu-than-voi-my-20221119163805055.htm',\n",
              "  '/the-gioi/moscow-cao-buoc-ukraine-kich-dong-xung-dot-quan-su-nga-nato-20221119145209276.htm',\n",
              "  '/the-gioi/ukraine-nhan-them-truc-thang-phao-tu-hanh-tu-cac-dong-minh-phuong-tay-20221119000355179.htm',\n",
              "  '/the-thao/qatar-chi-200-ty-usd-to-chuc-world-cup-2022-vuot-xa-moi-ky-luc-20221119134409104.htm',\n",
              "  '/the-thao/bang-h-world-cup-2022-han-quoc-thach-thuc-bo-dao-nha-va-uruguay-20221117230924407.htm',\n",
              "  '/the-thao/moi-doc-gia-du-doan-world-cup-2022-cung-dan-tri-nhan-qua-gia-tri-20221118095403971.htm',\n",
              "  '/the-thao/ronaldo-tuyen-bo-danh-thep-truoc-khi-toi-qatar-20221119082855543.htm',\n",
              "  '/the-thao/bang-g-world-cup-2022-brazil-rieng-mot-con-duong-20221119080212663.htm',\n",
              "  '/kinh-doanh/xe-rolls-royce-du-thuyen-cua-ong-trinh-van-quyet-van-chua-co-nguoi-mua-20221119004748808.htm',\n",
              "  '/bat-dong-san/vinhomes-sap-co-cong-ty-con-la-chu-dau-tu-du-an-nha-o-xa-hoi-tai-cam-ranh-20221119152241300.htm',\n",
              "  '/kinh-doanh/doanh-nghiep-ngan-hang-vay-duoc-hon-2-ty-usd-von-nuoc-ngoai-20221119124432669.htm',\n",
              "  '/kinh-doanh/gia-vang-se-giam-toi-khi-nao-20221119010003708.htm',\n",
              "  '/kinh-doanh/apax-holdings-9-thang-dat-17-muc-tieu-loi-nhuan-dong-tien-tu-kinh-doanh-am-20221118180414266.htm',\n",
              "  '/bat-dong-san/lo-dien-2-phan-khuc-bat-dong-san-tang-gia-bat-chap-thi-truong-di-xuong-20221119044228674.htm',\n",
              "  '/bat-dong-san/chuong-song-xanh-nhieu-nguoi-giau-muon-chuyen-ve-vinhomes-ocean-park-3-the-crown-20221119185543551.htm',\n",
              "  '/bat-dong-san/ha-noi-kiem-tra-viec-xu-ly-vi-pham-dat-dai-tai-11-quan-huyen-20221118145854168.htm',\n",
              "  '/bat-dong-san/bat-chap-thi-truong-tram-lang-gia-rao-ban-chung-cu-van-tiep-tuc-tang-20221118084911083.htm',\n",
              "  '/bat-dong-san/ha-long-tren-can-cua-chua-dao-tuan-chau-van-mac-can-20221118080549217.htm',\n",
              "  '/the-thao/hoa-clb-ha-noi-ha-gia-lai-xep-thu-6-chung-cuoc-v-league-2022-20221119193426991.htm',\n",
              "  '/the-thao/thang-clb-thanh-hoa-hl-ha-tinh-tru-hang-thanh-cong-20221119191514621.htm',\n",
              "  '/the-thao/danh-bai-binh-duong-sai-gon-fc-van-xuong-hang-20221119190259421.htm',\n",
              "  '/the-thao/djokovic-toi-chua-tung-nghi-bo-cuoc-de-giu-suc-cho-ban-ket-20221119151702362.htm',\n",
              "  '/the-thao/moi-doc-gia-du-doan-world-cup-2022-cung-dan-tri-nhan-qua-gia-tri-20221118095403971.htm',\n",
              "  '/lao-dong-viec-lam/cot-10kg-xich-sat-vao-nguoi-lan-xuong-day-song-tim-san-bom-bop-20221114224345541.htm',\n",
              "  '/lao-dong-viec-lam/phi-di-nhat-lam-viec-chi-5-trieu-dong-sao-nhieu-nguoi-mat-hang-tram-trieu-20221118231511860.htm',\n",
              "  '/an-sinh/doanh-nghiep-cat-giam-hang-nghin-lao-dong-tphcm-yeu-cau-theo-doi-sat-20221119185029738.htm',\n",
              "  '/lao-dong-viec-lam/tao-co-hoi-cho-lao-dong-ky-nang-dac-dinh-sang-nhat-lam-viec-20221118181937778.htm',\n",
              "  '/lao-dong-viec-lam/phat-trien-nghe-det-tho-cam-lang-teng-20221118120246353.htm',\n",
              "  '/tam-long-nhan-ai/nguoi-dan-ong-mac-viem-co-tim-duoc-ban-doc-giup-do-hon-120-trieu-dong-20221117152119814.htm',\n",
              "  '/tam-long-nhan-ai/su-giup-do-cua-ban-doc-dan-tri-da-tiep-them-suc-manh-cho-gia-dinh-em-20221117154609641.htm',\n",
              "  '/tam-long-nhan-ai/nguoi-me-benh-tim-va-2-con-mo-coi-cha-duoc-ban-doc-dan-tri-giup-gan-85-trieu-dong-20221118111835043.htm',\n",
              "  '/tam-long-nhan-ai/duoc-giup-126-trieu-dong-nguoi-phu-nu-ngheo-da-tro-ve-voi-4-con-20221118132258270.htm',\n",
              "  '/tam-long-nhan-ai/ban-doc-giup-do-ong-lao-dau-yeu-cham-con-tat-nguyen-hon-100-trieu-dong-20221117170154421.htm',\n",
              "  '/suc-khoe/chang-trai-kho-so-vi-vac-khoi-u-khung-nang-9kg-o-lung-mong-20221119074133592.htm',\n",
              "  '/suc-khoe/de-xuat-gia-kham-benh-theo-yeu-cau-khong-qua-300000-dong-mot-lan-20221119090027584.htm',\n",
              "  '/suc-khoe/benh-nhan-sot-xuat-huyet-ganh-vien-phi-400-trieu-dong-me-phai-rao-ban-nha-20221118175122852.htm',\n",
              "  '/suc-khoe/nhan-dien-ung-thu-truc-trang-qua-nhung-canh-bao-dau-tien-20221114093006287.htm',\n",
              "  '/suc-khoe/ha-noi-nhieu-tre-nhap-vien-vi-sot-xuat-huyet-canh-bao-giai-doan-nguy-hiem-20221118232657592.htm',\n",
              "  '/van-hoa/an-do-nghi-luc-song-va-tinh-than-lac-quan-cua-chang-trai-nguoi-soi-20221119110742532.htm',\n",
              "  '/van-hoa/thuong-uy-cong-an-gay-chu-y-trong-phim-hanh-trinh-cong-ly-la-ai-20221118000448149.htm',\n",
              "  '/van-hoa/3-khoanh-khac-gay-sot-cua-cau-ut-nha-trump-trong-nam-2022-20221118204812954.htm',\n",
              "  '/van-hoa/ruc-ro-sac-mau-trang-phuc-truyen-thong-cua-cac-dan-toc-thieu-so-viet-nam-20221119042328614.htm',\n",
              "  '/van-hoa/duong-mich-chenh-lech-ve-ngoai-hinh-tuoi-tac-voi-ban-dien-20221118102440695.htm',\n",
              "  '/giai-tri/hoa-hau-hong-kong-lay-chong-ngheo-vat-va-chay-show-nhung-hanh-phuc-20221119102212190.htm',\n",
              "  '/giai-tri/mc-nguoi-viet-dau-tien-dan-chung-ket-hoa-hau-du-lich-quoc-te-la-ai-20221119230158855.htm',\n",
              "  '/giai-tri/hoa-hau-venezuela-2022-so-huu-chieu-cao-1m8-va-than-hinh-ruc-lua-20221119084259358.htm',\n",
              "  '/giai-tri/mieu-quy-toc-ha-nhi-toi-ru-trong-hieu-thu-tha-thinh-nhau-20221107182157138.htm',\n",
              "  '/giai-tri/bong-hong-xuat-hien-ben-brad-pitt-khong-chi-dep-ma-con-tri-tue-va-dang-cap-20221118105922302.htm',\n",
              "  '/o-to-xe-may/gia-vat-lieu-san-xuat-o-to-dien-tang-nhanh-gap-3-lan-so-voi-xe-xang-20221118153119571.htm',\n",
              "  '/o-to-xe-may/30-ngay-trai-nghiem-mien-phi-fpt-play-cho-khach-so-huu-o-to-dien-vinfast-20221119200438740.htm',\n",
              "  '/o-to-xe-may/dich-vu-hau-mai-cua-vinfast-duoc-danh-gia-cao-20221119184802466.htm',\n",
              "  '/o-to-xe-may/vinfast-nhan-hon-2500-don-ban-hang-xe-vf-8-va-vf-9-cho-autonomy-20221118114012416.htm',\n",
              "  '/o-to-xe-may/innova-2023-lo-dang-giong-suv-hua-hen-doi-van-khi-ve-viet-nam-20221118085318673.htm',\n",
              "  '/video/dai-su-my-chuc-mung-co-giao-nhan-ngay-2011-bang-tieng-viet-157397.htm',\n",
              "  '/video/co-giao-khuyet-tat-14-nam-den-truong-giang-day-cho-tre-em-dac-biet-157414.htm',\n",
              "  '/video/cot-10kg-xich-sat-vao-nguoi-lan-xuong-day-song-san-bom-bop-157309.htm',\n",
              "  '/giao-duc-huong-nghiep/nam-sinh-lop-7-bi-nguoi-dan-ong-dam-lien-tiep-vao-mat-o-cong-truong-20221119184600725.htm',\n",
              "  '/giao-duc-huong-nghiep/phan-lon-nha-giao-chap-nhan-muon-van-thiet-thoi-de-gan-bo-voi-nghe-20221119111459737.htm',\n",
              "  '/giao-duc-huong-nghiep/le-tri-an-dac-biet-thay-co-keu-goi-khong-tang-hoa-qua-20221119143613193.htm',\n",
              "  '/giao-duc-huong-nghiep/nhieu-truong-cao-dang-to-chuc-khai-giang-trong-dip-ky-niem-ngay-nha-giao-20221119165745168.htm',\n",
              "  '/giao-duc-huong-nghiep/thu-tuong-pham-minh-chinh-gap-mat-60-nha-giao-tieu-bieu-20221119165437203.htm',\n",
              "  '/giao-duc-huong-nghiep/viet-blog-tren-twitter-thu-khoa-duoc-moi-sang-my-hop-tac-20221119095024296.htm',\n",
              "  '/giao-duc-huong-nghiep/thu-tuong-hoc-tro-tot-hay-xau-la-do-thay-giao-co-giao-tot-hay-xau-20221119123231594.htm',\n",
              "  '/giao-duc-huong-nghiep/co-giao-ha-noi-30-nam-niu-con-chu-cho-nhung-hoc-sinh-ngheo-20221118085140464.htm',\n",
              "  '/suc-manh-so/nhan-vien-meta-chiem-doat-trai-phep-tai-khoan-facebook-cua-nguoi-dung-20221118110635061.htm',\n",
              "  '/suc-manh-so/giang-sinh-buon-cua-apple-20221118150927741.htm',\n",
              "  '/suc-manh-so/hoai-niem-nhung-ngay-dau-su-dung-internet-o-viet-nam-tu-25-nam-truoc-20221118205033416.htm',\n",
              "  '/suc-manh-so/so-luong-ma-doc-dao-tien-dien-tu-tang-230-20221118094917495.htm',\n",
              "  '/suc-manh-so/tiet-lo-moi-ve-iphone-15-pro-20221117102021689.htm',\n",
              "  '/suc-manh-so/laptop-chay-windows-se-co-ket-noi-5g-tri-tue-nhan-tao-20221117171708527.htm',\n",
              "  '/suc-manh-so/vivo-ra-mat-v25-pro-voi-camera-duoc-nang-cap-20221116180114218.htm',\n",
              "  '/suc-manh-so/25-nam-fpt-telecom-ket-noi-yeu-thuong-vi-cong-dong-20221118084045953.htm',\n",
              "  '/xa-hoi/cong-vien-bieu-tuong-cua-tinh-ket-nghia-bi-bam-nat-20221110173149049.htm',\n",
              "  '/doi-song/doc-dao-bo-tien-doc-nhat-vo-nhi-tai-viet-nam-cho-vck-world-cup-2022-20221118222937738.htm',\n",
              "  '/doi-song/chuyen-tinh-xuc-dong-co-gai-mien-nam-quyet-ra-bac-vi-chang-trai-ngoi-xe-lan-20221118164900149.htm',\n",
              "  '/tam-diem/dang-sau-nhung-kho-khan-gay-gat-cua-nganh-y-20221118160133417.htm',\n",
              "  '/giao-duc-huong-nghiep/thu-khoa-gen-z-bo-nghiep-dien-theo-duoi-uoc-mo-nha-giao-20221117205911615.htm',\n",
              "  '/tam-diem/asean-choi-voi-nuoc-lon-nhung-khong-roi-vao-bay-chon-ben-20221118153742461.htm',\n",
              "  '/an-sinh/da-nang-thap-sang-cau-rong-huong-ung-ngay-tre-em-the-gioi-20221119134532542.htm',\n",
              "  '/giao-duc-huong-nghiep/le-tri-an-dac-biet-thay-co-keu-goi-khong-tang-hoa-qua-20221119143613193.htm',\n",
              "  '/an-sinh/trong-2-nam-soc-trang-van-dong-xay-dung-hon-3000-can-nha-cho-ho-ngheo-20221118161911226.htm',\n",
              "  '/an-sinh/tang-nha-so-tiet-kiem-gia-dinh-co-cong-voi-cach-mang-20221119122324371.htm',\n",
              "  '/phap-luat/ga-sat-nhan-benh-hoan-thoat-an-tu-vi-sai-lam-cua-mot-canh-sat-20221119092417069.htm',\n",
              "  '/phap-luat/truy-bat-ke-no-sung-o-nha-me-vo-cu-20221119111059582.htm',\n",
              "  '/phap-luat/bi-la-mang-say-xin-con-trai-danh-chet-me-roi-keo-thi-the-ra-vuon-giau-20221119214840658.htm',\n",
              "  '/phap-luat/khoi-to-bat-tam-giam-cuu-trung-uy-cong-an-o-binh-duong-20221119192142771.htm',\n",
              "  '/du-lich/hang-xoi-la-sen-dat-khach-nhat-tphcm-co-tien-cung-kho-mua-20221118153814325.htm',\n",
              "  '/du-lich/tro-dua-dai-nhat-lich-su-nganh-hang-khong-keo-dai-20-nam-da-ket-thuc-20221118124328894.htm',\n",
              "  '/du-lich/nha-giau-xem-world-cup-o-du-thuyen-500-trieu-dongdem-co-dau-bep-rieng-20221118103214103.htm',\n",
              "  '/doi-song/chuyen-dap-xe-xuyen-viet-mo-ra-chuong-doi-moi-cua-giao-su-61-tuoi-20221111101909115.htm',\n",
              "  '/doi-song/chuyen-tinh-xuc-dong-co-gai-mien-nam-quyet-ra-bac-vi-chang-trai-ngoi-xe-lan-20221118164900149.htm',\n",
              "  '/doi-song/len-non-nghe-chuyen-tinh-cua-lao-nong-co-tu-cung-cay-dan-ta-lu-20221107195344764.htm',\n",
              "  '/doi-song/doc-dao-bo-tien-doc-nhat-vo-nhi-tai-viet-nam-cho-vck-world-cup-2022-20221118222937738.htm',\n",
              "  '/doi-song/ngoi-lang-tai-che-lon-nhat-viet-nam-ty-phu-nhap-rac-quoc-te-ve-lam-giau-20221116101122900.htm',\n",
              "  '/tinh-yeu-gioi-tinh/tranh-thu-chong-di-lam-dem-de-kiem-tien-bang-von-tu-co-toi-nhan-ve-ket-cuc-e-che-20221119084815191.htm',\n",
              "  '/tinh-yeu-gioi-tinh/neu-duoc-chon-lai-anh-co-chon-em-khong-va-cau-tra-loi-cua-chong-khien-vo-noi-doa-20221119072539235.htm',\n",
              "  '/tinh-yeu-gioi-tinh/lay-nguoi-chong-tat-nguyen-vo-tro-thanh-tam-diem-chu-y-cua-cong-dong-mang-khi-lam-hanh-dong-nay-trong-le-cuoi-20221118140142443.htm',\n",
              "  '/tinh-yeu-gioi-tinh/lam-vo-duoc-30-ngay-toi-muon-ly-hon-20221118134715442.htm',\n",
              "  '/nhip-song-tre/ha-noi-tuyen-duong-98-thu-khoa-tot-nghiep-xuat-sac-cac-truong-dai-hoc-hoc-vien-20221119203147329.htm',\n",
              "  '/nhip-song-tre/3-cach-chua-lanh-nhung-ton-thuong-tam-ly-20221118073640364.htm',\n",
              "  '/nhip-song-tre/xu-huong-mua-sam-khong-kiem-soat-cua-nguoi-tre-hien-nay-20221117195500078.htm',\n",
              "  '/nhip-song-tre/co-dau-sinh-vien-vua-lam-dam-cuoi-vua-thi-ket-thuc-mon-hoc-20221118202644122.htm',\n",
              "  '/khoa-hoc-cong-nghe/bi-an-hang-tram-con-cuu-di-chuyen-vong-tron-lien-tuc-12-ngay-dem-20221119081119560.htm',\n",
              "  '/khoa-hoc-cong-nghe/anh-chup-trai-dat-dau-tien-gui-ve-tu-su-menh-artemis-1-20221118100804870.htm',\n",
              "  '/khoa-hoc-cong-nghe/hat-vi-nhua-tiem-an-trong-chuoi-thuc-an-de-doa-suc-khoe-con-nguoi-20221118093721815.htm',\n",
              "  '/khoa-hoc-cong-nghe/vi-sao-mot-so-nguoi-hay-bi-muoi-dot-hon-nhung-nguoi-khac-20221118091307263.htm',\n",
              "  '/tam-diem/dang-sau-nhung-kho-khan-gay-gat-cua-nganh-y-20221118160133417.htm',\n",
              "  '/tam-diem/asean-choi-voi-nuoc-lon-nhung-khong-roi-vao-bay-chon-ben-20221118153742461.htm',\n",
              "  '/tam-diem/chuyen-hoi-huong-an-vang-va-ngay-di-san-van-hoa-viet-nam-20221117131956667.htm',\n",
              "  '/tam-diem/co-hoi-chia-phan-nganh-cong-nghiep-1500-ty-usd-20221117190409209.htm',\n",
              "  '/ban-doc/vu-2-cong-dan-bi-danh-tren-tau-ca-khong-co-don-trinh-bao-van-xu-ly-hinh-su-20221118090634853.htm',\n",
              "  '/ban-doc/vu-2-thuyen-vien-bi-hanh-ha-chu-tau-ca-khong-ve-bo-co-bi-truy-cuu-hinh-su-20221118093309916.htm',\n",
              "  '/ban-doc/hang-ngan-nguoi-dan-nin-tho-di-tren-cay-cau-sap-sap-20221117195200677.htm',\n",
              "  '/ban-doc/loat-cong-trinh-trai-phep-tren-dat-lam-nghiep-chinh-quyen-keu-kho-xu-ly-20221117124234073.htm',\n",
              "  '/suc-manh-so/sau-25-nam-vao-viet-nam-internet-da-dua-nguoi-viet-di-xa-den-dau-20221119092636543.htm',\n",
              "  '/doi-song/chuyen-tinh-xuc-dong-co-gai-mien-nam-quyet-ra-bac-vi-chang-trai-ngoi-xe-lan-20221118164900149.htm',\n",
              "  '/bat-dong-san/viet-nam-co-the-hoc-duoc-gi-tu-cuoc-khung-hoang-bat-dong-san-o-trung-quoc-20221117204144719.htm',\n",
              "  '/giao-duc-huong-nghiep/thu-khoa-gen-z-bo-nghiep-dien-theo-duoi-uoc-mo-nha-giao-20221117205911615.htm',\n",
              "  '/xa-hoi/buc-tranh-tau-cat-linh-ha-dong-sau-365-ngay-van-hanh-20221116083247688.htm',\n",
              "  '/xa-hoi/ky-nang-pha-cua-cuon-cua-xep-khi-xay-ra-chay-no-20221114000702379.htm',\n",
              "  '/o-to-xe-may/mau-o-to-nay-gay-bat-ngo-khi-la-xe-ban-chay-nhat-viet-nam-trong-thang-10-20221112005159880.htm',\n",
              "  '/kinh-doanh/chi-tiet-15-chi-tieu-phat-trien-kinh-te-xa-hoi-nam-2023-da-duoc-chot-20221111102658351.htm',\n",
              "  '/lao-dong-viec-lam/ngu-dan-hop-suc-di-giat-lui-keo-me-ca-ky-luc-nang-4-tan-20221118211047353.htm',\n",
              "  '/doi-song/doc-dao-bo-tien-doc-nhat-vo-nhi-tai-viet-nam-cho-vck-world-cup-2022-20221118222937738.htm',\n",
              "  '/van-hoa/ruc-ro-sac-mau-trang-phuc-truyen-thong-cua-cac-dan-toc-thieu-so-viet-nam-20221119042328614.htm',\n",
              "  '/van-hoa/khai-mac-tuan-dai-doan-ket-cac-dan-toc-di-san-van-hoa-viet-nam-2022-20221119020903600.htm'],\n",
              " '',\n",
              " 'https://dantri.com.vn',\n",
              " 'dantri.com.vn',\n",
              " 'fail',\n",
              " 'first')"
            ]
          },
          "execution_count": 39,
          "metadata": {},
          "output_type": "execute_result"
        }
      ],
      "source": [
        "url_extract('https://dantri.com.vn/', key='h3', type='link', bs_on='')"
      ]
    },
    {
      "cell_type": "code",
      "execution_count": 40,
      "metadata": {
        "colab": {
          "base_uri": "https://localhost:8080/"
        },
        "id": "ETH5h9GgpKfJ",
        "outputId": "aea88c4b-ff8b-420e-f297-08e11e0f7e86"
      },
      "outputs": [
        {
          "data": {
            "text/plain": [
              "([' Thứ bảy, 19/11/2022 - 19:51 '],\n",
              " 'Moscow cáo buộc Ukraine kích động xung đột quân sự Nga - NATO | Báo Dân trí',\n",
              " 'https://dantri.com.vn',\n",
              " 'dantri.com.vn',\n",
              " 'try',\n",
              " 'last')"
            ]
          },
          "execution_count": 40,
          "metadata": {},
          "output_type": "execute_result"
        }
      ],
      "source": [
        "url_extract('https://dantri.com.vn/the-gioi/moscow-cao-buoc-ukraine-kich-dong-xung-dot-quan-su-nga-nato-20221119145209276.htm', key='time', tag_class='author-time', type='')"
      ]
    },
    {
      "cell_type": "markdown",
      "metadata": {
        "id": "M5W4VmZgAJcp"
      },
      "source": [
        "## Thanh niên"
      ]
    },
    {
      "cell_type": "code",
      "execution_count": 41,
      "metadata": {
        "colab": {
          "base_uri": "https://localhost:8080/"
        },
        "id": "MlQREA5XpmgY",
        "outputId": "41561706-e5e9-4ccc-b829-348dde022c18"
      },
      "outputs": [
        {
          "data": {
            "text/plain": [
              "([], '', 'https://thanhnien.vn', 'thanhnien.vn', 'try', 'first')"
            ]
          },
          "execution_count": 41,
          "metadata": {},
          "output_type": "execute_result"
        }
      ],
      "source": [
        "url_extract('https://thanhnien.vn/', key='h2', type='link', bs_on='')"
      ]
    },
    {
      "cell_type": "markdown",
      "metadata": {
        "id": "Zf-Iq7PPNW7j"
      },
      "source": [
        "# III. Enhance"
      ]
    },
    {
      "cell_type": "code",
      "execution_count": 42,
      "metadata": {
        "id": "o_amfLyNrcyq"
      },
      "outputs": [],
      "source": [
        "url = 'https://diendandoanhnghiep.vn/https-diendandoanhnghiep-vn-dien-mat-troi-mai-nha-can-hoan-thien-co-che-ho-tro-doanh-nghiep-phat-trien-225626-html-e313.html'\n",
        "key ='span'\n",
        "tag_class = 'created-time'\n",
        "site_name = url.split('/')[2]\n",
        "host = 'https://' + url.split('/')[2]\n",
        "user_agent = 'Mozilla/5.0 (Windows NT 10.0; WOW64; rv:11.0) Gecko/20100101'\n",
        "headers={'User-Agent':user_agent}\n",
        "request= urllib.request.Request(url,None,headers) \n",
        "html = urllib.request.urlopen(request)\n",
        "bs = BeautifulSoup(html.read(), 'lxml')\n",
        "container = bs.find_all(key, {'class':f'{tag_class}'})"
      ]
    },
    {
      "cell_type": "code",
      "execution_count": 43,
      "metadata": {
        "colab": {
          "base_uri": "https://localhost:8080/"
        },
        "id": "_77_np9CC4Id",
        "outputId": "dbffae1c-8236-4e99-f7b5-bd50bb6a83f4"
      },
      "outputs": [
        {
          "data": {
            "text/plain": [
              "[]"
            ]
          },
          "execution_count": 43,
          "metadata": {},
          "output_type": "execute_result"
        }
      ],
      "source": [
        "bs.find_all('div', {'class': 'post-author-share'})"
      ]
    },
    {
      "cell_type": "code",
      "execution_count": 44,
      "metadata": {
        "colab": {
          "base_uri": "https://localhost:8080/",
          "height": 35
        },
        "id": "k6N2J9Bd629N",
        "outputId": "39432712-ab91-43a4-9b6f-aaefac59add8"
      },
      "outputs": [
        {
          "data": {
            "application/vnd.google.colaboratory.intrinsic+json": {
              "type": "string"
            },
            "text/plain": [
              "'ĐIỆN MẶT TRỜI MÁI NHÀ'"
            ]
          },
          "execution_count": 44,
          "metadata": {},
          "output_type": "execute_result"
        }
      ],
      "source": [
        "bs.title.text"
      ]
    },
    {
      "cell_type": "code",
      "execution_count": 45,
      "metadata": {
        "colab": {
          "base_uri": "https://localhost:8080/",
          "height": 35
        },
        "id": "MRFY6D-4R0XL",
        "outputId": "7176030d-40e4-438d-d1eb-0f9b5aba8216"
      },
      "outputs": [
        {
          "data": {
            "application/vnd.google.colaboratory.intrinsic+json": {
              "type": "string"
            },
            "text/plain": [
              "'https://vietstock.vn/2022/11/huyen-thoai-lua-dao-elizabeth-holmes-bi-tuyen-hon-11-nam-tu-4262-1018704.htm'"
            ]
          },
          "execution_count": 45,
          "metadata": {},
          "output_type": "execute_result"
        }
      ],
      "source": [
        "fix_url('https://vietstock.vn', 'https://vietstock.vn/2022/11/huyen-thoai-lua-dao-elizabeth-holmes-bi-tuyen-hon-11-nam-tu-4262-1018704.htm')"
      ]
    },
    {
      "cell_type": "markdown",
      "metadata": {
        "id": "o9c0ZYuSr3v2"
      },
      "source": [
        "# IV. Combine"
      ]
    },
    {
      "cell_type": "code",
      "execution_count": 46,
      "metadata": {
        "colab": {
          "base_uri": "https://localhost:8080/"
        },
        "id": "wAzkvk-bt-Cx",
        "outputId": "591236df-bc1a-48a0-fdb7-b6ed0937cd87"
      },
      "outputs": [
        {
          "name": "stdout",
          "output_type": "stream",
          "text": [
            "https://vietstock.vn/2022/11/huyen-thoai-lua-dao-elizabeth-holmes-bi-tuyen-hon-11-nam-tu-4262-1018704.htm\n",
            "https://vietstock.vn/2022/11/co-phieu-ho-vingroup-dua-vn-index-ve-lai-sat-moc-970-diem-830-1018701.htm\n",
            "https://vietstock.vn/2022/11/go-8216vuong8217-de-nang-tam-thi-truong-chung-khoan-145-1018705.htm\n",
            "https://vietstock.vn/2022/11/bvsc-dieu-chinh-giam-hon-40-ke-hoach-lai-2022-737-1018703.htm\n",
            "https://vietstock.vn/2022/11/ong-pham-nhat-vuong-gop-von-vao-cong-ty-vmi-bang-243-trieu-cp-vic-739-1018698.htm\n",
            "https://vietstock.vn/2022/11/tong-bi-thu-ke-pham-toi-bo-tron-ra-nuoc-ngoai-van-bi-dieu-tra-xet-xu-761-1018545.htm\n",
            "https://vietstock.vn/2022/11/thi-truong-tien-ao-tuan-qua-nhieu-ong-lon-tien-ao-tien-toi-bo-vuc-sup-do-vi-ftx-4309-1018696.htm\n",
            "https://vietstock.vn/2022/11/vu-an-tai-tap-doan-van-thinh-phat-dac-biet-nghiem-trong-chua-tung-co-768-1018683.htm\n",
            "https://vietstock.vn/2022/11/casa-sut-giam-xu-huong-chi-moi-bat-dau-757-1018479.htm\n",
            "https://vietstock.vn/2022/11/thu-tuong-tang-cuong-kiem-tra-giam-sat-de-lanh-manh-hoa-thi-truong-chung-khoan-trai-phieu-761-1018431.htm\n",
            "https://vietstock.vn/2022/11/san-tien-so-ngoai-pha-san-nhieu-nha-dau-tu-noi-trang-tay-4260-1018411.htm\n",
            "https://vietstock.vn/2022/11/them-mot-de-che-tien-dien-tu-10-ty-usd-mot-thoi-co-dau-hieu-khung-hoang-4309-1018282.htm\n",
            "https://vietstock.vn/2022/11/ftx-8211-san-giao-dich-xay-tren-cat-4309-1018706.htm\n",
            "https://vietstock.vn/2022/11/nganh-thep-ky-vong-gi-trong-nam-2023-742-1018685.htm\n",
            "https://vietstock.vn/2022/11/khong-de-nguoi-dan-duong-lac-loi-4265-1018697.htm\n",
            "https://vietstock.vn/2022/11/rui-ro-margin-de-nen-thi-truong-chung-khoan-830-1017856.htm\n",
            "https://vietstock.vn/2022/11/can-tinh-lai-muc-bao-hiem-tien-gui-757-1017569.htm\n",
            "https://vietstock.vn/2022/11/nha-o-vua-tui-tien-co-la-phong-trao-som-no-toi-tan-4222-1017289.htm\n",
            "https://vietstock.vn/2022/11/trai-phieu-doanh-nghiep-tot-hay-xau-3118-1016328.htm\n",
            "https://vietstock.vn/2022/11/ftx-8211-san-giao-dich-xay-tren-cat-4309-1018706.htm\n",
            "https://vietstock.vn/2022/11/nganh-thep-ky-vong-gi-trong-nam-2023-742-1018685.htm\n",
            "https://vietstock.vn/2022/11/chung-khoan-phai-sinh-tuan-21-25112022-giang-co-tro-lai-1636-1018702.htm\n",
            "https://vietstock.vn/2022/11/3-nhan-su-hana-securities-tham-gia-bo-may-lanh-dao-bsi-sau-dhdcd-bat-thuong-737-1018707.htm\n",
            "https://vietstock.vn/2022/11/dau-sut-hon-3-tren-da-giam-2-tuan-lien-tiep-34-1018677.htm\n",
            "https://vietstock.vn/2022/11/gia-thep-ngay-1911-gia-the-gioi-tang-tro-lai-sau-mot-phien-giam-trong-nuoc-on-dinh-742-1018689.htm\n",
            "https://vietstock.vn/2022/11/masayoshi-son-no-softbank-47-ty-usd-4262-1018688.htm\n",
            "https://vietstock.vn/2022/11/gia-vang-ngay-19112022-sjc-giam-200000-dong-sau-mot-dem-759-1018687.htm\n",
            "https://vietstock.vn/2022/11/de-xuat-sua-mot-loat-quy-dinh-bat-hop-ly-ve-xang-dau-34-1018686.htm\n",
            "https://vietstock.vn/2022/11/casa-sut-giam-xu-huong-chi-moi-bat-dau-757-1018479.htm\n",
            "https://vietstock.vn/2022/11/gan-100-trieu-cp-hpg-duoc-sang-tay-co-phieu-tang-3-phien-lien-tiep-830-1018449.htm\n",
            "https://vietstock.vn/2022/11/vnm-tiep-tuc-mua-vao-va-nam-giu-dai-han-582-1016339.htm\n",
            "https://vietstock.vn/2022/11/quy-buon-cua-doanh-nghiep-bao-hiem-phi-nhan-tho-737-1018409.htm\n",
            "https://vietstock.vn/2022/11/lanh-dao-hdc-bi-ban-giai-chap-co-phieu-vi-cong-ty-chung-khoan-dot-ngot-cat-margin-739-1018221.htm\n",
            "https://vietstock.vn/2022/11/petrolimex-ha-muc-tieu-loi-nhuan-2022-con-110-ke-hoach-ban-dau-737-1018180.htm\n",
            "https://vietstock.vn/2022/11/bloomberg-vinfast-co-the-ipo-tai-my-ngay-trong-thang-12023-746-1018178.htm\n",
            "https://vietstock.vn/2022/11/lam-the-nao-de-vuc-day-niem-tin-cho-nha-dau-tu-145-1018172.htm\n",
            "https://vietstock.vn/2022/11/mat-bang-lai-suat-margin-moi-cua-cong-ty-chung-khoan-830-1018438.htm\n",
            "https://vietstock.vn/2022/11/ai-la-nan-nhan-cua-lam-phat-761-1017960.htm\n",
            "https://vietstock.vn/2022/11/gia-tri-bat-bien-cua-nam-long-la-chu-tin-737-1017390.htm\n",
            "https://vietstock.vn/2022/11/cac-quy-trai-phieu-o-viet-nam-kinh-doanh-ra-sao-trong-quy-32022-3118-1016968.htm\n",
            "https://vietstock.vn/2022/11/tuan-kho-khan-cua-co-phieu-bat-dong-san-830-1017135.htm\n",
            "https://vietstock.vn/2022/11/doanh-nghiep-vn30-nao-mang-nhieu-tien-nhat-cho-co-dong-trong-quy-3-737-1016539.htm\n",
            "https://vietstock.vn/2022/11/tiktok-chiem-top-1-thuong-hieu-duoc-yeu-thich-nhat-voi-gen-z-my-4265-1015631.htm\n",
            "https://vietstock.vn/2022/11/cha-de-cua-do-thi-nen-nhat-la-ai-830-1015367.htm\n",
            "https://vietstock.vn/2022/11/rui-ro-margin-de-nen-thi-truong-chung-khoan-830-1017856.htm\n",
            "https://vietstock.vn/2022/11/quan-tri-rui-ro-khi-dau-tu-chung-khoan-3355-1016811.htm\n",
            "https://vietstock.vn/2022/11/hoc-dau-tu-chung-khoan-voi-talkshow-bi-mat-dong-tien-3355-1017374.htm\n",
            "https://vietstock.vn/2022/11/chung-khoan-nhung-bai-hoc-tu-song-bac-3355-1016089.htm\n",
            "https://vietstock.vn/2022/11/phan-biet-dung-8211-sai-trong-dau-tu-chung-khoan-cung-bi-mat-dong-tien-3355-1015744.htm\n",
            "https://vietstock.vn/2022/11/nhung-bai-hoc-dau-tu-chung-khoan-rut-ra-tu-chay-trail-3355-1015648.htm\n",
            "https://vietstock.vn/2022/11/vng-so-huu-toan-bo-thanh-thanh-cong-lam-dong-739-1018421.htm\n",
            "https://vietstock.vn/2022/11/3-nhan-su-hana-securities-tham-gia-bo-may-lanh-dao-bsi-sau-dhdcd-bat-thuong-737-1018707.htm\n",
            "https://vietstock.vn/2022/11/tt-va-3-doanh-nghiep-han-quoc-de-xuat-dieu-chinh-tong-mat-bang-du-an-trung-tam-dien-khi-lng-hai-lang-4222-1018708.htm\n",
            "https://vietstock.vn/2022/11/lai-lon-nho-bat-day-gia-euro-757-1018681.htm\n",
            "https://vietstock.vn/2022/11/nhieu-nong-san-mo-cua-thi-truong-ti-dan-118-1018682.htm\n",
            "https://vietstock.vn/2022/11/tan-dung-cac-fta-gia-tang-co-hoi-thuc-day-hoat-dong-xuat-khau-768-1018684.htm\n",
            "https://vietstock.vn/2022/11/nhin-tu-the-gioi-viet-nam-se-kiem-soat-lam-phat-nhu-the-nao-761-1018187.htm\n",
            "https://vietstock.vn/2022/11/de-che-tien-ao-ftx-sup-do-su-that-chan-dong-lan-dau-duoc-tiet-lo-4309-1018451.htm\n",
            "https://vietstock.vn/2022/11/campuchia-day-manh-xuat-khau-gao-sang-trung-quoc-trong-vai-nam-toi-1326-1016754.htm\n",
            "https://vietstock.vn/2022/11/doanh-so-iphone-tai-viet-nam-tang-truong-nhanh-nhat-dong-nam-a-4264-1018699.htm\n",
            "https://vietstock.vn/2022/11/nhip-dap-thi-truong-1811-kip-xanh-khi-ket-phien-1636-1018418.htm\n",
            "https://vietstock.vn/2022/11/chung-khoan-phai-sinh-tuan-21-25112022-giang-co-tro-lai-1636-1018702.htm\n",
            "https://vietstock.vn/2022/11/phan-tich-ky-thuat-phien-chieu-1811-dieu-chinh-tro-lai-585-1018435.htm\n",
            "https://vietstock.vn/2022/11/vnm-tiep-tuc-mua-vao-va-nam-giu-dai-han-582-1016339.htm\n",
            "https://vietstock.vn/2022/11/thi-truong-chung-quyen-18112022-khoi-ngoai-duy-tri-mua-rong-1636-1018256.htm\n",
            "https://vietstock.vn/2022/10/danh-gia-san-lion-brokers-4645-1007984.htm\n",
            "https://vietstock.vn/2022/09/cac-san-giao-dich-su-dung-nen-tang-mt4-va-mt5-4645-1004006.htm\n",
            "https://vietstock.vn/2022/11/quan-tri-rui-ro-khi-dau-tu-chung-khoan-3355-1016811.htm\n",
            "https://vietstock.vn/2022/11/hoc-dau-tu-chung-khoan-voi-talkshow-bi-mat-dong-tien-3355-1017374.htm\n",
            "https://vietstock.vn/2022/11/chung-khoan-nhung-bai-hoc-tu-song-bac-3355-1016089.htm\n",
            "https://vietstock.vn/2022/11/phan-biet-dung-8211-sai-trong-dau-tu-chung-khoan-cung-bi-mat-dong-tien-3355-1015744.htm\n",
            "https://vietstock.vn/2022/11/nhung-bai-hoc-dau-tu-chung-khoan-rut-ra-tu-chay-trail-3355-1015648.htm\n",
            "https://vietstock.vn/2022/11/doanh-so-iphone-tai-viet-nam-tang-truong-nhanh-nhat-dong-nam-a-4264-1018699.htm\n",
            "https://vietstock.vn/2022/11/dau-gia-that-bai-rolls-royce-ghost-ma-vang-giam-con-hon-91-ty-dong-4264-1018367.htm\n",
            "https://vietstock.vn/2022/11/google-wallet-co-mat-o-dong-nam-a-4264-1018137.htm\n",
            "https://vietstock.vn/2022/11/quoc-hoi-thong-qua-nghi-quyet-ve-thi-diem-dau-gia-bien-so-o-to-gia-khoi-diem-40-trieu-4264-1017674.htm\n",
            "https://vietstock.vn/2022/11/thieu-hut-iphone-14-nguoi-dung-viet-lua-chon-iphone-doi-cu-4264-1017483.htm\n"
          ]
        }
      ],
      "source": [
        "for i in range(len(url_ls)):\n",
        "  output = fix_url('https://vietstock.vn/', url_ls[i])\n",
        "  print(output)"
      ]
    },
    {
      "cell_type": "code",
      "execution_count": 46,
      "metadata": {
        "id": "YPAkheGUuVMZ"
      },
      "outputs": [],
      "source": []
    }
  ],
  "metadata": {
    "colab": {
      "authorship_tag": "ABX9TyPKH+DG+nC/JTAbDPeCCI1Y",
      "collapsed_sections": [
        "faj5DpID_wal"
      ],
      "include_colab_link": true,
      "provenance": [],
      "toc_visible": true
    },
    "kernelspec": {
      "display_name": "Python 3.8.8 ('base')",
      "language": "python",
      "name": "python3"
    },
    "language_info": {
      "name": "python",
      "version": "3.8.8"
    },
    "vscode": {
      "interpreter": {
        "hash": "2c924464bf3460d164a0a9ec1c8c8fcfbf4768545e1cae5bcdecd47b1ca78cd9"
      }
    }
  },
  "nbformat": 4,
  "nbformat_minor": 0
}
